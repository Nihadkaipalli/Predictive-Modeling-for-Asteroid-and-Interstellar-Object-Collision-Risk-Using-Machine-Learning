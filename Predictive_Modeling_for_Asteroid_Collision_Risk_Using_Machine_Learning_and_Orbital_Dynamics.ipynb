{
  "nbformat": 4,
  "nbformat_minor": 0,
  "metadata": {
    "colab": {
      "provenance": [],
      "toc_visible": true,
      "authorship_tag": "ABX9TyM2yFBePDOM7PFJ+4qTYnLX",
      "include_colab_link": true
    },
    "kernelspec": {
      "name": "python3",
      "display_name": "Python 3"
    },
    "language_info": {
      "name": "python"
    }
  },
  "cells": [
    {
      "cell_type": "markdown",
      "metadata": {
        "id": "view-in-github",
        "colab_type": "text"
      },
      "source": [
        "<a href=\"https://colab.research.google.com/github/Nihadkaipalli/Predictive-Modeling-for-Asteroid-and-Interstellar-Object-Collision-Risk-Using-Machine-Learning/blob/main/Predictive_Modeling_for_Asteroid_Collision_Risk_Using_Machine_Learning_and_Orbital_Dynamics.ipynb\" target=\"_parent\"><img src=\"https://colab.research.google.com/assets/colab-badge.svg\" alt=\"Open In Colab\"/></a>"
      ]
    },
    {
      "cell_type": "markdown",
      "source": [
        "# **1. Install Necessary Libraries**"
      ],
      "metadata": {
        "id": "sVSM0TGQCuke"
      }
    },
    {
      "cell_type": "code",
      "source": [
        "!pip install dash pandas numpy matplotlib seaborn scikit-learn tensorflow"
      ],
      "metadata": {
        "colab": {
          "base_uri": "https://localhost:8080/"
        },
        "id": "rEO5VqRjMRs3",
        "outputId": "f1fe3bc3-bd9b-4a25-8c9d-15c1385621c0"
      },
      "execution_count": 14,
      "outputs": [
        {
          "output_type": "stream",
          "name": "stdout",
          "text": [
            "Requirement already satisfied: dash in /usr/local/lib/python3.10/dist-packages (2.18.2)\n",
            "Requirement already satisfied: pandas in /usr/local/lib/python3.10/dist-packages (2.2.2)\n",
            "Requirement already satisfied: numpy in /usr/local/lib/python3.10/dist-packages (1.26.4)\n",
            "Requirement already satisfied: matplotlib in /usr/local/lib/python3.10/dist-packages (3.8.0)\n",
            "Requirement already satisfied: seaborn in /usr/local/lib/python3.10/dist-packages (0.13.2)\n",
            "Requirement already satisfied: scikit-learn in /usr/local/lib/python3.10/dist-packages (1.5.2)\n",
            "Requirement already satisfied: tensorflow in /usr/local/lib/python3.10/dist-packages (2.17.1)\n",
            "Requirement already satisfied: Flask<3.1,>=1.0.4 in /usr/local/lib/python3.10/dist-packages (from dash) (3.0.3)\n",
            "Requirement already satisfied: Werkzeug<3.1 in /usr/local/lib/python3.10/dist-packages (from dash) (3.0.6)\n",
            "Requirement already satisfied: plotly>=5.0.0 in /usr/local/lib/python3.10/dist-packages (from dash) (5.24.1)\n",
            "Requirement already satisfied: dash-html-components==2.0.0 in /usr/local/lib/python3.10/dist-packages (from dash) (2.0.0)\n",
            "Requirement already satisfied: dash-core-components==2.0.0 in /usr/local/lib/python3.10/dist-packages (from dash) (2.0.0)\n",
            "Requirement already satisfied: dash-table==5.0.0 in /usr/local/lib/python3.10/dist-packages (from dash) (5.0.0)\n",
            "Requirement already satisfied: importlib-metadata in /usr/local/lib/python3.10/dist-packages (from dash) (8.5.0)\n",
            "Requirement already satisfied: typing-extensions>=4.1.1 in /usr/local/lib/python3.10/dist-packages (from dash) (4.12.2)\n",
            "Requirement already satisfied: requests in /usr/local/lib/python3.10/dist-packages (from dash) (2.32.3)\n",
            "Requirement already satisfied: retrying in /usr/local/lib/python3.10/dist-packages (from dash) (1.3.4)\n",
            "Requirement already satisfied: nest-asyncio in /usr/local/lib/python3.10/dist-packages (from dash) (1.6.0)\n",
            "Requirement already satisfied: setuptools in /usr/local/lib/python3.10/dist-packages (from dash) (75.1.0)\n",
            "Requirement already satisfied: python-dateutil>=2.8.2 in /usr/local/lib/python3.10/dist-packages (from pandas) (2.8.2)\n",
            "Requirement already satisfied: pytz>=2020.1 in /usr/local/lib/python3.10/dist-packages (from pandas) (2024.2)\n",
            "Requirement already satisfied: tzdata>=2022.7 in /usr/local/lib/python3.10/dist-packages (from pandas) (2024.2)\n",
            "Requirement already satisfied: contourpy>=1.0.1 in /usr/local/lib/python3.10/dist-packages (from matplotlib) (1.3.1)\n",
            "Requirement already satisfied: cycler>=0.10 in /usr/local/lib/python3.10/dist-packages (from matplotlib) (0.12.1)\n",
            "Requirement already satisfied: fonttools>=4.22.0 in /usr/local/lib/python3.10/dist-packages (from matplotlib) (4.54.1)\n",
            "Requirement already satisfied: kiwisolver>=1.0.1 in /usr/local/lib/python3.10/dist-packages (from matplotlib) (1.4.7)\n",
            "Requirement already satisfied: packaging>=20.0 in /usr/local/lib/python3.10/dist-packages (from matplotlib) (24.2)\n",
            "Requirement already satisfied: pillow>=6.2.0 in /usr/local/lib/python3.10/dist-packages (from matplotlib) (11.0.0)\n",
            "Requirement already satisfied: pyparsing>=2.3.1 in /usr/local/lib/python3.10/dist-packages (from matplotlib) (3.2.0)\n",
            "Requirement already satisfied: scipy>=1.6.0 in /usr/local/lib/python3.10/dist-packages (from scikit-learn) (1.13.1)\n",
            "Requirement already satisfied: joblib>=1.2.0 in /usr/local/lib/python3.10/dist-packages (from scikit-learn) (1.4.2)\n",
            "Requirement already satisfied: threadpoolctl>=3.1.0 in /usr/local/lib/python3.10/dist-packages (from scikit-learn) (3.5.0)\n",
            "Requirement already satisfied: absl-py>=1.0.0 in /usr/local/lib/python3.10/dist-packages (from tensorflow) (1.4.0)\n",
            "Requirement already satisfied: astunparse>=1.6.0 in /usr/local/lib/python3.10/dist-packages (from tensorflow) (1.6.3)\n",
            "Requirement already satisfied: flatbuffers>=24.3.25 in /usr/local/lib/python3.10/dist-packages (from tensorflow) (24.3.25)\n",
            "Requirement already satisfied: gast!=0.5.0,!=0.5.1,!=0.5.2,>=0.2.1 in /usr/local/lib/python3.10/dist-packages (from tensorflow) (0.6.0)\n",
            "Requirement already satisfied: google-pasta>=0.1.1 in /usr/local/lib/python3.10/dist-packages (from tensorflow) (0.2.0)\n",
            "Requirement already satisfied: h5py>=3.10.0 in /usr/local/lib/python3.10/dist-packages (from tensorflow) (3.12.1)\n",
            "Requirement already satisfied: libclang>=13.0.0 in /usr/local/lib/python3.10/dist-packages (from tensorflow) (18.1.1)\n",
            "Requirement already satisfied: ml-dtypes<0.5.0,>=0.3.1 in /usr/local/lib/python3.10/dist-packages (from tensorflow) (0.4.1)\n",
            "Requirement already satisfied: opt-einsum>=2.3.2 in /usr/local/lib/python3.10/dist-packages (from tensorflow) (3.4.0)\n",
            "Requirement already satisfied: protobuf!=4.21.0,!=4.21.1,!=4.21.2,!=4.21.3,!=4.21.4,!=4.21.5,<5.0.0dev,>=3.20.3 in /usr/local/lib/python3.10/dist-packages (from tensorflow) (4.25.5)\n",
            "Requirement already satisfied: six>=1.12.0 in /usr/local/lib/python3.10/dist-packages (from tensorflow) (1.16.0)\n",
            "Requirement already satisfied: termcolor>=1.1.0 in /usr/local/lib/python3.10/dist-packages (from tensorflow) (2.5.0)\n",
            "Requirement already satisfied: wrapt>=1.11.0 in /usr/local/lib/python3.10/dist-packages (from tensorflow) (1.16.0)\n",
            "Requirement already satisfied: grpcio<2.0,>=1.24.3 in /usr/local/lib/python3.10/dist-packages (from tensorflow) (1.67.1)\n",
            "Requirement already satisfied: tensorboard<2.18,>=2.17 in /usr/local/lib/python3.10/dist-packages (from tensorflow) (2.17.1)\n",
            "Requirement already satisfied: keras>=3.2.0 in /usr/local/lib/python3.10/dist-packages (from tensorflow) (3.5.0)\n",
            "Requirement already satisfied: tensorflow-io-gcs-filesystem>=0.23.1 in /usr/local/lib/python3.10/dist-packages (from tensorflow) (0.37.1)\n",
            "Requirement already satisfied: wheel<1.0,>=0.23.0 in /usr/local/lib/python3.10/dist-packages (from astunparse>=1.6.0->tensorflow) (0.45.0)\n",
            "Requirement already satisfied: Jinja2>=3.1.2 in /usr/local/lib/python3.10/dist-packages (from Flask<3.1,>=1.0.4->dash) (3.1.4)\n",
            "Requirement already satisfied: itsdangerous>=2.1.2 in /usr/local/lib/python3.10/dist-packages (from Flask<3.1,>=1.0.4->dash) (2.2.0)\n",
            "Requirement already satisfied: click>=8.1.3 in /usr/local/lib/python3.10/dist-packages (from Flask<3.1,>=1.0.4->dash) (8.1.7)\n",
            "Requirement already satisfied: blinker>=1.6.2 in /usr/local/lib/python3.10/dist-packages (from Flask<3.1,>=1.0.4->dash) (1.9.0)\n",
            "Requirement already satisfied: rich in /usr/local/lib/python3.10/dist-packages (from keras>=3.2.0->tensorflow) (13.9.4)\n",
            "Requirement already satisfied: namex in /usr/local/lib/python3.10/dist-packages (from keras>=3.2.0->tensorflow) (0.0.8)\n",
            "Requirement already satisfied: optree in /usr/local/lib/python3.10/dist-packages (from keras>=3.2.0->tensorflow) (0.13.1)\n",
            "Requirement already satisfied: tenacity>=6.2.0 in /usr/local/lib/python3.10/dist-packages (from plotly>=5.0.0->dash) (9.0.0)\n",
            "Requirement already satisfied: charset-normalizer<4,>=2 in /usr/local/lib/python3.10/dist-packages (from requests->dash) (3.4.0)\n",
            "Requirement already satisfied: idna<4,>=2.5 in /usr/local/lib/python3.10/dist-packages (from requests->dash) (3.10)\n",
            "Requirement already satisfied: urllib3<3,>=1.21.1 in /usr/local/lib/python3.10/dist-packages (from requests->dash) (2.2.3)\n",
            "Requirement already satisfied: certifi>=2017.4.17 in /usr/local/lib/python3.10/dist-packages (from requests->dash) (2024.8.30)\n",
            "Requirement already satisfied: markdown>=2.6.8 in /usr/local/lib/python3.10/dist-packages (from tensorboard<2.18,>=2.17->tensorflow) (3.7)\n",
            "Requirement already satisfied: tensorboard-data-server<0.8.0,>=0.7.0 in /usr/local/lib/python3.10/dist-packages (from tensorboard<2.18,>=2.17->tensorflow) (0.7.2)\n",
            "Requirement already satisfied: MarkupSafe>=2.1.1 in /usr/local/lib/python3.10/dist-packages (from Werkzeug<3.1->dash) (3.0.2)\n",
            "Requirement already satisfied: zipp>=3.20 in /usr/local/lib/python3.10/dist-packages (from importlib-metadata->dash) (3.21.0)\n",
            "Requirement already satisfied: markdown-it-py>=2.2.0 in /usr/local/lib/python3.10/dist-packages (from rich->keras>=3.2.0->tensorflow) (3.0.0)\n",
            "Requirement already satisfied: pygments<3.0.0,>=2.13.0 in /usr/local/lib/python3.10/dist-packages (from rich->keras>=3.2.0->tensorflow) (2.18.0)\n",
            "Requirement already satisfied: mdurl~=0.1 in /usr/local/lib/python3.10/dist-packages (from markdown-it-py>=2.2.0->rich->keras>=3.2.0->tensorflow) (0.1.2)\n"
          ]
        }
      ]
    },
    {
      "cell_type": "code",
      "source": [
        "# Import necessary libraries\n",
        "# Data Handling\n",
        "import pandas as pd\n",
        "import numpy as np\n",
        "\n",
        "# Preprocessing and Scaling\n",
        "from sklearn.impute import SimpleImputer\n",
        "from sklearn.preprocessing import StandardScaler\n",
        "\n",
        "# Model Training and Evaluation\n",
        "from sklearn.model_selection import train_test_split, RandomizedSearchCV\n",
        "from sklearn.ensemble import GradientBoostingClassifier, StackingClassifier\n",
        "from sklearn.svm import SVC\n",
        "from sklearn.neural_network import MLPClassifier\n",
        "from sklearn.linear_model import LogisticRegression\n",
        "from sklearn.metrics import classification_report, precision_score, recall_score, f1_score\n",
        "\n",
        "# Visualization\n",
        "import seaborn as sns\n",
        "import matplotlib.pyplot as plt\n",
        "\n",
        "# Monte Carlo Simulation\n",
        "from scipy.stats import norm\n",
        "\n",
        "# Custom Neural Network\n",
        "from tensorflow.keras.models import Sequential\n",
        "from tensorflow.keras.layers import Dense, Dropout, BatchNormalization\n",
        "from tensorflow.keras.optimizers import Adam\n",
        "\n",
        "# Dashboard for Visualization\n",
        "from dash import Dash, dcc, html\n",
        "import plotly.express as px\n",
        "\n",
        "# Email Alerts\n",
        "import smtplib\n"
      ],
      "metadata": {
        "id": "gzhpl2IsBu05"
      },
      "execution_count": 15,
      "outputs": []
    },
    {
      "cell_type": "markdown",
      "source": [
        "# **2. Load and Preprocess Dataset**"
      ],
      "metadata": {
        "id": "FHPIaILvDWIG"
      }
    },
    {
      "cell_type": "code",
      "source": [
        "# Mount Google Drive\n",
        "from google.colab import drive\n",
        "drive.mount('/content/drive')"
      ],
      "metadata": {
        "colab": {
          "base_uri": "https://localhost:8080/"
        },
        "id": "lq5CrZ1SB1O_",
        "outputId": "0a99e46c-2ede-4c55-f730-710630683d28"
      },
      "execution_count": 27,
      "outputs": [
        {
          "output_type": "stream",
          "name": "stdout",
          "text": [
            "Drive already mounted at /content/drive; to attempt to forcibly remount, call drive.mount(\"/content/drive\", force_remount=True).\n"
          ]
        }
      ]
    },
    {
      "cell_type": "markdown",
      "source": [
        "##2.1 Load Dataset"
      ],
      "metadata": {
        "id": "BBraoCqvP3UQ"
      }
    },
    {
      "cell_type": "code",
      "source": [
        "# Load the dataset from Google Drive\n",
        "file_path = '/content/drive/My Drive/Asteroid Collision Dataset.csv'\n",
        "df = pd.read_csv(file_path, low_memory=False)\n",
        "print(\"Dataset loaded successfully!\")"
      ],
      "metadata": {
        "colab": {
          "base_uri": "https://localhost:8080/"
        },
        "id": "5g4wcCYeB9UW",
        "outputId": "68152f0f-3bca-40fb-bd7b-d8a12217dd44"
      },
      "execution_count": 36,
      "outputs": [
        {
          "output_type": "stream",
          "name": "stdout",
          "text": [
            "Dataset loaded successfully!\n"
          ]
        }
      ]
    },
    {
      "cell_type": "code",
      "source": [
        "print(df.columns)"
      ],
      "metadata": {
        "colab": {
          "base_uri": "https://localhost:8080/"
        },
        "id": "Zi5LZMXATgxZ",
        "outputId": "206bb0a6-3c2f-4d55-d75d-844bb34e2f9e"
      },
      "execution_count": 30,
      "outputs": [
        {
          "output_type": "stream",
          "name": "stdout",
          "text": [
            "Index(['spkid', 'full_name', 'epoch', 'e', 'a', 'q', 'i', 'om', 'w', 'ma', 'n',\n",
            "       'tp', 'per_y', 'moid', 'moid_ld', 'moid_jup', 't_jup', 'sigma_e',\n",
            "       'sigma_a', 'sigma_q', 'sigma_i', 'sigma_om', 'sigma_w', 'sigma_ma',\n",
            "       'sigma_tp', 'sigma_per', 'class', 'condition_code', 'H', 'G',\n",
            "       'diameter', 'extent', 'albedo', 'rot_per', 'GM', 'BV', 'UB', 'IR',\n",
            "       'spec_B', 'H_sigma', 'diameter_sigma', 'neo', 'pha', 'orbit_id',\n",
            "       'epoch_mjd', 'epoch_cal', 'equinox', 'ad', 'tp_cal', 'per', 'sigma_ad',\n",
            "       'sigma_n', 'data_arc', 'first_obs', 'last_obs', 'n_obs_used', 'rms',\n",
            "       'two_body', 'A1_sigma', 'A2_sigma', 'A3_sigma', 'DT_sigma'],\n",
            "      dtype='object')\n"
          ]
        }
      ]
    },
    {
      "cell_type": "markdown",
      "source": [
        "##2.2 Handling missing values"
      ],
      "metadata": {
        "id": "RAsgsNVAEH5H"
      }
    },
    {
      "cell_type": "code",
      "source": [
        "# Handle missing values\n",
        "imputer = SimpleImputer(strategy='mean')\n",
        "df[['H', 'diameter', 'albedo', 'rot_per']] = imputer.fit_transform(df[['H', 'diameter', 'albedo', 'rot_per']])"
      ],
      "metadata": {
        "id": "BSH2nJM5EOZ4"
      },
      "execution_count": 31,
      "outputs": []
    },
    {
      "cell_type": "markdown",
      "source": [
        "##2.3 Normalizing features"
      ],
      "metadata": {
        "id": "wOIcApvLEay1"
      }
    },
    {
      "cell_type": "code",
      "source": [
        "# Normalize relevant columns\n",
        "scaler = StandardScaler()\n",
        "df[['e', 'a', 'q', 'i', 'om', 'w', 'ma', 'n']] = scaler.fit_transform(df[['e', 'a', 'q', 'i', 'om', 'w', 'ma', 'n']])"
      ],
      "metadata": {
        "id": "kks0VIIcEgqd"
      },
      "execution_count": 32,
      "outputs": []
    },
    {
      "cell_type": "markdown",
      "source": [
        "##2.4 Create Target and Encode Features"
      ],
      "metadata": {
        "id": "WLHhVWLLPRxv"
      }
    },
    {
      "cell_type": "code",
      "source": [
        "# Convert 'pha' to binary\n",
        "df['pha'] = df['pha'].apply(lambda x: 1 if x == 'Y' else 0)\n",
        "\n",
        "# One-hot encode 'class' column\n",
        "df = pd.get_dummies(df, columns=['class'], drop_first=True)"
      ],
      "metadata": {
        "id": "udVESmFeQODX"
      },
      "execution_count": 37,
      "outputs": []
    },
    {
      "cell_type": "code",
      "source": [
        "print(df.columns)"
      ],
      "metadata": {
        "colab": {
          "base_uri": "https://localhost:8080/"
        },
        "id": "Sk0Jxks7VzBY",
        "outputId": "aafa3b98-29af-4787-e851-1cab5a998dff"
      },
      "execution_count": 39,
      "outputs": [
        {
          "output_type": "stream",
          "name": "stdout",
          "text": [
            "Index(['spkid', 'full_name', 'epoch', 'e', 'a', 'q', 'i', 'om', 'w', 'ma', 'n',\n",
            "       'tp', 'per_y', 'moid', 'moid_ld', 'moid_jup', 't_jup', 'sigma_e',\n",
            "       'sigma_a', 'sigma_q', 'sigma_i', 'sigma_om', 'sigma_w', 'sigma_ma',\n",
            "       'sigma_tp', 'sigma_per', 'condition_code', 'H', 'G', 'diameter',\n",
            "       'extent', 'albedo', 'rot_per', 'GM', 'BV', 'UB', 'IR', 'spec_B',\n",
            "       'H_sigma', 'diameter_sigma', 'neo', 'pha', 'orbit_id', 'epoch_mjd',\n",
            "       'epoch_cal', 'equinox', 'ad', 'tp_cal', 'per', 'sigma_ad', 'sigma_n',\n",
            "       'data_arc', 'first_obs', 'last_obs', 'n_obs_used', 'rms', 'two_body',\n",
            "       'A1_sigma', 'A2_sigma', 'A3_sigma', 'DT_sigma', 'class_APO',\n",
            "       'class_ATE', 'class_HYA', 'class_IEO', 'class_IMB', 'class_MBA',\n",
            "       'class_MCA', 'aphelion', 'perihelion_ratio'],\n",
            "      dtype='object')\n"
          ]
        }
      ]
    },
    {
      "cell_type": "markdown",
      "source": [
        "#**3. Feature Engineering**"
      ],
      "metadata": {
        "id": "SHkZbeSjQX3I"
      }
    },
    {
      "cell_type": "markdown",
      "source": [
        "##3.1 Derived Features"
      ],
      "metadata": {
        "id": "_mvaoeaiQlCY"
      }
    },
    {
      "cell_type": "code",
      "source": [
        "# Add derived features\n",
        "df['aphelion'] = df['a'] * (1 + df['e'])\n",
        "df['perihelion_ratio'] = df['q'] / df['a']"
      ],
      "metadata": {
        "id": "dNelSxmEQrOg"
      },
      "execution_count": 38,
      "outputs": []
    },
    {
      "cell_type": "markdown",
      "source": [
        "##3.2 Gravitational Influence"
      ],
      "metadata": {
        "id": "BtW2UH9fQvO3"
      }
    },
    {
      "cell_type": "code",
      "source": [
        "# Constants\n",
        "G = 6.674e-11  # Gravitational constant (m^3 kg^-1 s^-2)\n",
        "M_sun = 1.989e30  # Mass of the Sun (kg)\n",
        "M_jupiter = 1.898e27  # Mass of Jupiter (kg)\n",
        "M_earth = 5.972e24  # Mass of Earth (kg)\n",
        "AU_to_m = 1.496e11  # Conversion from AU to meters\n",
        "asteroid_density = 2500  # Average asteroid density (kg/m^3)\n",
        "\n",
        "# Function to calculate asteroid mass\n",
        "def calculate_asteroid_mass(diameter_km):\n",
        "    radius_m = (diameter_km * 1000) / 2  # Convert km to meters\n",
        "    volume = (4 / 3) * np.pi * radius_m**3\n",
        "    return volume * asteroid_density\n",
        "\n",
        "# Function to calculate gravitational force\n",
        "def gravitational_force(mass_asteroid, mass_body, distance_au):\n",
        "    distance_m = distance_au * AU_to_m  # Convert AU to meters\n",
        "    return (G * mass_asteroid * mass_body) / (distance_m**2)\n",
        "\n",
        "# Function to calculate total gravitational influence\n",
        "def total_gravitational_influence(row):\n",
        "    mass_asteroid = calculate_asteroid_mass(row['diameter'])\n",
        "    sun_force = gravitational_force(mass_asteroid, M_sun, row['a'])\n",
        "    jupiter_force = gravitational_force(mass_asteroid, M_jupiter, abs(row['a'] - 5.2))\n",
        "    earth_force = gravitational_force(mass_asteroid, M_earth, abs(row['a'] - 1))\n",
        "    return sun_force + jupiter_force + earth_force\n",
        "\n",
        "# Apply to dataset\n",
        "df['gravitational_influence'] = df.apply(total_gravitational_influence, axis=1)"
      ],
      "metadata": {
        "id": "rGL3GHYkQy3X"
      },
      "execution_count": 40,
      "outputs": []
    },
    {
      "cell_type": "markdown",
      "source": [
        "#**4. Exploratory Data Analysis (EDA)**"
      ],
      "metadata": {
        "id": "5LzRfIWxQ3-Y"
      }
    },
    {
      "cell_type": "markdown",
      "source": [
        "##4.1 Visualize Gravitational Influence"
      ],
      "metadata": {
        "id": "37P_u1aNQ_RI"
      }
    },
    {
      "cell_type": "code",
      "source": [
        "# Plot distribution of gravitational influence\n",
        "plt.figure(figsize=(10, 6))\n",
        "sns.histplot(df['gravitational_influence'], kde=True, color='blue')\n",
        "plt.title(\"Distribution of Gravitational Influence\")\n",
        "plt.xlabel(\"Gravitational Influence (N)\")\n",
        "plt.ylabel(\"Frequency\")\n",
        "plt.show()"
      ],
      "metadata": {
        "colab": {
          "base_uri": "https://localhost:8080/",
          "height": 564
        },
        "id": "vfmENUcbRCMn",
        "outputId": "ff4f1e81-7fe6-4c22-887b-5a0f119d6ba9"
      },
      "execution_count": 41,
      "outputs": [
        {
          "output_type": "display_data",
          "data": {
            "text/plain": [
              "<Figure size 1000x600 with 1 Axes>"
            ],
            "image/png": "[encoded data removed]"
          },
          "metadata": {}
        }
      ]
    }
  ]
}