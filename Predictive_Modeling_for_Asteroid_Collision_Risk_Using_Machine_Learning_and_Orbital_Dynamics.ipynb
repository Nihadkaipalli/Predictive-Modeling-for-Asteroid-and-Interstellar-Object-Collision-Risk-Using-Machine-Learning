{
  "nbformat": 4,
  "nbformat_minor": 0,
  "metadata": {
    "colab": {
      "provenance": [],
      "toc_visible": true,
      "authorship_tag": "ABX9TyMp5Cm6PYprt7qWsXeW0/A0",
      "include_colab_link": true
    },
    "kernelspec": {
      "name": "python3",
      "display_name": "Python 3"
    },
    "language_info": {
      "name": "python"
    }
  },
  "cells": [
    {
      "cell_type": "markdown",
      "metadata": {
        "id": "view-in-github",
        "colab_type": "text"
      },
      "source": [
        "<a href=\"https://colab.research.google.com/github/Nihadkaipalli/Predictive-Modeling-for-Asteroid-and-Interstellar-Object-Collision-Risk-Using-Machine-Learning/blob/main/Predictive_Modeling_for_Asteroid_Collision_Risk_Using_Machine_Learning_and_Orbital_Dynamics.ipynb\" target=\"_parent\"><img src=\"https://colab.research.google.com/assets/colab-badge.svg\" alt=\"Open In Colab\"/></a>"
      ]
    },
    {
      "cell_type": "markdown",
      "source": [
        "# **1. Install Necessary Libraries**"
      ],
      "metadata": {
        "id": "sVSM0TGQCuke"
      }
    },
    {
      "cell_type": "code",
      "source": [
        "!pip install dash pandas numpy matplotlib seaborn scikit-learn tensorflow"
      ],
      "metadata": {
        "colab": {
          "base_uri": "https://localhost:8080/"
        },
        "id": "rEO5VqRjMRs3",
        "outputId": "f1fe3bc3-bd9b-4a25-8c9d-15c1385621c0"
      },
      "execution_count": 14,
      "outputs": [
        {
          "output_type": "stream",
          "name": "stdout",
          "text": [
            "Requirement already satisfied: dash in /usr/local/lib/python3.10/dist-packages (2.18.2)\n",
            "Requirement already satisfied: pandas in /usr/local/lib/python3.10/dist-packages (2.2.2)\n",
            "Requirement already satisfied: numpy in /usr/local/lib/python3.10/dist-packages (1.26.4)\n",
            "Requirement already satisfied: matplotlib in /usr/local/lib/python3.10/dist-packages (3.8.0)\n",
            "Requirement already satisfied: seaborn in /usr/local/lib/python3.10/dist-packages (0.13.2)\n",
            "Requirement already satisfied: scikit-learn in /usr/local/lib/python3.10/dist-packages (1.5.2)\n",
            "Requirement already satisfied: tensorflow in /usr/local/lib/python3.10/dist-packages (2.17.1)\n",
            "Requirement already satisfied: Flask<3.1,>=1.0.4 in /usr/local/lib/python3.10/dist-packages (from dash) (3.0.3)\n",
            "Requirement already satisfied: Werkzeug<3.1 in /usr/local/lib/python3.10/dist-packages (from dash) (3.0.6)\n",
            "Requirement already satisfied: plotly>=5.0.0 in /usr/local/lib/python3.10/dist-packages (from dash) (5.24.1)\n",
            "Requirement already satisfied: dash-html-components==2.0.0 in /usr/local/lib/python3.10/dist-packages (from dash) (2.0.0)\n",
            "Requirement already satisfied: dash-core-components==2.0.0 in /usr/local/lib/python3.10/dist-packages (from dash) (2.0.0)\n",
            "Requirement already satisfied: dash-table==5.0.0 in /usr/local/lib/python3.10/dist-packages (from dash) (5.0.0)\n",
            "Requirement already satisfied: importlib-metadata in /usr/local/lib/python3.10/dist-packages (from dash) (8.5.0)\n",
            "Requirement already satisfied: typing-extensions>=4.1.1 in /usr/local/lib/python3.10/dist-packages (from dash) (4.12.2)\n",
            "Requirement already satisfied: requests in /usr/local/lib/python3.10/dist-packages (from dash) (2.32.3)\n",
            "Requirement already satisfied: retrying in /usr/local/lib/python3.10/dist-packages (from dash) (1.3.4)\n",
            "Requirement already satisfied: nest-asyncio in /usr/local/lib/python3.10/dist-packages (from dash) (1.6.0)\n",
            "Requirement already satisfied: setuptools in /usr/local/lib/python3.10/dist-packages (from dash) (75.1.0)\n",
            "Requirement already satisfied: python-dateutil>=2.8.2 in /usr/local/lib/python3.10/dist-packages (from pandas) (2.8.2)\n",
            "Requirement already satisfied: pytz>=2020.1 in /usr/local/lib/python3.10/dist-packages (from pandas) (2024.2)\n",
            "Requirement already satisfied: tzdata>=2022.7 in /usr/local/lib/python3.10/dist-packages (from pandas) (2024.2)\n",
            "Requirement already satisfied: contourpy>=1.0.1 in /usr/local/lib/python3.10/dist-packages (from matplotlib) (1.3.1)\n",
            "Requirement already satisfied: cycler>=0.10 in /usr/local/lib/python3.10/dist-packages (from matplotlib) (0.12.1)\n",
            "Requirement already satisfied: fonttools>=4.22.0 in /usr/local/lib/python3.10/dist-packages (from matplotlib) (4.54.1)\n",
            "Requirement already satisfied: kiwisolver>=1.0.1 in /usr/local/lib/python3.10/dist-packages (from matplotlib) (1.4.7)\n",
            "Requirement already satisfied: packaging>=20.0 in /usr/local/lib/python3.10/dist-packages (from matplotlib) (24.2)\n",
            "Requirement already satisfied: pillow>=6.2.0 in /usr/local/lib/python3.10/dist-packages (from matplotlib) (11.0.0)\n",
            "Requirement already satisfied: pyparsing>=2.3.1 in /usr/local/lib/python3.10/dist-packages (from matplotlib) (3.2.0)\n",
            "Requirement already satisfied: scipy>=1.6.0 in /usr/local/lib/python3.10/dist-packages (from scikit-learn) (1.13.1)\n",
            "Requirement already satisfied: joblib>=1.2.0 in /usr/local/lib/python3.10/dist-packages (from scikit-learn) (1.4.2)\n",
            "Requirement already satisfied: threadpoolctl>=3.1.0 in /usr/local/lib/python3.10/dist-packages (from scikit-learn) (3.5.0)\n",
            "Requirement already satisfied: absl-py>=1.0.0 in /usr/local/lib/python3.10/dist-packages (from tensorflow) (1.4.0)\n",
            "Requirement already satisfied: astunparse>=1.6.0 in /usr/local/lib/python3.10/dist-packages (from tensorflow) (1.6.3)\n",
            "Requirement already satisfied: flatbuffers>=24.3.25 in /usr/local/lib/python3.10/dist-packages (from tensorflow) (24.3.25)\n",
            "Requirement already satisfied: gast!=0.5.0,!=0.5.1,!=0.5.2,>=0.2.1 in /usr/local/lib/python3.10/dist-packages (from tensorflow) (0.6.0)\n",
            "Requirement already satisfied: google-pasta>=0.1.1 in /usr/local/lib/python3.10/dist-packages (from tensorflow) (0.2.0)\n",
            "Requirement already satisfied: h5py>=3.10.0 in /usr/local/lib/python3.10/dist-packages (from tensorflow) (3.12.1)\n",
            "Requirement already satisfied: libclang>=13.0.0 in /usr/local/lib/python3.10/dist-packages (from tensorflow) (18.1.1)\n",
            "Requirement already satisfied: ml-dtypes<0.5.0,>=0.3.1 in /usr/local/lib/python3.10/dist-packages (from tensorflow) (0.4.1)\n",
            "Requirement already satisfied: opt-einsum>=2.3.2 in /usr/local/lib/python3.10/dist-packages (from tensorflow) (3.4.0)\n",
            "Requirement already satisfied: protobuf!=4.21.0,!=4.21.1,!=4.21.2,!=4.21.3,!=4.21.4,!=4.21.5,<5.0.0dev,>=3.20.3 in /usr/local/lib/python3.10/dist-packages (from tensorflow) (4.25.5)\n",
            "Requirement already satisfied: six>=1.12.0 in /usr/local/lib/python3.10/dist-packages (from tensorflow) (1.16.0)\n",
            "Requirement already satisfied: termcolor>=1.1.0 in /usr/local/lib/python3.10/dist-packages (from tensorflow) (2.5.0)\n",
            "Requirement already satisfied: wrapt>=1.11.0 in /usr/local/lib/python3.10/dist-packages (from tensorflow) (1.16.0)\n",
            "Requirement already satisfied: grpcio<2.0,>=1.24.3 in /usr/local/lib/python3.10/dist-packages (from tensorflow) (1.67.1)\n",
            "Requirement already satisfied: tensorboard<2.18,>=2.17 in /usr/local/lib/python3.10/dist-packages (from tensorflow) (2.17.1)\n",
            "Requirement already satisfied: keras>=3.2.0 in /usr/local/lib/python3.10/dist-packages (from tensorflow) (3.5.0)\n",
            "Requirement already satisfied: tensorflow-io-gcs-filesystem>=0.23.1 in /usr/local/lib/python3.10/dist-packages (from tensorflow) (0.37.1)\n",
            "Requirement already satisfied: wheel<1.0,>=0.23.0 in /usr/local/lib/python3.10/dist-packages (from astunparse>=1.6.0->tensorflow) (0.45.0)\n",
            "Requirement already satisfied: Jinja2>=3.1.2 in /usr/local/lib/python3.10/dist-packages (from Flask<3.1,>=1.0.4->dash) (3.1.4)\n",
            "Requirement already satisfied: itsdangerous>=2.1.2 in /usr/local/lib/python3.10/dist-packages (from Flask<3.1,>=1.0.4->dash) (2.2.0)\n",
            "Requirement already satisfied: click>=8.1.3 in /usr/local/lib/python3.10/dist-packages (from Flask<3.1,>=1.0.4->dash) (8.1.7)\n",
            "Requirement already satisfied: blinker>=1.6.2 in /usr/local/lib/python3.10/dist-packages (from Flask<3.1,>=1.0.4->dash) (1.9.0)\n",
            "Requirement already satisfied: rich in /usr/local/lib/python3.10/dist-packages (from keras>=3.2.0->tensorflow) (13.9.4)\n",
            "Requirement already satisfied: namex in /usr/local/lib/python3.10/dist-packages (from keras>=3.2.0->tensorflow) (0.0.8)\n",
            "Requirement already satisfied: optree in /usr/local/lib/python3.10/dist-packages (from keras>=3.2.0->tensorflow) (0.13.1)\n",
            "Requirement already satisfied: tenacity>=6.2.0 in /usr/local/lib/python3.10/dist-packages (from plotly>=5.0.0->dash) (9.0.0)\n",
            "Requirement already satisfied: charset-normalizer<4,>=2 in /usr/local/lib/python3.10/dist-packages (from requests->dash) (3.4.0)\n",
            "Requirement already satisfied: idna<4,>=2.5 in /usr/local/lib/python3.10/dist-packages (from requests->dash) (3.10)\n",
            "Requirement already satisfied: urllib3<3,>=1.21.1 in /usr/local/lib/python3.10/dist-packages (from requests->dash) (2.2.3)\n",
            "Requirement already satisfied: certifi>=2017.4.17 in /usr/local/lib/python3.10/dist-packages (from requests->dash) (2024.8.30)\n",
            "Requirement already satisfied: markdown>=2.6.8 in /usr/local/lib/python3.10/dist-packages (from tensorboard<2.18,>=2.17->tensorflow) (3.7)\n",
            "Requirement already satisfied: tensorboard-data-server<0.8.0,>=0.7.0 in /usr/local/lib/python3.10/dist-packages (from tensorboard<2.18,>=2.17->tensorflow) (0.7.2)\n",
            "Requirement already satisfied: MarkupSafe>=2.1.1 in /usr/local/lib/python3.10/dist-packages (from Werkzeug<3.1->dash) (3.0.2)\n",
            "Requirement already satisfied: zipp>=3.20 in /usr/local/lib/python3.10/dist-packages (from importlib-metadata->dash) (3.21.0)\n",
            "Requirement already satisfied: markdown-it-py>=2.2.0 in /usr/local/lib/python3.10/dist-packages (from rich->keras>=3.2.0->tensorflow) (3.0.0)\n",
            "Requirement already satisfied: pygments<3.0.0,>=2.13.0 in /usr/local/lib/python3.10/dist-packages (from rich->keras>=3.2.0->tensorflow) (2.18.0)\n",
            "Requirement already satisfied: mdurl~=0.1 in /usr/local/lib/python3.10/dist-packages (from markdown-it-py>=2.2.0->rich->keras>=3.2.0->tensorflow) (0.1.2)\n"
          ]
        }
      ]
    },
    {
      "cell_type": "code",
      "source": [
        "# Import necessary libraries\n",
        "# Data Handling\n",
        "import pandas as pd\n",
        "import numpy as np\n",
        "\n",
        "# Preprocessing and Scaling\n",
        "from sklearn.impute import SimpleImputer\n",
        "from sklearn.preprocessing import StandardScaler\n",
        "\n",
        "# Model Training and Evaluation\n",
        "from sklearn.model_selection import train_test_split, RandomizedSearchCV\n",
        "from sklearn.ensemble import GradientBoostingClassifier, StackingClassifier\n",
        "from sklearn.svm import SVC\n",
        "from sklearn.neural_network import MLPClassifier\n",
        "from sklearn.linear_model import LogisticRegression\n",
        "from sklearn.metrics import classification_report, precision_score, recall_score, f1_score\n",
        "\n",
        "# Visualization\n",
        "import seaborn as sns\n",
        "import matplotlib.pyplot as plt\n",
        "\n",
        "# Monte Carlo Simulation\n",
        "from scipy.stats import norm\n",
        "\n",
        "# Custom Neural Network\n",
        "from tensorflow.keras.models import Sequential\n",
        "from tensorflow.keras.layers import Dense, Dropout, BatchNormalization\n",
        "from tensorflow.keras.optimizers import Adam\n",
        "\n",
        "# Dashboard for Visualization\n",
        "from dash import Dash, dcc, html\n",
        "import plotly.express as px\n",
        "\n",
        "# Email Alerts\n",
        "import smtplib\n"
      ],
      "metadata": {
        "id": "gzhpl2IsBu05"
      },
      "execution_count": 44,
      "outputs": []
    },
    {
      "cell_type": "markdown",
      "source": [
        "# **2. Load and Preprocess Dataset**"
      ],
      "metadata": {
        "id": "FHPIaILvDWIG"
      }
    },
    {
      "cell_type": "code",
      "source": [
        "# Mount Google Drive\n",
        "from google.colab import drive\n",
        "drive.mount('/content/drive')"
      ],
      "metadata": {
        "colab": {
          "base_uri": "https://localhost:8080/"
        },
        "id": "lq5CrZ1SB1O_",
        "outputId": "0a99e46c-2ede-4c55-f730-710630683d28"
      },
      "execution_count": 27,
      "outputs": [
        {
          "output_type": "stream",
          "name": "stdout",
          "text": [
            "Drive already mounted at /content/drive; to attempt to forcibly remount, call drive.mount(\"/content/drive\", force_remount=True).\n"
          ]
        }
      ]
    },
    {
      "cell_type": "markdown",
      "source": [
        "##2.1 Load Dataset"
      ],
      "metadata": {
        "id": "BBraoCqvP3UQ"
      }
    },
    {
      "cell_type": "code",
      "source": [
        "# Load the dataset from Google Drive\n",
        "file_path = '/content/drive/My Drive/Asteroid Collision Dataset.csv'\n",
        "df = pd.read_csv(file_path, low_memory=False)\n",
        "print(\"Dataset loaded successfully!\")"
      ],
      "metadata": {
        "colab": {
          "base_uri": "https://localhost:8080/"
        },
        "id": "5g4wcCYeB9UW",
        "outputId": "68152f0f-3bca-40fb-bd7b-d8a12217dd44"
      },
      "execution_count": 36,
      "outputs": [
        {
          "output_type": "stream",
          "name": "stdout",
          "text": [
            "Dataset loaded successfully!\n"
          ]
        }
      ]
    },
    {
      "cell_type": "code",
      "source": [
        "print(df.columns)"
      ],
      "metadata": {
        "colab": {
          "base_uri": "https://localhost:8080/"
        },
        "id": "Zi5LZMXATgxZ",
        "outputId": "206bb0a6-3c2f-4d55-d75d-844bb34e2f9e"
      },
      "execution_count": 30,
      "outputs": [
        {
          "output_type": "stream",
          "name": "stdout",
          "text": [
            "Index(['spkid', 'full_name', 'epoch', 'e', 'a', 'q', 'i', 'om', 'w', 'ma', 'n',\n",
            "       'tp', 'per_y', 'moid', 'moid_ld', 'moid_jup', 't_jup', 'sigma_e',\n",
            "       'sigma_a', 'sigma_q', 'sigma_i', 'sigma_om', 'sigma_w', 'sigma_ma',\n",
            "       'sigma_tp', 'sigma_per', 'class', 'condition_code', 'H', 'G',\n",
            "       'diameter', 'extent', 'albedo', 'rot_per', 'GM', 'BV', 'UB', 'IR',\n",
            "       'spec_B', 'H_sigma', 'diameter_sigma', 'neo', 'pha', 'orbit_id',\n",
            "       'epoch_mjd', 'epoch_cal', 'equinox', 'ad', 'tp_cal', 'per', 'sigma_ad',\n",
            "       'sigma_n', 'data_arc', 'first_obs', 'last_obs', 'n_obs_used', 'rms',\n",
            "       'two_body', 'A1_sigma', 'A2_sigma', 'A3_sigma', 'DT_sigma'],\n",
            "      dtype='object')\n"
          ]
        }
      ]
    },
    {
      "cell_type": "markdown",
      "source": [
        "##2.2 Handling missing values"
      ],
      "metadata": {
        "id": "RAsgsNVAEH5H"
      }
    },
    {
      "cell_type": "code",
      "source": [
        "# Handle missing values\n",
        "imputer = SimpleImputer(strategy='mean')\n",
        "df[['H', 'diameter', 'albedo', 'rot_per']] = imputer.fit_transform(df[['H', 'diameter', 'albedo', 'rot_per']])"
      ],
      "metadata": {
        "id": "BSH2nJM5EOZ4"
      },
      "execution_count": 31,
      "outputs": []
    },
    {
      "cell_type": "markdown",
      "source": [
        "##2.3 Normalizing features"
      ],
      "metadata": {
        "id": "wOIcApvLEay1"
      }
    },
    {
      "cell_type": "code",
      "source": [
        "# Normalize relevant columns\n",
        "scaler = StandardScaler()\n",
        "df[['e', 'a', 'q', 'i', 'om', 'w', 'ma', 'n']] = scaler.fit_transform(df[['e', 'a', 'q', 'i', 'om', 'w', 'ma', 'n']])"
      ],
      "metadata": {
        "id": "kks0VIIcEgqd"
      },
      "execution_count": 32,
      "outputs": []
    },
    {
      "cell_type": "markdown",
      "source": [
        "##2.4 Create Target and Encode Features"
      ],
      "metadata": {
        "id": "WLHhVWLLPRxv"
      }
    },
    {
      "cell_type": "code",
      "source": [
        "# Convert 'pha' to binary\n",
        "df['pha'] = df['pha'].apply(lambda x: 1 if x == 'Y' else 0)\n",
        "\n",
        "# One-hot encode 'class' column\n",
        "df = pd.get_dummies(df, columns=['class'], drop_first=True)"
      ],
      "metadata": {
        "id": "udVESmFeQODX"
      },
      "execution_count": 37,
      "outputs": []
    },
    {
      "cell_type": "code",
      "source": [
        "print(df.columns)"
      ],
      "metadata": {
        "colab": {
          "base_uri": "https://localhost:8080/"
        },
        "id": "Sk0Jxks7VzBY",
        "outputId": "aafa3b98-29af-4787-e851-1cab5a998dff"
      },
      "execution_count": 39,
      "outputs": [
        {
          "output_type": "stream",
          "name": "stdout",
          "text": [
            "Index(['spkid', 'full_name', 'epoch', 'e', 'a', 'q', 'i', 'om', 'w', 'ma', 'n',\n",
            "       'tp', 'per_y', 'moid', 'moid_ld', 'moid_jup', 't_jup', 'sigma_e',\n",
            "       'sigma_a', 'sigma_q', 'sigma_i', 'sigma_om', 'sigma_w', 'sigma_ma',\n",
            "       'sigma_tp', 'sigma_per', 'condition_code', 'H', 'G', 'diameter',\n",
            "       'extent', 'albedo', 'rot_per', 'GM', 'BV', 'UB', 'IR', 'spec_B',\n",
            "       'H_sigma', 'diameter_sigma', 'neo', 'pha', 'orbit_id', 'epoch_mjd',\n",
            "       'epoch_cal', 'equinox', 'ad', 'tp_cal', 'per', 'sigma_ad', 'sigma_n',\n",
            "       'data_arc', 'first_obs', 'last_obs', 'n_obs_used', 'rms', 'two_body',\n",
            "       'A1_sigma', 'A2_sigma', 'A3_sigma', 'DT_sigma', 'class_APO',\n",
            "       'class_ATE', 'class_HYA', 'class_IEO', 'class_IMB', 'class_MBA',\n",
            "       'class_MCA', 'aphelion', 'perihelion_ratio'],\n",
            "      dtype='object')\n"
          ]
        }
      ]
    },
    {
      "cell_type": "markdown",
      "source": [
        "#**3. Feature Engineering**"
      ],
      "metadata": {
        "id": "SHkZbeSjQX3I"
      }
    },
    {
      "cell_type": "markdown",
      "source": [
        "##3.1 Derived Features"
      ],
      "metadata": {
        "id": "_mvaoeaiQlCY"
      }
    },
    {
      "cell_type": "code",
      "source": [
        "# Add derived features\n",
        "df['aphelion'] = df['a'] * (1 + df['e'])\n",
        "df['perihelion_ratio'] = df['q'] / df['a']"
      ],
      "metadata": {
        "id": "dNelSxmEQrOg"
      },
      "execution_count": 38,
      "outputs": []
    },
    {
      "cell_type": "markdown",
      "source": [
        "##3.2 Gravitational Influence"
      ],
      "metadata": {
        "id": "BtW2UH9fQvO3"
      }
    },
    {
      "cell_type": "code",
      "source": [
        "# Constants\n",
        "G = 6.674e-11  # Gravitational constant (m^3 kg^-1 s^-2)\n",
        "M_sun = 1.989e30  # Mass of the Sun (kg)\n",
        "M_jupiter = 1.898e27  # Mass of Jupiter (kg)\n",
        "M_earth = 5.972e24  # Mass of Earth (kg)\n",
        "AU_to_m = 1.496e11  # Conversion from AU to meters\n",
        "asteroid_density = 2500  # Average asteroid density (kg/m^3)\n",
        "\n",
        "# Function to calculate asteroid mass\n",
        "def calculate_asteroid_mass(diameter_km):\n",
        "    radius_m = (diameter_km * 1000) / 2  # Convert km to meters\n",
        "    volume = (4 / 3) * np.pi * radius_m**3\n",
        "    return volume * asteroid_density\n",
        "\n",
        "# Function to calculate gravitational force\n",
        "def gravitational_force(mass_asteroid, mass_body, distance_au):\n",
        "    distance_m = distance_au * AU_to_m  # Convert AU to meters\n",
        "    return (G * mass_asteroid * mass_body) / (distance_m**2)\n",
        "\n",
        "# Function to calculate total gravitational influence\n",
        "def total_gravitational_influence(row):\n",
        "    mass_asteroid = calculate_asteroid_mass(row['diameter'])\n",
        "    sun_force = gravitational_force(mass_asteroid, M_sun, row['a'])\n",
        "    jupiter_force = gravitational_force(mass_asteroid, M_jupiter, abs(row['a'] - 5.2))\n",
        "    earth_force = gravitational_force(mass_asteroid, M_earth, abs(row['a'] - 1))\n",
        "    return sun_force + jupiter_force + earth_force\n",
        "\n",
        "# Apply to dataset\n",
        "df['gravitational_influence'] = df.apply(total_gravitational_influence, axis=1)"
      ],
      "metadata": {
        "id": "rGL3GHYkQy3X"
      },
      "execution_count": 40,
      "outputs": []
    },
    {
      "cell_type": "markdown",
      "source": [
        "#**4. Exploratory Data Analysis (EDA)**"
      ],
      "metadata": {
        "id": "5LzRfIWxQ3-Y"
      }
    },
    {
      "cell_type": "markdown",
      "source": [
        "##4.1 Dataset Overview"
      ],
      "metadata": {
        "id": "37P_u1aNQ_RI"
      }
    },
    {
      "cell_type": "code",
      "source": [
        "# Display the first few rows of the dataset\n",
        "print(\"Dataset Overview:\")\n",
        "print(df.head())\n",
        "\n",
        "# Check for missing values\n",
        "print(\"\\nMissing Values:\")\n",
        "print(df.isnull().sum())\n",
        "\n",
        "# Dataset statistics\n",
        "print(\"\\nDataset Statistics:\")\n",
        "print(df.describe())\n",
        "\n",
        "# Check data types\n",
        "print(\"\\nData Types:\")\n",
        "print(df.dtypes)"
      ],
      "metadata": {
        "colab": {
          "base_uri": "https://localhost:8080/"
        },
        "id": "vfmENUcbRCMn",
        "outputId": "5a365087-3c00-4418-a4e4-fbabae12f71e"
      },
      "execution_count": 42,
      "outputs": [
        {
          "output_type": "stream",
          "name": "stdout",
          "text": [
            "Dataset Overview:\n",
            "     spkid          full_name      epoch         e         a         q  \\\n",
            "0  3246901          (1935 UZ)  2428097.5  0.251325  2.149638  1.609380   \n",
            "1  3246902          (1937 CK)  2460600.5  0.138476  2.320503  1.999169   \n",
            "2  3246903          (1939 RR)  2429540.5  0.253684  2.904675  2.167804   \n",
            "3  3246904          (1942 RH)  2430612.5  0.145324  2.257216  1.929189   \n",
            "4  3399586         (1960 SB1)  2460600.5  0.497848  2.980188  1.496508   \n",
            "\n",
            "           i          om           w          ma  ...  class_APO  class_ATE  \\\n",
            "0   4.728640  134.342070  281.563658  342.283793  ...      False      False   \n",
            "1   6.549856  273.834058  130.418938   26.673482  ...      False      False   \n",
            "2  13.139290  322.997330   64.837530  324.193410  ...      False      False   \n",
            "3   4.223982  205.857738  134.532417    3.933410  ...      False      False   \n",
            "4   9.579659  196.301529  224.419191  219.607359  ...      False      False   \n",
            "\n",
            "   class_HYA  class_IEO  class_IMB  class_MBA  class_MCA  aphelion  \\\n",
            "0      False      False      False      False       True  2.689895   \n",
            "1      False      False      False       True      False  2.641838   \n",
            "2      False      False      False       True      False  3.641545   \n",
            "3      False      False      False       True      False  2.585243   \n",
            "4      False      False      False      False       True  4.463868   \n",
            "\n",
            "   perihelion_ratio  gravitational_influence  \n",
            "0          0.748675                      NaN  \n",
            "1          0.861524                      NaN  \n",
            "2          0.746316                      NaN  \n",
            "3          0.854676                      NaN  \n",
            "4          0.502152                      NaN  \n",
            "\n",
            "[5 rows x 71 columns]\n",
            "\n",
            "Missing Values:\n",
            "spkid                           0\n",
            "full_name                       0\n",
            "epoch                           0\n",
            "e                               0\n",
            "a                               0\n",
            "                            ...  \n",
            "class_MBA                       0\n",
            "class_MCA                       0\n",
            "aphelion                        0\n",
            "perihelion_ratio                0\n",
            "gravitational_influence    647258\n",
            "Length: 71, dtype: int64\n",
            "\n",
            "Dataset Statistics:\n",
            "              spkid         epoch              e              a  \\\n",
            "count  6.560170e+05  6.560170e+05  656017.000000  656017.000000   \n",
            "mean   3.605410e+07  2.460383e+06       0.179894       2.611891   \n",
            "std    2.425075e+07  9.253256e+02       0.104939      19.367631   \n",
            "min    1.002272e+06  2.400004e+06       0.000179  -15675.358600   \n",
            "25%    3.879383e+06  2.460600e+06       0.109362       2.379675   \n",
            "50%    5.411965e+07  2.460600e+06       0.168350       2.649637   \n",
            "75%    5.431062e+07  2.460600e+06       0.224769       2.995033   \n",
            "max    5.448968e+07  2.460600e+06       1.201134     338.924933   \n",
            "\n",
            "                   q              i             om              w  \\\n",
            "count  656017.000000  656017.000000  656017.000000  656017.000000   \n",
            "mean        2.169782       9.981664     170.997282     182.136636   \n",
            "std         0.458521       6.812578     103.619783     103.992700   \n",
            "min         0.070431       0.005985       0.000380       0.000076   \n",
            "25%         1.908349       4.771313      81.773928      92.193273   \n",
            "50%         2.167611       8.755423     163.470285     184.256224   \n",
            "75%         2.506487      13.576449     258.355240     272.064865   \n",
            "max         3.190655     165.592677     359.999838     359.999903   \n",
            "\n",
            "                  ma             n  ...       data_arc     n_obs_used  \\\n",
            "count  656017.000000  6.560170e+05  ...  651136.000000  656017.000000   \n",
            "mean      178.771675  2.464005e-01  ...    3612.668404      50.167291   \n",
            "std       106.386944  1.012411e-01  ...    2634.423783      41.176812   \n",
            "min        -0.000043  5.022013e-07  ...       1.000000       3.000000   \n",
            "25%        84.969519  1.901522e-01  ...    1104.000000      24.000000   \n",
            "50%       178.677858  2.285200e-01  ...    3798.000000      41.000000   \n",
            "75%       271.186926  2.684897e-01  ...    5629.000000      64.000000   \n",
            "max       367.882647  3.141225e+00  ...   25330.000000    2430.000000   \n",
            "\n",
            "                 rms      A1_sigma      A2_sigma      A3_sigma  DT_sigma  \\\n",
            "count  656016.000000  1.700000e+01  1.560000e+02  7.000000e+00       0.0   \n",
            "mean        0.548540  2.187873e-09  1.587681e-10  3.217886e-09       NaN   \n",
            "std         0.197787  8.648205e-09  1.957541e-09  8.498205e-09       NaN   \n",
            "min         0.000002  2.503000e-12  1.050000e-15  1.121000e-12       NaN   \n",
            "25%         0.484000  1.108000e-11  1.395000e-14  2.366000e-12       NaN   \n",
            "50%         0.561870  2.168000e-11  2.463500e-14  3.947000e-12       NaN   \n",
            "75%         0.632510  5.822000e-11  4.808250e-14  1.270050e-11       NaN   \n",
            "max        75.614000  3.574000e-08  2.445000e-08  2.249000e-08       NaN   \n",
            "\n",
            "            aphelion  perihelion_ratio  gravitational_influence  \n",
            "count  656017.000000     656017.000000             8.759000e+03  \n",
            "mean        3.054000          0.820106             2.002217e+10  \n",
            "std        38.729128          0.104939             2.265911e+10  \n",
            "min    -31352.075457         -0.201134             1.150694e+02  \n",
            "25%         2.815171          0.775231             6.685237e+09  \n",
            "50%         3.112988          0.831650             1.288266e+10  \n",
            "75%         3.411992          0.890638             2.439465e+10  \n",
            "max       676.591630          0.999821             2.648849e+11  \n",
            "\n",
            "[8 rows x 54 columns]\n",
            "\n",
            "Data Types:\n",
            "spkid                        int64\n",
            "full_name                   object\n",
            "epoch                      float64\n",
            "e                          float64\n",
            "a                          float64\n",
            "                            ...   \n",
            "class_MBA                     bool\n",
            "class_MCA                     bool\n",
            "aphelion                   float64\n",
            "perihelion_ratio           float64\n",
            "gravitational_influence    float64\n",
            "Length: 71, dtype: object\n"
          ]
        }
      ]
    },
    {
      "cell_type": "markdown",
      "source": [
        "##4.2 Correlation Matrix"
      ],
      "metadata": {
        "id": "5NQYc0KSb1EC"
      }
    },
    {
      "cell_type": "code",
      "source": [
        "# Correlation heatmap\n",
        "plt.figure(figsize=(12, 8))\n",
        "sns.heatmap(df.corr(), annot=True, cmap='coolwarm', fmt='.2f')\n",
        "plt.title(\"Correlation Matrix\")\n",
        "plt.show()"
      ],
      "metadata": {
        "colab": {
          "base_uri": "https://localhost:8080/",
          "height": 373
        },
        "id": "GsgQ_Yn4b81K",
        "outputId": "4026780b-6c7f-474e-8de3-01315733513b"
      },
      "execution_count": 45,
      "outputs": [
        {
          "output_type": "error",
          "ename": "ValueError",
          "evalue": "could not convert string to float: '       (1935 UZ)'",
          "traceback": [
            "\u001b[0;31m---------------------------------------------------------------------------\u001b[0m",
            "\u001b[0;31mValueError\u001b[0m                                Traceback (most recent call last)",
            "\u001b[0;32m<ipython-input-45-ef1f3518db6a>\u001b[0m in \u001b[0;36m<cell line: 3>\u001b[0;34m()\u001b[0m\n\u001b[1;32m      1\u001b[0m \u001b[0;31m# Correlation heatmap\u001b[0m\u001b[0;34m\u001b[0m\u001b[0;34m\u001b[0m\u001b[0m\n\u001b[1;32m      2\u001b[0m \u001b[0mplt\u001b[0m\u001b[0;34m.\u001b[0m\u001b[0mfigure\u001b[0m\u001b[0;34m(\u001b[0m\u001b[0mfigsize\u001b[0m\u001b[0;34m=\u001b[0m\u001b[0;34m(\u001b[0m\u001b[0;36m12\u001b[0m\u001b[0;34m,\u001b[0m \u001b[0;36m8\u001b[0m\u001b[0;34m)\u001b[0m\u001b[0;34m)\u001b[0m\u001b[0;34m\u001b[0m\u001b[0;34m\u001b[0m\u001b[0m\n\u001b[0;32m----> 3\u001b[0;31m \u001b[0msns\u001b[0m\u001b[0;34m.\u001b[0m\u001b[0mheatmap\u001b[0m\u001b[0;34m(\u001b[0m\u001b[0mdf\u001b[0m\u001b[0;34m.\u001b[0m\u001b[0mcorr\u001b[0m\u001b[0;34m(\u001b[0m\u001b[0;34m)\u001b[0m\u001b[0;34m,\u001b[0m \u001b[0mannot\u001b[0m\u001b[0;34m=\u001b[0m\u001b[0;32mTrue\u001b[0m\u001b[0;34m,\u001b[0m \u001b[0mcmap\u001b[0m\u001b[0;34m=\u001b[0m\u001b[0;34m'coolwarm'\u001b[0m\u001b[0;34m,\u001b[0m \u001b[0mfmt\u001b[0m\u001b[0;34m=\u001b[0m\u001b[0;34m'.2f'\u001b[0m\u001b[0;34m)\u001b[0m\u001b[0;34m\u001b[0m\u001b[0;34m\u001b[0m\u001b[0m\n\u001b[0m\u001b[1;32m      4\u001b[0m \u001b[0mplt\u001b[0m\u001b[0;34m.\u001b[0m\u001b[0mtitle\u001b[0m\u001b[0;34m(\u001b[0m\u001b[0;34m\"Correlation Matrix\"\u001b[0m\u001b[0;34m)\u001b[0m\u001b[0;34m\u001b[0m\u001b[0;34m\u001b[0m\u001b[0m\n\u001b[1;32m      5\u001b[0m \u001b[0mplt\u001b[0m\u001b[0;34m.\u001b[0m\u001b[0mshow\u001b[0m\u001b[0;34m(\u001b[0m\u001b[0;34m)\u001b[0m\u001b[0;34m\u001b[0m\u001b[0;34m\u001b[0m\u001b[0m\n",
            "\u001b[0;32m/usr/local/lib/python3.10/dist-packages/pandas/core/frame.py\u001b[0m in \u001b[0;36mcorr\u001b[0;34m(self, method, min_periods, numeric_only)\u001b[0m\n\u001b[1;32m  11047\u001b[0m         \u001b[0mcols\u001b[0m \u001b[0;34m=\u001b[0m \u001b[0mdata\u001b[0m\u001b[0;34m.\u001b[0m\u001b[0mcolumns\u001b[0m\u001b[0;34m\u001b[0m\u001b[0;34m\u001b[0m\u001b[0m\n\u001b[1;32m  11048\u001b[0m         \u001b[0midx\u001b[0m \u001b[0;34m=\u001b[0m \u001b[0mcols\u001b[0m\u001b[0;34m.\u001b[0m\u001b[0mcopy\u001b[0m\u001b[0;34m(\u001b[0m\u001b[0;34m)\u001b[0m\u001b[0;34m\u001b[0m\u001b[0;34m\u001b[0m\u001b[0m\n\u001b[0;32m> 11049\u001b[0;31m         \u001b[0mmat\u001b[0m \u001b[0;34m=\u001b[0m \u001b[0mdata\u001b[0m\u001b[0;34m.\u001b[0m\u001b[0mto_numpy\u001b[0m\u001b[0;34m(\u001b[0m\u001b[0mdtype\u001b[0m\u001b[0;34m=\u001b[0m\u001b[0mfloat\u001b[0m\u001b[0;34m,\u001b[0m \u001b[0mna_value\u001b[0m\u001b[0;34m=\u001b[0m\u001b[0mnp\u001b[0m\u001b[0;34m.\u001b[0m\u001b[0mnan\u001b[0m\u001b[0;34m,\u001b[0m \u001b[0mcopy\u001b[0m\u001b[0;34m=\u001b[0m\u001b[0;32mFalse\u001b[0m\u001b[0;34m)\u001b[0m\u001b[0;34m\u001b[0m\u001b[0;34m\u001b[0m\u001b[0m\n\u001b[0m\u001b[1;32m  11050\u001b[0m \u001b[0;34m\u001b[0m\u001b[0m\n\u001b[1;32m  11051\u001b[0m         \u001b[0;32mif\u001b[0m \u001b[0mmethod\u001b[0m \u001b[0;34m==\u001b[0m \u001b[0;34m\"pearson\"\u001b[0m\u001b[0;34m:\u001b[0m\u001b[0;34m\u001b[0m\u001b[0;34m\u001b[0m\u001b[0m\n",
            "\u001b[0;32m/usr/local/lib/python3.10/dist-packages/pandas/core/frame.py\u001b[0m in \u001b[0;36mto_numpy\u001b[0;34m(self, dtype, copy, na_value)\u001b[0m\n\u001b[1;32m   1991\u001b[0m         \u001b[0;32mif\u001b[0m \u001b[0mdtype\u001b[0m \u001b[0;32mis\u001b[0m \u001b[0;32mnot\u001b[0m \u001b[0;32mNone\u001b[0m\u001b[0;34m:\u001b[0m\u001b[0;34m\u001b[0m\u001b[0;34m\u001b[0m\u001b[0m\n\u001b[1;32m   1992\u001b[0m             \u001b[0mdtype\u001b[0m \u001b[0;34m=\u001b[0m \u001b[0mnp\u001b[0m\u001b[0;34m.\u001b[0m\u001b[0mdtype\u001b[0m\u001b[0;34m(\u001b[0m\u001b[0mdtype\u001b[0m\u001b[0;34m)\u001b[0m\u001b[0;34m\u001b[0m\u001b[0;34m\u001b[0m\u001b[0m\n\u001b[0;32m-> 1993\u001b[0;31m         \u001b[0mresult\u001b[0m \u001b[0;34m=\u001b[0m \u001b[0mself\u001b[0m\u001b[0;34m.\u001b[0m\u001b[0m_mgr\u001b[0m\u001b[0;34m.\u001b[0m\u001b[0mas_array\u001b[0m\u001b[0;34m(\u001b[0m\u001b[0mdtype\u001b[0m\u001b[0;34m=\u001b[0m\u001b[0mdtype\u001b[0m\u001b[0;34m,\u001b[0m \u001b[0mcopy\u001b[0m\u001b[0;34m=\u001b[0m\u001b[0mcopy\u001b[0m\u001b[0;34m,\u001b[0m \u001b[0mna_value\u001b[0m\u001b[0;34m=\u001b[0m\u001b[0mna_value\u001b[0m\u001b[0;34m)\u001b[0m\u001b[0;34m\u001b[0m\u001b[0;34m\u001b[0m\u001b[0m\n\u001b[0m\u001b[1;32m   1994\u001b[0m         \u001b[0;32mif\u001b[0m \u001b[0mresult\u001b[0m\u001b[0;34m.\u001b[0m\u001b[0mdtype\u001b[0m \u001b[0;32mis\u001b[0m \u001b[0;32mnot\u001b[0m \u001b[0mdtype\u001b[0m\u001b[0;34m:\u001b[0m\u001b[0;34m\u001b[0m\u001b[0;34m\u001b[0m\u001b[0m\n\u001b[1;32m   1995\u001b[0m             \u001b[0mresult\u001b[0m \u001b[0;34m=\u001b[0m \u001b[0mnp\u001b[0m\u001b[0;34m.\u001b[0m\u001b[0masarray\u001b[0m\u001b[0;34m(\u001b[0m\u001b[0mresult\u001b[0m\u001b[0;34m,\u001b[0m \u001b[0mdtype\u001b[0m\u001b[0;34m=\u001b[0m\u001b[0mdtype\u001b[0m\u001b[0;34m)\u001b[0m\u001b[0;34m\u001b[0m\u001b[0;34m\u001b[0m\u001b[0m\n",
            "\u001b[0;32m/usr/local/lib/python3.10/dist-packages/pandas/core/internals/managers.py\u001b[0m in \u001b[0;36mas_array\u001b[0;34m(self, dtype, copy, na_value)\u001b[0m\n\u001b[1;32m   1692\u001b[0m                 \u001b[0marr\u001b[0m\u001b[0;34m.\u001b[0m\u001b[0mflags\u001b[0m\u001b[0;34m.\u001b[0m\u001b[0mwriteable\u001b[0m \u001b[0;34m=\u001b[0m \u001b[0;32mFalse\u001b[0m\u001b[0;34m\u001b[0m\u001b[0;34m\u001b[0m\u001b[0m\n\u001b[1;32m   1693\u001b[0m         \u001b[0;32melse\u001b[0m\u001b[0;34m:\u001b[0m\u001b[0;34m\u001b[0m\u001b[0;34m\u001b[0m\u001b[0m\n\u001b[0;32m-> 1694\u001b[0;31m             \u001b[0marr\u001b[0m \u001b[0;34m=\u001b[0m \u001b[0mself\u001b[0m\u001b[0;34m.\u001b[0m\u001b[0m_interleave\u001b[0m\u001b[0;34m(\u001b[0m\u001b[0mdtype\u001b[0m\u001b[0;34m=\u001b[0m\u001b[0mdtype\u001b[0m\u001b[0;34m,\u001b[0m \u001b[0mna_value\u001b[0m\u001b[0;34m=\u001b[0m\u001b[0mna_value\u001b[0m\u001b[0;34m)\u001b[0m\u001b[0;34m\u001b[0m\u001b[0;34m\u001b[0m\u001b[0m\n\u001b[0m\u001b[1;32m   1695\u001b[0m             \u001b[0;31m# The underlying data was copied within _interleave, so no need\u001b[0m\u001b[0;34m\u001b[0m\u001b[0;34m\u001b[0m\u001b[0m\n\u001b[1;32m   1696\u001b[0m             \u001b[0;31m# to further copy if copy=True or setting na_value\u001b[0m\u001b[0;34m\u001b[0m\u001b[0;34m\u001b[0m\u001b[0m\n",
            "\u001b[0;32m/usr/local/lib/python3.10/dist-packages/pandas/core/internals/managers.py\u001b[0m in \u001b[0;36m_interleave\u001b[0;34m(self, dtype, na_value)\u001b[0m\n\u001b[1;32m   1751\u001b[0m             \u001b[0;32melse\u001b[0m\u001b[0;34m:\u001b[0m\u001b[0;34m\u001b[0m\u001b[0;34m\u001b[0m\u001b[0m\n\u001b[1;32m   1752\u001b[0m                 \u001b[0marr\u001b[0m \u001b[0;34m=\u001b[0m \u001b[0mblk\u001b[0m\u001b[0;34m.\u001b[0m\u001b[0mget_values\u001b[0m\u001b[0;34m(\u001b[0m\u001b[0mdtype\u001b[0m\u001b[0;34m)\u001b[0m\u001b[0;34m\u001b[0m\u001b[0;34m\u001b[0m\u001b[0m\n\u001b[0;32m-> 1753\u001b[0;31m             \u001b[0mresult\u001b[0m\u001b[0;34m[\u001b[0m\u001b[0mrl\u001b[0m\u001b[0;34m.\u001b[0m\u001b[0mindexer\u001b[0m\u001b[0;34m]\u001b[0m \u001b[0;34m=\u001b[0m \u001b[0marr\u001b[0m\u001b[0;34m\u001b[0m\u001b[0;34m\u001b[0m\u001b[0m\n\u001b[0m\u001b[1;32m   1754\u001b[0m             \u001b[0mitemmask\u001b[0m\u001b[0;34m[\u001b[0m\u001b[0mrl\u001b[0m\u001b[0;34m.\u001b[0m\u001b[0mindexer\u001b[0m\u001b[0;34m]\u001b[0m \u001b[0;34m=\u001b[0m \u001b[0;36m1\u001b[0m\u001b[0;34m\u001b[0m\u001b[0;34m\u001b[0m\u001b[0m\n\u001b[1;32m   1755\u001b[0m \u001b[0;34m\u001b[0m\u001b[0m\n",
            "\u001b[0;31mValueError\u001b[0m: could not convert string to float: '       (1935 UZ)'"
          ]
        },
        {
          "output_type": "display_data",
          "data": {
            "text/plain": [
              "<Figure size 1200x800 with 0 Axes>"
            ]
          },
          "metadata": {}
        }
      ]
    }
  ]
}