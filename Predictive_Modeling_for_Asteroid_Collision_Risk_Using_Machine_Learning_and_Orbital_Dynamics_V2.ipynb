{
  "nbformat": 4,
  "nbformat_minor": 0,
  "metadata": {
    "colab": {
      "provenance": [],
      "gpuType": "T4",
      "authorship_tag": "ABX9TyOLgFnGs/ixeQmg2RcKDwVG"
    },
    "kernelspec": {
      "name": "python3",
      "display_name": "Python 3"
    },
    "language_info": {
      "name": "python"
    },
    "accelerator": "GPU"
  },
  "cells": [
    {
      "cell_type": "code",
      "source": [
        "# Mount Google Drive (if using Google Colab)\n",
        "from google.colab import drive\n",
        "drive.mount('/content/drive')\n",
        "\n",
        "# Install required packages (if not already installed)\n",
        "!pip install pandas numpy scikit-learn tensorflow matplotlib seaborn\n"
      ],
      "metadata": {
        "colab": {
          "base_uri": "https://localhost:8080/"
        },
        "id": "aV0sd7_kFe5B",
        "outputId": "ddd4aa09-789c-45b7-fedd-87f3b54109eb"
      },
      "execution_count": 1,
      "outputs": [
        {
          "output_type": "stream",
          "name": "stdout",
          "text": [
            "Drive already mounted at /content/drive; to attempt to forcibly remount, call drive.mount(\"/content/drive\", force_remount=True).\n",
            "Requirement already satisfied: pandas in /usr/local/lib/python3.10/dist-packages (2.2.2)\n",
            "Requirement already satisfied: numpy in /usr/local/lib/python3.10/dist-packages (1.26.4)\n",
            "Requirement already satisfied: scikit-learn in /usr/local/lib/python3.10/dist-packages (1.5.2)\n",
            "Requirement already satisfied: tensorflow in /usr/local/lib/python3.10/dist-packages (2.17.1)\n",
            "Requirement already satisfied: matplotlib in /usr/local/lib/python3.10/dist-packages (3.8.0)\n",
            "Requirement already satisfied: seaborn in /usr/local/lib/python3.10/dist-packages (0.13.2)\n",
            "Requirement already satisfied: python-dateutil>=2.8.2 in /usr/local/lib/python3.10/dist-packages (from pandas) (2.8.2)\n",
            "Requirement already satisfied: pytz>=2020.1 in /usr/local/lib/python3.10/dist-packages (from pandas) (2024.2)\n",
            "Requirement already satisfied: tzdata>=2022.7 in /usr/local/lib/python3.10/dist-packages (from pandas) (2024.2)\n",
            "Requirement already satisfied: scipy>=1.6.0 in /usr/local/lib/python3.10/dist-packages (from scikit-learn) (1.13.1)\n",
            "Requirement already satisfied: joblib>=1.2.0 in /usr/local/lib/python3.10/dist-packages (from scikit-learn) (1.4.2)\n",
            "Requirement already satisfied: threadpoolctl>=3.1.0 in /usr/local/lib/python3.10/dist-packages (from scikit-learn) (3.5.0)\n",
            "Requirement already satisfied: absl-py>=1.0.0 in /usr/local/lib/python3.10/dist-packages (from tensorflow) (1.4.0)\n",
            "Requirement already satisfied: astunparse>=1.6.0 in /usr/local/lib/python3.10/dist-packages (from tensorflow) (1.6.3)\n",
            "Requirement already satisfied: flatbuffers>=24.3.25 in /usr/local/lib/python3.10/dist-packages (from tensorflow) (24.3.25)\n",
            "Requirement already satisfied: gast!=0.5.0,!=0.5.1,!=0.5.2,>=0.2.1 in /usr/local/lib/python3.10/dist-packages (from tensorflow) (0.6.0)\n",
            "Requirement already satisfied: google-pasta>=0.1.1 in /usr/local/lib/python3.10/dist-packages (from tensorflow) (0.2.0)\n",
            "Requirement already satisfied: h5py>=3.10.0 in /usr/local/lib/python3.10/dist-packages (from tensorflow) (3.12.1)\n",
            "Requirement already satisfied: libclang>=13.0.0 in /usr/local/lib/python3.10/dist-packages (from tensorflow) (18.1.1)\n",
            "Requirement already satisfied: ml-dtypes<0.5.0,>=0.3.1 in /usr/local/lib/python3.10/dist-packages (from tensorflow) (0.4.1)\n",
            "Requirement already satisfied: opt-einsum>=2.3.2 in /usr/local/lib/python3.10/dist-packages (from tensorflow) (3.4.0)\n",
            "Requirement already satisfied: packaging in /usr/local/lib/python3.10/dist-packages (from tensorflow) (24.2)\n",
            "Requirement already satisfied: protobuf!=4.21.0,!=4.21.1,!=4.21.2,!=4.21.3,!=4.21.4,!=4.21.5,<5.0.0dev,>=3.20.3 in /usr/local/lib/python3.10/dist-packages (from tensorflow) (4.25.5)\n",
            "Requirement already satisfied: requests<3,>=2.21.0 in /usr/local/lib/python3.10/dist-packages (from tensorflow) (2.32.3)\n",
            "Requirement already satisfied: setuptools in /usr/local/lib/python3.10/dist-packages (from tensorflow) (75.1.0)\n",
            "Requirement already satisfied: six>=1.12.0 in /usr/local/lib/python3.10/dist-packages (from tensorflow) (1.16.0)\n",
            "Requirement already satisfied: termcolor>=1.1.0 in /usr/local/lib/python3.10/dist-packages (from tensorflow) (2.5.0)\n",
            "Requirement already satisfied: typing-extensions>=3.6.6 in /usr/local/lib/python3.10/dist-packages (from tensorflow) (4.12.2)\n",
            "Requirement already satisfied: wrapt>=1.11.0 in /usr/local/lib/python3.10/dist-packages (from tensorflow) (1.16.0)\n",
            "Requirement already satisfied: grpcio<2.0,>=1.24.3 in /usr/local/lib/python3.10/dist-packages (from tensorflow) (1.68.0)\n",
            "Requirement already satisfied: tensorboard<2.18,>=2.17 in /usr/local/lib/python3.10/dist-packages (from tensorflow) (2.17.1)\n",
            "Requirement already satisfied: keras>=3.2.0 in /usr/local/lib/python3.10/dist-packages (from tensorflow) (3.5.0)\n",
            "Requirement already satisfied: tensorflow-io-gcs-filesystem>=0.23.1 in /usr/local/lib/python3.10/dist-packages (from tensorflow) (0.37.1)\n",
            "Requirement already satisfied: contourpy>=1.0.1 in /usr/local/lib/python3.10/dist-packages (from matplotlib) (1.3.1)\n",
            "Requirement already satisfied: cycler>=0.10 in /usr/local/lib/python3.10/dist-packages (from matplotlib) (0.12.1)\n",
            "Requirement already satisfied: fonttools>=4.22.0 in /usr/local/lib/python3.10/dist-packages (from matplotlib) (4.55.0)\n",
            "Requirement already satisfied: kiwisolver>=1.0.1 in /usr/local/lib/python3.10/dist-packages (from matplotlib) (1.4.7)\n",
            "Requirement already satisfied: pillow>=6.2.0 in /usr/local/lib/python3.10/dist-packages (from matplotlib) (11.0.0)\n",
            "Requirement already satisfied: pyparsing>=2.3.1 in /usr/local/lib/python3.10/dist-packages (from matplotlib) (3.2.0)\n",
            "Requirement already satisfied: wheel<1.0,>=0.23.0 in /usr/local/lib/python3.10/dist-packages (from astunparse>=1.6.0->tensorflow) (0.45.0)\n",
            "Requirement already satisfied: rich in /usr/local/lib/python3.10/dist-packages (from keras>=3.2.0->tensorflow) (13.9.4)\n",
            "Requirement already satisfied: namex in /usr/local/lib/python3.10/dist-packages (from keras>=3.2.0->tensorflow) (0.0.8)\n",
            "Requirement already satisfied: optree in /usr/local/lib/python3.10/dist-packages (from keras>=3.2.0->tensorflow) (0.13.1)\n",
            "Requirement already satisfied: charset-normalizer<4,>=2 in /usr/local/lib/python3.10/dist-packages (from requests<3,>=2.21.0->tensorflow) (3.4.0)\n",
            "Requirement already satisfied: idna<4,>=2.5 in /usr/local/lib/python3.10/dist-packages (from requests<3,>=2.21.0->tensorflow) (3.10)\n",
            "Requirement already satisfied: urllib3<3,>=1.21.1 in /usr/local/lib/python3.10/dist-packages (from requests<3,>=2.21.0->tensorflow) (2.2.3)\n",
            "Requirement already satisfied: certifi>=2017.4.17 in /usr/local/lib/python3.10/dist-packages (from requests<3,>=2.21.0->tensorflow) (2024.8.30)\n",
            "Requirement already satisfied: markdown>=2.6.8 in /usr/local/lib/python3.10/dist-packages (from tensorboard<2.18,>=2.17->tensorflow) (3.7)\n",
            "Requirement already satisfied: tensorboard-data-server<0.8.0,>=0.7.0 in /usr/local/lib/python3.10/dist-packages (from tensorboard<2.18,>=2.17->tensorflow) (0.7.2)\n",
            "Requirement already satisfied: werkzeug>=1.0.1 in /usr/local/lib/python3.10/dist-packages (from tensorboard<2.18,>=2.17->tensorflow) (3.1.3)\n",
            "Requirement already satisfied: MarkupSafe>=2.1.1 in /usr/local/lib/python3.10/dist-packages (from werkzeug>=1.0.1->tensorboard<2.18,>=2.17->tensorflow) (3.0.2)\n",
            "Requirement already satisfied: markdown-it-py>=2.2.0 in /usr/local/lib/python3.10/dist-packages (from rich->keras>=3.2.0->tensorflow) (3.0.0)\n",
            "Requirement already satisfied: pygments<3.0.0,>=2.13.0 in /usr/local/lib/python3.10/dist-packages (from rich->keras>=3.2.0->tensorflow) (2.18.0)\n",
            "Requirement already satisfied: mdurl~=0.1 in /usr/local/lib/python3.10/dist-packages (from markdown-it-py>=2.2.0->rich->keras>=3.2.0->tensorflow) (0.1.2)\n"
          ]
        }
      ]
    },
    {
      "cell_type": "code",
      "execution_count": 2,
      "metadata": {
        "colab": {
          "base_uri": "https://localhost:8080/"
        },
        "id": "Clh3bFNPD6CY",
        "outputId": "4e0ccf44-a407-4bf8-8f08-4e62c7b32bc3"
      },
      "outputs": [
        {
          "output_type": "stream",
          "name": "stdout",
          "text": [
            "Dataset Shape: (677494, 79)\n",
            "First 5 Rows:\n",
            "    diameter  extent  albedo  rot_per  GM  BV  UB  IR spec_B  spec_T  ...  \\\n",
            "0       NaN     NaN     NaN      NaN NaN NaN NaN NaN    NaN     NaN  ...   \n",
            "1       NaN     NaN     NaN      NaN NaN NaN NaN NaN    NaN     NaN  ...   \n",
            "2       NaN     NaN     NaN      NaN NaN NaN NaN NaN    NaN     NaN  ...   \n",
            "3       NaN     NaN     NaN      NaN NaN NaN NaN NaN    NaN     NaN  ...   \n",
            "4       NaN     NaN     NaN      NaN NaN NaN NaN NaN    NaN     NaN  ...   \n",
            "\n",
            "        rms  two_body  A1  A1_sigma  A2  A2_sigma  A3  A3_sigma  DT  DT_sigma  \n",
            "0  0.000533       NaN NaN       NaN NaN       NaN NaN       NaN NaN       NaN  \n",
            "1  0.071263       NaN NaN       NaN NaN       NaN NaN       NaN NaN       NaN  \n",
            "2  0.000002       NaN NaN       NaN NaN       NaN NaN       NaN NaN       NaN  \n",
            "3       NaN         T NaN       NaN NaN       NaN NaN       NaN NaN       NaN  \n",
            "4  0.339380       NaN NaN       NaN NaN       NaN NaN       NaN NaN       NaN  \n",
            "\n",
            "[5 rows x 79 columns]\n"
          ]
        }
      ],
      "source": [
        "# Import libraries\n",
        "import pandas as pd\n",
        "import numpy as np\n",
        "\n",
        "# Load the dataset\n",
        "file_path = '/content/drive/My Drive/Asteroid Collision Dataset V2.csv'\n",
        "df = pd.read_csv(file_path, low_memory=False)\n",
        "\n",
        "# Inspect the dataset\n",
        "print(\"Dataset Shape:\", df.shape)\n",
        "print(\"First 5 Rows:\\n\", df.head())"
      ]
    },
    {
      "cell_type": "code",
      "source": [
        "# Missing Data Analysis\n",
        "missing_summary = df.isnull().mean().sort_values(ascending=False) * 100\n",
        "missing_summary = missing_summary[missing_summary > 0]\n",
        "print(\"\\nMissing Data Summary (Percentage of Missing Values):\")\n",
        "print(missing_summary)"
      ],
      "metadata": {
        "colab": {
          "base_uri": "https://localhost:8080/"
        },
        "id": "sCGDZzB9F2E6",
        "outputId": "99c99608-8ae7-422a-c968-38c71a1f6ac8"
      },
      "execution_count": 3,
      "outputs": [
        {
          "output_type": "stream",
          "name": "stdout",
          "text": [
            "\n",
            "Missing Data Summary (Percentage of Missing Values):\n",
            "DT_sigma          100.000000\n",
            "extent            100.000000\n",
            "G                 100.000000\n",
            "M1                100.000000\n",
            "GM                100.000000\n",
            "BV                100.000000\n",
            "UB                100.000000\n",
            "IR                100.000000\n",
            "M2                100.000000\n",
            "spec_T            100.000000\n",
            "DT                100.000000\n",
            "K1                100.000000\n",
            "K2                100.000000\n",
            "PC                100.000000\n",
            "name               99.999852\n",
            "prefix             99.999410\n",
            "A3                 99.998967\n",
            "A3_sigma           99.998967\n",
            "A1_sigma           99.997491\n",
            "A1                 99.997491\n",
            "spec_B             99.992620\n",
            "A2_sigma           99.976531\n",
            "A2                 99.976531\n",
            "n_del_obs_used     99.910700\n",
            "n_dop_obs_used     99.910700\n",
            "rot_per            99.801179\n",
            "two_body           99.062427\n",
            "albedo             99.040582\n",
            "diameter_sigma     98.987002\n",
            "diameter           98.986559\n",
            "H_sigma            15.064635\n",
            "sigma_per           0.937868\n",
            "sigma_ad            0.937868\n",
            "pha                 0.937720\n",
            "moid                0.937573\n",
            "sigma_tp            0.937573\n",
            "sigma_n             0.937573\n",
            "sigma_ma            0.937573\n",
            "sigma_w             0.937573\n",
            "sigma_om            0.937573\n",
            "sigma_i             0.937573\n",
            "sigma_q             0.937573\n",
            "sigma_a             0.937573\n",
            "moid_jup            0.937573\n",
            "moid_ld             0.937573\n",
            "sigma_e             0.937573\n",
            "data_arc            0.392771\n",
            "H                   0.146717\n",
            "condition_code      0.001033\n",
            "neo                 0.000295\n",
            "per_y               0.000295\n",
            "per                 0.000295\n",
            "ad                  0.000295\n",
            "t_jup               0.000295\n",
            "rms                 0.000148\n",
            "dtype: float64\n"
          ]
        }
      ]
    },
    {
      "cell_type": "code",
      "source": [
        "# Drop Columns with Excessive Missing Values and Irrelevant Columns\n",
        "missing_threshold = 0.9  # 90%\n",
        "cols_to_drop_missing = missing_summary[missing_summary > missing_threshold * 100].index.tolist()\n",
        "irrelevant_columns = ['producer', 'equinox', 'orbit_id','pdes',]\n",
        "cols_to_drop = list(set(cols_to_drop_missing + irrelevant_columns))\n",
        "\n",
        "df.drop(columns=cols_to_drop, inplace=True, errors='ignore')\n",
        "print(\"\\nDropped Columns:\")\n",
        "for col in cols_to_drop:\n",
        "    print(f\" - {col}\")"
      ],
      "metadata": {
        "colab": {
          "base_uri": "https://localhost:8080/"
        },
        "id": "O0oJSXZ6GIlx",
        "outputId": "92cb51cf-59ac-4a6a-e9a6-af3a61caa6bb"
      },
      "execution_count": 4,
      "outputs": [
        {
          "output_type": "stream",
          "name": "stdout",
          "text": [
            "\n",
            "Dropped Columns:\n",
            " - spec_T\n",
            " - IR\n",
            " - producer\n",
            " - equinox\n",
            " - spec_B\n",
            " - A3\n",
            " - K1\n",
            " - A1_sigma\n",
            " - orbit_id\n",
            " - name\n",
            " - M2\n",
            " - albedo\n",
            " - rot_per\n",
            " - A3_sigma\n",
            " - DT_sigma\n",
            " - DT\n",
            " - pdes\n",
            " - two_body\n",
            " - diameter\n",
            " - GM\n",
            " - A1\n",
            " - BV\n",
            " - UB\n",
            " - n_del_obs_used\n",
            " - A2_sigma\n",
            " - extent\n",
            " - K2\n",
            " - prefix\n",
            " - PC\n",
            " - G\n",
            " - A2\n",
            " - diameter_sigma\n",
            " - M1\n",
            " - n_dop_obs_used\n"
          ]
        }
      ]
    },
    {
      "cell_type": "code",
      "source": [
        "print(df.head())"
      ],
      "metadata": {
        "colab": {
          "base_uri": "https://localhost:8080/"
        },
        "id": "NGCBqqfdq5JO",
        "outputId": "3c135b5d-1bb2-450a-d59c-ad9b3a8efd23"
      },
      "execution_count": 5,
      "outputs": [
        {
          "output_type": "stream",
          "name": "stdout",
          "text": [
            "          full_name         a         e          i          om           w  \\\n",
            "0         (1927 LA)  3.344072  0.333618  17.631497  191.717418  341.109523   \n",
            "1         (1935 UZ)  2.149638  0.251325   4.728640  134.342070  281.563658   \n",
            "2         (1937 CK)  2.320503  0.138476   6.549856  273.834058  130.418938   \n",
            "3         (1939 RR)  2.904675  0.253684  13.139290  322.997330   64.837530   \n",
            "4         (1942 RH)  2.257216  0.145324   4.223982  205.857738  134.532417   \n",
            "\n",
            "          q        ad     per_y  data_arc  ...  sigma_w  sigma_ma  sigma_ad  \\\n",
            "0  2.228428  4.459715  6.115353      34.0  ...   1.1161   0.47857  0.032768   \n",
            "1  1.609380  2.689895  3.151781       4.0  ...  33.7820  11.31700  0.435020   \n",
            "2  1.999169  2.641838  3.534936      31.0  ...   2.0890  23.32100  0.004895   \n",
            "3  2.167804  3.641545  4.950561      27.0  ...      NaN       NaN       NaN   \n",
            "4  1.929189  2.585243  3.391313      10.0  ...  10.3150   8.20790  0.094289   \n",
            "\n",
            "    sigma_n sigma_tp sigma_per  class   first_obs    last_obs       rms  \n",
            "0  0.001776   1.0621   24.6170    OMB  1927-06-01  1927-07-05  0.000533  \n",
            "1  0.075861  35.0930  279.2600    MCA  1935-10-19  1935-10-23  0.071263  \n",
            "2  0.000775  83.3740    3.5881    MBA  1937-02-10  1937-03-13  0.000002  \n",
            "3       NaN      NaN       NaN    MBA  1939-09-15  1939-10-12       NaN  \n",
            "4  0.015900  28.6600   67.7660    MBA  1942-09-05  1942-09-15  0.339380  \n",
            "\n",
            "[5 rows x 45 columns]\n"
          ]
        }
      ]
    },
    {
      "cell_type": "code",
      "source": [
        "# Missing Data Analysis\n",
        "missing_summary = df.isnull().mean().sort_values(ascending=False) * 100\n",
        "missing_summary = missing_summary[missing_summary > 0]\n",
        "print(\"\\nMissing Data Summary (Percentage of Missing Values):\")\n",
        "print(missing_summary)"
      ],
      "metadata": {
        "colab": {
          "base_uri": "https://localhost:8080/"
        },
        "id": "qSfe3D0_rjfN",
        "outputId": "898adf41-e81f-486d-cf45-a255b13b4dc2"
      },
      "execution_count": 6,
      "outputs": [
        {
          "output_type": "stream",
          "name": "stdout",
          "text": [
            "\n",
            "Missing Data Summary (Percentage of Missing Values):\n",
            "H_sigma           15.064635\n",
            "sigma_per          0.937868\n",
            "sigma_ad           0.937868\n",
            "pha                0.937720\n",
            "moid_ld            0.937573\n",
            "sigma_n            0.937573\n",
            "sigma_om           0.937573\n",
            "sigma_w            0.937573\n",
            "sigma_ma           0.937573\n",
            "moid_jup           0.937573\n",
            "sigma_i            0.937573\n",
            "sigma_q            0.937573\n",
            "sigma_a            0.937573\n",
            "sigma_e            0.937573\n",
            "sigma_tp           0.937573\n",
            "moid               0.937573\n",
            "data_arc           0.392771\n",
            "H                  0.146717\n",
            "condition_code     0.001033\n",
            "t_jup              0.000295\n",
            "per                0.000295\n",
            "neo                0.000295\n",
            "per_y              0.000295\n",
            "ad                 0.000295\n",
            "rms                0.000148\n",
            "dtype: float64\n"
          ]
        }
      ]
    },
    {
      "cell_type": "code",
      "source": [
        "# Data Cleaning and Type Conversion\n",
        "columns_to_clean = ['H', 'e', 'a', 'q', 'i', 'om', 'w', 'ma', 'n']\n",
        "for col in columns_to_clean:\n",
        "    if col in df.columns:\n",
        "        df[col] = pd.to_numeric(df[col], errors='coerce')"
      ],
      "metadata": {
        "id": "Ud_PwlNArh8P"
      },
      "execution_count": 7,
      "outputs": []
    },
    {
      "cell_type": "code",
      "source": [
        "# Impute Missing Values in Numeric Columns\n",
        "from sklearn.impute import SimpleImputer\n",
        "numeric_cols = df.select_dtypes(include=[np.number]).columns.tolist()\n",
        "imputer = SimpleImputer(strategy='mean')\n",
        "df[numeric_cols] = imputer.fit_transform(df[numeric_cols])"
      ],
      "metadata": {
        "id": "TKjjTidMrqMG"
      },
      "execution_count": 8,
      "outputs": []
    },
    {
      "cell_type": "code",
      "source": [
        "# Binary Mapping for 'neo' and 'pha'\n",
        "binary_mapping = {'Y': 1, 'N': 0}\n",
        "for col in ['neo', 'pha']:\n",
        "    if col in df.columns:\n",
        "        df[col] = df[col].map(binary_mapping)"
      ],
      "metadata": {
        "id": "2Ca9Q4cHrz-u"
      },
      "execution_count": 9,
      "outputs": []
    },
    {
      "cell_type": "code",
      "source": [
        "# **Step 2: Identify Remaining Categorical Columns**\n",
        "remaining_categorical_cols = df.select_dtypes(include=['object', 'category']).columns.tolist()\n",
        "print(\"\\nRemaining Categorical Columns after Binary Mapping:\", remaining_categorical_cols)"
      ],
      "metadata": {
        "colab": {
          "base_uri": "https://localhost:8080/"
        },
        "id": "vMYnmPyEsE1u",
        "outputId": "fa20004c-d437-42f4-b3de-04e67d3bb4bb"
      },
      "execution_count": 10,
      "outputs": [
        {
          "output_type": "stream",
          "name": "stdout",
          "text": [
            "\n",
            "Remaining Categorical Columns after Binary Mapping: ['full_name', 'epoch_cal', 'tp_cal', 'class', 'first_obs', 'last_obs']\n"
          ]
        }
      ]
    },
    {
      "cell_type": "code",
      "source": [
        "# Handle Date Columns\n",
        "date_cols = ['epoch_cal', 'tp_cal', 'first_obs', 'last_obs']\n",
        "for col in date_cols:\n",
        "    if col in df.columns:\n",
        "        df[col] = pd.to_datetime(df[col], errors='coerce', format='%Y-%m-%d')\n",
        "        df[f'{col}_year'] = df[col].dt.year\n",
        "        df[f'{col}_month'] = df[col].dt.month\n",
        "        df[f'{col}_day'] = df[col].dt.day\n",
        "        df.drop(columns=[col], inplace=True)  # Drop original column\n",
        "\n",
        "print(\"\\nData preprocessing complete. The DataFrame is ready for analysis.\")"
      ],
      "metadata": {
        "colab": {
          "base_uri": "https://localhost:8080/"
        },
        "id": "GsLdb0_Yr9aG",
        "outputId": "dda9d4f6-48fd-4b9e-8142-fe4418b8071b"
      },
      "execution_count": 11,
      "outputs": [
        {
          "output_type": "stream",
          "name": "stdout",
          "text": [
            "\n",
            "Data preprocessing complete. The DataFrame is ready for analysis.\n"
          ]
        }
      ]
    },
    {
      "cell_type": "code",
      "source": [
        "remaining_categorical_cols = df.select_dtypes(include=['object', 'category']).columns.tolist()\n",
        "print(\"\\nRemaining Categorical Columns after Date conversion:\", remaining_categorical_cols)"
      ],
      "metadata": {
        "colab": {
          "base_uri": "https://localhost:8080/"
        },
        "id": "KPq3t1ees4tf",
        "outputId": "684c0be0-af06-4f03-9a75-44cf292f8017"
      },
      "execution_count": 12,
      "outputs": [
        {
          "output_type": "stream",
          "name": "stdout",
          "text": [
            "\n",
            "Remaining Categorical Columns after Date conversion: ['full_name', 'class']\n"
          ]
        }
      ]
    },
    {
      "cell_type": "code",
      "source": [
        "# Check unique values in the 'class' column\n",
        "if 'class' in df.columns:\n",
        "    print(\"Unique values in 'class' column:\", df['class'].unique())\n",
        "\n",
        "# One-hot encode the 'class' column\n",
        "if 'class' in df.columns:\n",
        "    df = pd.get_dummies(df, columns=['class'], prefix='class', drop_first=True)\n",
        "    print(\"\\nOne-hot encoding applied to 'class' column.\")\n",
        "    print(\"New columns added:\", [col for col in df.columns if col.startswith('class_')])"
      ],
      "metadata": {
        "colab": {
          "base_uri": "https://localhost:8080/"
        },
        "id": "k7MPpsC4r-ku",
        "outputId": "56fb42d2-9230-4bd3-9fbc-c322c9243ee1"
      },
      "execution_count": 13,
      "outputs": [
        {
          "output_type": "stream",
          "name": "stdout",
          "text": [
            "Unique values in 'class' column: ['OMB' 'MCA' 'MBA' 'APO' 'AMO' 'IMB' 'ATE' 'IEO' 'TJN' 'HYA']\n",
            "\n",
            "One-hot encoding applied to 'class' column.\n",
            "New columns added: ['class_APO', 'class_ATE', 'class_HYA', 'class_IEO', 'class_IMB', 'class_MBA', 'class_MCA', 'class_OMB', 'class_TJN']\n"
          ]
        }
      ]
    },
    {
      "cell_type": "code",
      "source": [
        "print(\"Correlation with MOID:\\n\", df[['neo', 'pha', 'moid']].corr())"
      ],
      "metadata": {
        "colab": {
          "base_uri": "https://localhost:8080/"
        },
        "id": "aAfuCQL7XGZv",
        "outputId": "e011d990-cca7-4f7b-ebd2-2b0941df4933"
      },
      "execution_count": 14,
      "outputs": [
        {
          "output_type": "stream",
          "name": "stdout",
          "text": [
            "Correlation with MOID:\n",
            "            neo       pha      moid\n",
            "neo   1.000000  0.214061 -0.511961\n",
            "pha   0.214061  1.000000 -0.114805\n",
            "moid -0.511961 -0.114805  1.000000\n"
          ]
        }
      ]
    },
    {
      "cell_type": "code",
      "source": [
        "# Create collision_risk based on moid\n",
        "if 'moid' in df.columns:\n",
        "    df['collision_risk'] = np.where(df['moid'] < 0.05, 1, 0)\n",
        "    print(\"Created 'collision_risk' column based on 'moid'.\")\n",
        "else:\n",
        "    print(\"'moid' column not found. Cannot create 'collision_risk'.\")\n"
      ],
      "metadata": {
        "colab": {
          "base_uri": "https://localhost:8080/"
        },
        "id": "BG-kmHrBY9Qn",
        "outputId": "b87f13af-bb7d-41b6-8ac8-3616da445e56"
      },
      "execution_count": 15,
      "outputs": [
        {
          "output_type": "stream",
          "name": "stdout",
          "text": [
            "Created 'collision_risk' column based on 'moid'.\n"
          ]
        }
      ]
    },
    {
      "cell_type": "code",
      "source": [
        "# Check if collision_risk was created successfully\n",
        "print(df[['moid', 'collision_risk']])\n"
      ],
      "metadata": {
        "colab": {
          "base_uri": "https://localhost:8080/"
        },
        "id": "dlyYp2lmY-GG",
        "outputId": "ee36a39a-4847-42a3-a95d-d5988caf5621"
      },
      "execution_count": 16,
      "outputs": [
        {
          "output_type": "stream",
          "name": "stdout",
          "text": [
            "            moid  collision_risk\n",
            "0       1.240420               0\n",
            "1       0.629025               0\n",
            "2       1.015530               0\n",
            "3       1.230665               0\n",
            "4       0.923138               0\n",
            "...          ...             ...\n",
            "677489  0.272574               0\n",
            "677490  0.000087               1\n",
            "677491  0.816015               0\n",
            "677492  0.672539               0\n",
            "677493  0.036665               1\n",
            "\n",
            "[677494 rows x 2 columns]\n"
          ]
        }
      ]
    },
    {
      "cell_type": "code",
      "source": [
        "\n",
        "# Step 2: Define features and target\n",
        "selected_features = [\n",
        "    'a', 'e', 'i', 'q', 'ad', 'moid', 'moid_ld', 'per_y',\n",
        "    'condition_code', 'data_arc', 'n_obs_used', 'rms', 'H',\n",
        "    'neo', 'pha',  # Include binary indicators\n",
        "    'class_APO', 'class_ATE', 'class_HYA', 'class_IEO',\n",
        "    'class_IMB', 'class_MBA', 'class_MCA', 'class_OMB',\n",
        "    'class_TJN', 'sigma_e', 'sigma_a', 'sigma_q', 'sigma_i',\n",
        "    'sigma_om', 'sigma_w', 'sigma_ma', 'sigma_ad', 'sigma_n',\n",
        "    'sigma_tp', 'sigma_per'\n",
        "]\n",
        "\n",
        "X = df[selected_features]\n",
        "y = df['collision_risk']\n",
        "\n",
        "# Step 3: Verify shapes\n",
        "print(\"Feature Matrix Shape:\", X.shape)\n",
        "print(\"Target Shape:\", y.shape)\n"
      ],
      "metadata": {
        "colab": {
          "base_uri": "https://localhost:8080/"
        },
        "id": "IH4xPYohWkKd",
        "outputId": "039acc8e-3398-4522-f221-b7c3e8d54157"
      },
      "execution_count": 17,
      "outputs": [
        {
          "output_type": "stream",
          "name": "stdout",
          "text": [
            "Feature Matrix Shape: (677494, 35)\n",
            "Target Shape: (677494,)\n"
          ]
        }
      ]
    },
    {
      "cell_type": "markdown",
      "source": [
        "## Code for Imputation"
      ],
      "metadata": {
        "id": "WVXiFk-ZaHhm"
      }
    },
    {
      "cell_type": "code",
      "source": [
        "from sklearn.impute import SimpleImputer\n",
        "\n",
        "# Impute missing values in features\n",
        "imputer = SimpleImputer(strategy='mean')\n",
        "X = pd.DataFrame(imputer.fit_transform(X), columns=X.columns)\n",
        "\n",
        "# Verify no missing values remain\n",
        "print(\"Missing Values After Imputation:\\n\", X.isnull().sum().sum())\n"
      ],
      "metadata": {
        "colab": {
          "base_uri": "https://localhost:8080/"
        },
        "id": "G_kSkzDMaJfW",
        "outputId": "8dbae0a3-ea51-48f5-9357-f2b868182a94"
      },
      "execution_count": 18,
      "outputs": [
        {
          "output_type": "stream",
          "name": "stdout",
          "text": [
            "Missing Values After Imputation:\n",
            " 0\n"
          ]
        }
      ]
    },
    {
      "cell_type": "markdown",
      "source": [
        "## Scale Features"
      ],
      "metadata": {
        "id": "FH8K2liBaQ3-"
      }
    },
    {
      "cell_type": "code",
      "source": [
        "from sklearn.preprocessing import StandardScaler\n",
        "\n",
        "# Initialize the scaler\n",
        "scaler = StandardScaler()\n",
        "\n",
        "# Scale features\n",
        "X_scaled = scaler.fit_transform(X)\n",
        "\n",
        "# Convert back to DataFrame for interpretability\n",
        "X_scaled = pd.DataFrame(X_scaled, columns=X.columns)\n",
        "\n",
        "# Verify scaled data\n",
        "print(\"Scaled Data Sample:\\n\", X_scaled.head())\n"
      ],
      "metadata": {
        "colab": {
          "base_uri": "https://localhost:8080/"
        },
        "id": "OcKJ4facaOFV",
        "outputId": "b99675ae-14ae-4ffb-9cb1-ec7ecbb56bab"
      },
      "execution_count": 19,
      "outputs": [
        {
          "output_type": "stream",
          "name": "stdout",
          "text": [
            "Scaled Data Sample:\n",
            "           a         e         i         q        ad          moid  \\\n",
            "0  0.036022  1.457138  1.089862  0.037420  1.130606  1.904554e-02   \n",
            "1 -0.026644  0.676705 -0.779477 -1.123928 -0.400431 -1.174674e+00   \n",
            "2 -0.017680 -0.393505 -0.515623 -0.392675 -0.442004 -4.200413e-01   \n",
            "3  0.012969  0.699081  0.439040 -0.076312  0.422823  8.670627e-16   \n",
            "4 -0.021000 -0.328565 -0.852591 -0.523959 -0.490963 -6.004322e-01   \n",
            "\n",
            "        moid_ld     per_y  condition_code  data_arc  ...       sigma_a  \\\n",
            "0  1.904554e-02  0.197782    2.084778e+00 -1.355921  ... -2.318122e-03   \n",
            "1 -1.174674e+00 -0.155798    2.436276e+00 -1.367457  ... -1.352698e-03   \n",
            "2 -4.200413e-01 -0.110085    1.733279e+00 -1.357075  ... -2.378700e-03   \n",
            "3 -5.703627e-16  0.058812   -1.560968e-16 -1.358613  ... -3.317669e-19   \n",
            "4 -6.004322e-01 -0.127220    2.436276e+00 -1.365150  ... -2.145537e-03   \n",
            "\n",
            "        sigma_q       sigma_i  sigma_om       sigma_w      sigma_ma  \\\n",
            "0 -2.653454e-03 -4.570209e-03 -0.004762 -4.452634e-03 -5.491410e-03   \n",
            "1 -1.234144e-03  8.157029e-03  0.014924 -1.912305e-03 -4.005581e-03   \n",
            "2 -2.723725e-03 -4.774496e-03 -0.004646 -4.376975e-03 -2.359965e-03   \n",
            "3  6.124940e-19 -6.763545e-18  0.000000 -5.525678e-19  9.740757e-19   \n",
            "4 -2.263925e-03 -9.252176e-04 -0.000970 -3.737263e-03 -4.431804e-03   \n",
            "\n",
            "       sigma_ad       sigma_n      sigma_tp     sigma_per  \n",
            "0 -3.407236e-03 -4.337751e-03 -5.787790e-03 -3.612406e-03  \n",
            "1 -8.194764e-04  4.471765e-03 -4.695459e-03 -1.405414e-03  \n",
            "2 -3.586551e-03 -4.456834e-03 -3.145726e-03 -3.794664e-03  \n",
            "3 -1.428453e-18  3.300455e-18  6.386002e-18  1.970648e-18  \n",
            "4 -3.011460e-03 -2.658282e-03 -4.901947e-03 -3.238433e-03  \n",
            "\n",
            "[5 rows x 35 columns]\n"
          ]
        }
      ]
    },
    {
      "cell_type": "code",
      "source": [
        "from sklearn.model_selection import train_test_split\n",
        "\n",
        "# Split the dataset into training and testing sets\n",
        "X_train, X_test, y_train, y_test = train_test_split(X_scaled, y, test_size=0.2, random_state=42, stratify=y)\n",
        "\n",
        "# Verify the split\n",
        "print(\"Training Set Shape:\", X_train.shape, y_train.shape)\n",
        "print(\"Testing Set Shape:\", X_test.shape, y_test.shape)"
      ],
      "metadata": {
        "colab": {
          "base_uri": "https://localhost:8080/"
        },
        "id": "DhnQWrfKGQsb",
        "outputId": "17924da5-c03c-4123-922b-c6c5dee6eaba"
      },
      "execution_count": 20,
      "outputs": [
        {
          "output_type": "stream",
          "name": "stdout",
          "text": [
            "Training Set Shape: (541995, 35) (541995,)\n",
            "Testing Set Shape: (135499, 35) (135499,)\n"
          ]
        }
      ]
    },
    {
      "cell_type": "markdown",
      "source": [
        "# Random Forest"
      ],
      "metadata": {
        "id": "ZysQpwLAcLyP"
      }
    },
    {
      "cell_type": "code",
      "source": [
        "from sklearn.ensemble import RandomForestClassifier\n",
        "from sklearn.metrics import classification_report, confusion_matrix, accuracy_score\n",
        "import pandas as pd\n",
        "import matplotlib.pyplot as plt"
      ],
      "metadata": {
        "id": "qgq3nPvRcPHm"
      },
      "execution_count": null,
      "outputs": []
    },
    {
      "cell_type": "code",
      "source": [
        "# Check class distribution\n",
        "class_distribution = y.value_counts(normalize=True) * 100\n",
        "print(\"Class Distribution (%):\\n\", class_distribution)"
      ],
      "metadata": {
        "colab": {
          "base_uri": "https://localhost:8080/"
        },
        "id": "7VwxFehoh9dV",
        "outputId": "33648ec6-fc03-4922-93f0-c647b1e7d4e0"
      },
      "execution_count": 24,
      "outputs": [
        {
          "output_type": "stream",
          "name": "stdout",
          "text": [
            "Class Distribution (%):\n",
            " collision_risk\n",
            "0    97.280271\n",
            "1     2.719729\n",
            "Name: proportion, dtype: float64\n"
          ]
        }
      ]
    },
    {
      "cell_type": "markdown",
      "source": [
        "## Apply SMOTE for Oversampling"
      ],
      "metadata": {
        "id": "JlsSRLk3jvM8"
      }
    },
    {
      "cell_type": "code",
      "source": [
        "from imblearn.over_sampling import SMOTE\n",
        "\n",
        "# Oversample the minority class using SMOTE\n",
        "smote = SMOTE(random_state=42)\n",
        "X_resampled, y_resampled = smote.fit_resample(X_scaled, y)\n",
        "\n",
        "# Verify resampled class distribution\n",
        "print(\"Resampled Class Distribution:\\n\", pd.Series(y_resampled).value_counts())\n"
      ],
      "metadata": {
        "colab": {
          "base_uri": "https://localhost:8080/"
        },
        "id": "9iASJcGZjsgs",
        "outputId": "3ddfe226-a7a9-4c23-9287-61379c854d14"
      },
      "execution_count": 26,
      "outputs": [
        {
          "output_type": "stream",
          "name": "stdout",
          "text": [
            "Resampled Class Distribution:\n",
            " collision_risk\n",
            "0    659068\n",
            "1    659068\n",
            "Name: count, dtype: int64\n"
          ]
        }
      ]
    },
    {
      "cell_type": "markdown",
      "source": [
        "## Train Random Forest with Resampled Data"
      ],
      "metadata": {
        "id": "F94EmSDwj31_"
      }
    },
    {
      "cell_type": "code",
      "source": [
        "# Drop MOID-related features\n",
        "X_no_moid = X.drop(columns=['moid', 'moid_ld'])\n",
        "\n",
        "# Resample the dataset using SMOTE\n",
        "X_resampled_no_moid, y_resampled_no_moid = smote.fit_resample(X_no_moid, y)\n",
        "\n",
        "# Train Random Forest on the new dataset\n",
        "rf_model_no_moid = RandomForestClassifier(\n",
        "    n_estimators=100,\n",
        "    random_state=42,\n",
        "    class_weight='balanced'\n",
        ")\n",
        "rf_model_no_moid.fit(X_resampled_no_moid, y_resampled_no_moid)\n",
        "\n",
        "# Evaluate on the original test set (without MOID features)\n",
        "y_pred_no_moid = rf_model_no_moid.predict(X_test.drop(columns=['moid', 'moid_ld']))\n",
        "\n",
        "# Classification Report\n",
        "print(\"Classification Report Without MOID:\")\n",
        "print(classification_report(y_test, y_pred_no_moid))\n",
        "\n",
        "# Confusion Matrix\n",
        "print(\"Confusion Matrix Without MOID:\")\n",
        "print(confusion_matrix(y_test, y_pred_no_moid))\n"
      ],
      "metadata": {
        "id": "Lep2lfP8mqq-"
      },
      "execution_count": null,
      "outputs": []
    },
    {
      "cell_type": "code",
      "source": [
        "from sklearn.ensemble import RandomForestClassifier\n",
        "from sklearn.metrics import classification_report, confusion_matrix, accuracy_score\n",
        "\n",
        "# Initialize Random Forest with balanced class weights\n",
        "rf_model = RandomForestClassifier(\n",
        "    n_estimators=100,\n",
        "    random_state=42,\n",
        "    class_weight='balanced',  # Adjust weights to balance classes\n",
        "    n_jobs=-1\n",
        ")\n",
        "\n",
        "# Train the model on the resampled data\n",
        "rf_model.fit(X_resampled, y_resampled)\n",
        "\n",
        "# Predict on the original test set\n",
        "y_pred = rf_model.predict(X_test)\n",
        "\n",
        "# Evaluate the model\n",
        "print(\"Classification Report:\")\n",
        "print(classification_report(y_test, y_pred))\n",
        "\n",
        "print(\"Confusion Matrix:\")\n",
        "print(confusion_matrix(y_test, y_pred))\n",
        "\n",
        "# Accuracy score\n",
        "accuracy = accuracy_score(y_test, y_pred)\n",
        "print(f\"Accuracy: {accuracy:.2f}\")\n"
      ],
      "metadata": {
        "colab": {
          "base_uri": "https://localhost:8080/"
        },
        "id": "M98hcxNXj_fN",
        "outputId": "8b07f8ed-2be6-46bb-a46d-6d4a160ca18d"
      },
      "execution_count": 27,
      "outputs": [
        {
          "output_type": "stream",
          "name": "stdout",
          "text": [
            "Classification Report:\n",
            "              precision    recall  f1-score   support\n",
            "\n",
            "           0       1.00      1.00      1.00    131814\n",
            "           1       1.00      1.00      1.00      3685\n",
            "\n",
            "    accuracy                           1.00    135499\n",
            "   macro avg       1.00      1.00      1.00    135499\n",
            "weighted avg       1.00      1.00      1.00    135499\n",
            "\n",
            "Confusion Matrix:\n",
            "[[131814      0]\n",
            " [     0   3685]]\n",
            "Accuracy: 1.00\n"
          ]
        }
      ]
    },
    {
      "cell_type": "markdown",
      "source": [
        "## Cross-Validation with Balanced Data"
      ],
      "metadata": {
        "id": "xmzCj3zmkL51"
      }
    },
    {
      "cell_type": "code",
      "source": [
        "from sklearn.model_selection import StratifiedKFold, cross_val_score\n",
        "\n",
        "# Stratified k-fold cross-validation\n",
        "skf = StratifiedKFold(n_splits=5, shuffle=True, random_state=42)\n",
        "\n",
        "# Evaluate using cross-validation\n",
        "cv_scores = cross_val_score(rf_model, X_scaled, y, cv=skf, scoring='f1_macro')\n",
        "print(\"Stratified Cross-Validation F1-Macro Scores:\", cv_scores)\n",
        "print(\"Mean F1-Macro Score:\", cv_scores.mean())"
      ],
      "metadata": {
        "colab": {
          "base_uri": "https://localhost:8080/"
        },
        "id": "e7agWnUtkNPu",
        "outputId": "cb11d3e4-ac83-4d14-d0f3-6dcd53e2b9a3"
      },
      "execution_count": 28,
      "outputs": [
        {
          "output_type": "stream",
          "name": "stdout",
          "text": [
            "Stratified Cross-Validation F1-Macro Scores: [1. 1. 1. 1. 1.]\n",
            "Mean F1-Macro Score: 1.0\n"
          ]
        }
      ]
    },
    {
      "cell_type": "code",
      "source": [
        "# Feature Importance Analysis\n",
        "import pandas as pd\n",
        "import matplotlib.pyplot as plt\n",
        "\n",
        "feature_importance = pd.DataFrame({\n",
        "    'Feature': X.columns,\n",
        "    'Importance': rf_model.feature_importances_\n",
        "}).sort_values(by='Importance', ascending=False)\n",
        "\n",
        "print(\"Top 10 Most Important Features:\")\n",
        "print(feature_importance.head(10))\n",
        "\n",
        "# Plot top 10 feature importance\n",
        "plt.figure(figsize=(10, 6))\n",
        "plt.barh(feature_importance['Feature'][:10], feature_importance['Importance'][:10])\n",
        "plt.gca().invert_yaxis()\n",
        "plt.title(\"Top 10 Feature Importances\")\n",
        "plt.xlabel(\"Importance\")\n",
        "plt.ylabel(\"Feature\")\n",
        "plt.show()\n"
      ],
      "metadata": {
        "colab": {
          "base_uri": "https://localhost:8080/",
          "height": 772
        },
        "id": "bHTaSlqPmWx_",
        "outputId": "b8bb19e3-53e9-4516-cc33-c605a33d8857"
      },
      "execution_count": 29,
      "outputs": [
        {
          "output_type": "stream",
          "name": "stdout",
          "text": [
            "Top 10 Most Important Features:\n",
            "      Feature  Importance\n",
            "5        moid    0.222830\n",
            "6     moid_ld    0.198295\n",
            "3           q    0.130204\n",
            "12          H    0.102994\n",
            "13        neo    0.081824\n",
            "15  class_APO    0.057875\n",
            "1           e    0.045465\n",
            "0           a    0.034160\n",
            "20  class_MBA    0.032327\n",
            "7       per_y    0.031126\n"
          ]
        },
        {
          "output_type": "display_data",
          "data": {
            "text/plain": [
              "<Figure size 1000x600 with 1 Axes>"
            ],
            "image/png": "[encoded data removed]"
          },
          "metadata": {}
        }
      ]
    }
  ]
}