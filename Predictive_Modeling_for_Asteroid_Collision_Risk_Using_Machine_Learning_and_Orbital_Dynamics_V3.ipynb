{
  "nbformat": 4,
  "nbformat_minor": 0,
  "metadata": {
    "colab": {
      "provenance": [],
      "toc_visible": true,
      "gpuType": "V28",
      "authorship_tag": "ABX9TyNXCjDqCb/GSoohV/bkccie"
    },
    "kernelspec": {
      "name": "python3",
      "display_name": "Python 3"
    },
    "language_info": {
      "name": "python"
    },
    "accelerator": "TPU"
  },
  "cells": [
    {
      "cell_type": "code",
      "execution_count": 1,
      "metadata": {
        "colab": {
          "base_uri": "https://localhost:8080/"
        },
        "id": "Clh3bFNPD6CY",
        "outputId": "c872cf7f-8336-4281-a03e-eafb27e51190"
      },
      "outputs": [
        {
          "output_type": "stream",
          "name": "stdout",
          "text": [
            "Drive already mounted at /content/drive; to attempt to forcibly remount, call drive.mount(\"/content/drive\", force_remount=True).\n",
            "Dataset Shape: (677494, 79)\n",
            "First 5 Rows:\n",
            "    diameter  extent  albedo  rot_per  GM  BV  UB  IR spec_B  spec_T  ...  \\\n",
            "0       NaN     NaN     NaN      NaN NaN NaN NaN NaN    NaN     NaN  ...   \n",
            "1       NaN     NaN     NaN      NaN NaN NaN NaN NaN    NaN     NaN  ...   \n",
            "2       NaN     NaN     NaN      NaN NaN NaN NaN NaN    NaN     NaN  ...   \n",
            "3       NaN     NaN     NaN      NaN NaN NaN NaN NaN    NaN     NaN  ...   \n",
            "4       NaN     NaN     NaN      NaN NaN NaN NaN NaN    NaN     NaN  ...   \n",
            "\n",
            "        rms  two_body  A1  A1_sigma  A2  A2_sigma  A3  A3_sigma  DT  DT_sigma  \n",
            "0  0.000533       NaN NaN       NaN NaN       NaN NaN       NaN NaN       NaN  \n",
            "1  0.071263       NaN NaN       NaN NaN       NaN NaN       NaN NaN       NaN  \n",
            "2  0.000002       NaN NaN       NaN NaN       NaN NaN       NaN NaN       NaN  \n",
            "3       NaN         T NaN       NaN NaN       NaN NaN       NaN NaN       NaN  \n",
            "4  0.339380       NaN NaN       NaN NaN       NaN NaN       NaN NaN       NaN  \n",
            "\n",
            "[5 rows x 79 columns]\n"
          ]
        }
      ],
      "source": [
        "# Mount Google Drive (if using Google Colab)\n",
        "from google.colab import drive\n",
        "drive.mount('/content/drive')\n",
        "\n",
        "# Import libraries\n",
        "import pandas as pd\n",
        "import numpy as np\n",
        "\n",
        "# Load the dataset\n",
        "file_path = '/content/drive/My Drive/Asteroid Collision Dataset V2.csv'\n",
        "df = pd.read_csv(file_path, low_memory=False)\n",
        "\n",
        "# Inspect the dataset\n",
        "print(\"Dataset Shape:\", df.shape)\n",
        "print(\"First 5 Rows:\\n\", df.head())\n"
      ]
    },
    {
      "cell_type": "markdown",
      "source": [
        "# 3. Data Cleaning and Preprocessing"
      ],
      "metadata": {
        "id": "FSkjg3op3ecd"
      }
    },
    {
      "cell_type": "markdown",
      "source": [
        "## 3.1. Missing Data Analysis"
      ],
      "metadata": {
        "id": "3xKMqMbe3gl-"
      }
    },
    {
      "cell_type": "code",
      "source": [
        "# Analyze missing data\n",
        "missing_summary = df.isnull().mean().sort_values(ascending=False) * 100\n",
        "missing_summary = missing_summary[missing_summary > 0]\n",
        "print(\"\\nMissing Data Summary (Percentage of Missing Values):\")\n",
        "print(missing_summary)"
      ],
      "metadata": {
        "colab": {
          "base_uri": "https://localhost:8080/"
        },
        "id": "sCGDZzB9F2E6",
        "outputId": "0942b789-5064-465b-fbcb-f86be8a6a471"
      },
      "execution_count": 2,
      "outputs": [
        {
          "output_type": "stream",
          "name": "stdout",
          "text": [
            "\n",
            "Missing Data Summary (Percentage of Missing Values):\n",
            "DT_sigma          100.000000\n",
            "extent            100.000000\n",
            "GM                100.000000\n",
            "BV                100.000000\n",
            "spec_T            100.000000\n",
            "IR                100.000000\n",
            "K1                100.000000\n",
            "K2                100.000000\n",
            "PC                100.000000\n",
            "DT                100.000000\n",
            "UB                100.000000\n",
            "M1                100.000000\n",
            "G                 100.000000\n",
            "M2                100.000000\n",
            "name               99.999852\n",
            "prefix             99.999410\n",
            "A3                 99.998967\n",
            "A3_sigma           99.998967\n",
            "A1                 99.997491\n",
            "A1_sigma           99.997491\n",
            "spec_B             99.992620\n",
            "A2                 99.976531\n",
            "A2_sigma           99.976531\n",
            "n_del_obs_used     99.910700\n",
            "n_dop_obs_used     99.910700\n",
            "rot_per            99.801179\n",
            "two_body           99.062427\n",
            "albedo             99.040582\n",
            "diameter_sigma     98.987002\n",
            "diameter           98.986559\n",
            "H_sigma            15.064635\n",
            "sigma_per           0.937868\n",
            "sigma_ad            0.937868\n",
            "pha                 0.937720\n",
            "sigma_i             0.937573\n",
            "sigma_q             0.937573\n",
            "sigma_a             0.937573\n",
            "sigma_tp            0.937573\n",
            "sigma_e             0.937573\n",
            "moid                0.937573\n",
            "moid_ld             0.937573\n",
            "moid_jup            0.937573\n",
            "sigma_ma            0.937573\n",
            "sigma_w             0.937573\n",
            "sigma_om            0.937573\n",
            "sigma_n             0.937573\n",
            "data_arc            0.392771\n",
            "H                   0.146717\n",
            "condition_code      0.001033\n",
            "neo                 0.000295\n",
            "t_jup               0.000295\n",
            "per_y               0.000295\n",
            "per                 0.000295\n",
            "ad                  0.000295\n",
            "rms                 0.000148\n",
            "dtype: float64\n"
          ]
        }
      ]
    },
    {
      "cell_type": "markdown",
      "source": [
        "## 3.2. Drop Columns with Excessive Missing Values"
      ],
      "metadata": {
        "id": "taIG0ZAX3rFV"
      }
    },
    {
      "cell_type": "code",
      "source": [
        "# Drop columns with >90% missing values or irrelevant\n",
        "cols_to_drop_missing = missing_summary[missing_summary > 90].index.tolist()\n",
        "irrelevant_columns = ['producer', 'equinox', 'orbit_id', 'pdes', 'full_name', 'name', 'prefix']\n",
        "cols_to_drop = list(set(cols_to_drop_missing + irrelevant_columns))\n",
        "\n",
        "df.drop(columns=cols_to_drop, inplace=True, errors='ignore')\n",
        "print(\"\\nDropped Columns:\")\n",
        "print(df.head())"
      ],
      "metadata": {
        "colab": {
          "base_uri": "https://localhost:8080/"
        },
        "id": "O0oJSXZ6GIlx",
        "outputId": "c52d76a1-1602-4f01-9b92-7f8b46e0d914"
      },
      "execution_count": 3,
      "outputs": [
        {
          "output_type": "stream",
          "name": "stdout",
          "text": [
            "\n",
            "Dropped Columns:\n",
            "          a         e          i          om           w         q        ad  \\\n",
            "0  3.344072  0.333618  17.631497  191.717418  341.109523  2.228428  4.459715   \n",
            "1  2.149638  0.251325   4.728640  134.342070  281.563658  1.609380  2.689895   \n",
            "2  2.320503  0.138476   6.549856  273.834058  130.418938  1.999169  2.641838   \n",
            "3  2.904675  0.253684  13.139290  322.997330   64.837530  2.167804  3.641545   \n",
            "4  2.257216  0.145324   4.223982  205.857738  134.532417  1.929189  2.585243   \n",
            "\n",
            "      per_y  data_arc  condition_code  ...  sigma_w  sigma_ma  sigma_ad  \\\n",
            "0  6.115353      34.0             8.0  ...   1.1161   0.47857  0.032768   \n",
            "1  3.151781       4.0             9.0  ...  33.7820  11.31700  0.435020   \n",
            "2  3.534936      31.0             7.0  ...   2.0890  23.32100  0.004895   \n",
            "3  4.950561      27.0             NaN  ...      NaN       NaN       NaN   \n",
            "4  3.391313      10.0             9.0  ...  10.3150   8.20790  0.094289   \n",
            "\n",
            "    sigma_n sigma_tp  sigma_per  class   first_obs    last_obs       rms  \n",
            "0  0.001776   1.0621    24.6170    OMB  1927-06-01  1927-07-05  0.000533  \n",
            "1  0.075861  35.0930   279.2600    MCA  1935-10-19  1935-10-23  0.071263  \n",
            "2  0.000775  83.3740     3.5881    MBA  1937-02-10  1937-03-13  0.000002  \n",
            "3       NaN      NaN        NaN    MBA  1939-09-15  1939-10-12       NaN  \n",
            "4  0.015900  28.6600    67.7660    MBA  1942-09-05  1942-09-15  0.339380  \n",
            "\n",
            "[5 rows x 44 columns]\n"
          ]
        }
      ]
    },
    {
      "cell_type": "code",
      "source": [
        "print(df.head())"
      ],
      "metadata": {
        "colab": {
          "base_uri": "https://localhost:8080/"
        },
        "id": "NGCBqqfdq5JO",
        "outputId": "41cdcd45-b952-4956-a1c0-14d2d959368a"
      },
      "execution_count": 4,
      "outputs": [
        {
          "output_type": "stream",
          "name": "stdout",
          "text": [
            "          a         e          i          om           w         q        ad  \\\n",
            "0  3.344072  0.333618  17.631497  191.717418  341.109523  2.228428  4.459715   \n",
            "1  2.149638  0.251325   4.728640  134.342070  281.563658  1.609380  2.689895   \n",
            "2  2.320503  0.138476   6.549856  273.834058  130.418938  1.999169  2.641838   \n",
            "3  2.904675  0.253684  13.139290  322.997330   64.837530  2.167804  3.641545   \n",
            "4  2.257216  0.145324   4.223982  205.857738  134.532417  1.929189  2.585243   \n",
            "\n",
            "      per_y  data_arc  condition_code  ...  sigma_w  sigma_ma  sigma_ad  \\\n",
            "0  6.115353      34.0             8.0  ...   1.1161   0.47857  0.032768   \n",
            "1  3.151781       4.0             9.0  ...  33.7820  11.31700  0.435020   \n",
            "2  3.534936      31.0             7.0  ...   2.0890  23.32100  0.004895   \n",
            "3  4.950561      27.0             NaN  ...      NaN       NaN       NaN   \n",
            "4  3.391313      10.0             9.0  ...  10.3150   8.20790  0.094289   \n",
            "\n",
            "    sigma_n sigma_tp  sigma_per  class   first_obs    last_obs       rms  \n",
            "0  0.001776   1.0621    24.6170    OMB  1927-06-01  1927-07-05  0.000533  \n",
            "1  0.075861  35.0930   279.2600    MCA  1935-10-19  1935-10-23  0.071263  \n",
            "2  0.000775  83.3740     3.5881    MBA  1937-02-10  1937-03-13  0.000002  \n",
            "3       NaN      NaN        NaN    MBA  1939-09-15  1939-10-12       NaN  \n",
            "4  0.015900  28.6600    67.7660    MBA  1942-09-05  1942-09-15  0.339380  \n",
            "\n",
            "[5 rows x 44 columns]\n"
          ]
        }
      ]
    },
    {
      "cell_type": "code",
      "source": [
        "# Missing Data Analysis\n",
        "missing_summary = df.isnull().mean().sort_values(ascending=False) * 100\n",
        "missing_summary = missing_summary[missing_summary > 0]\n",
        "print(\"\\nMissing Data Summary (Percentage of Missing Values):\")\n",
        "print(missing_summary)"
      ],
      "metadata": {
        "colab": {
          "base_uri": "https://localhost:8080/"
        },
        "id": "qSfe3D0_rjfN",
        "outputId": "6b91e466-f97d-4543-e4bf-1f18fa5c9704"
      },
      "execution_count": 5,
      "outputs": [
        {
          "output_type": "stream",
          "name": "stdout",
          "text": [
            "\n",
            "Missing Data Summary (Percentage of Missing Values):\n",
            "H_sigma           15.064635\n",
            "sigma_per          0.937868\n",
            "sigma_ad           0.937868\n",
            "pha                0.937720\n",
            "moid_ld            0.937573\n",
            "moid_jup           0.937573\n",
            "sigma_tp           0.937573\n",
            "moid               0.937573\n",
            "sigma_w            0.937573\n",
            "sigma_om           0.937573\n",
            "sigma_q            0.937573\n",
            "sigma_i            0.937573\n",
            "sigma_a            0.937573\n",
            "sigma_e            0.937573\n",
            "sigma_ma           0.937573\n",
            "sigma_n            0.937573\n",
            "data_arc           0.392771\n",
            "H                  0.146717\n",
            "condition_code     0.001033\n",
            "per                0.000295\n",
            "per_y              0.000295\n",
            "neo                0.000295\n",
            "t_jup              0.000295\n",
            "ad                 0.000295\n",
            "rms                0.000148\n",
            "dtype: float64\n"
          ]
        }
      ]
    },
    {
      "cell_type": "markdown",
      "source": [
        "## 3.3. Convert Columns to Numeric"
      ],
      "metadata": {
        "id": "kvsCm3nj38HG"
      }
    },
    {
      "cell_type": "code",
      "source": [
        "from sklearn.impute import SimpleImputer\n",
        "\n",
        "# Convert columns to numeric where possible\n",
        "columns_to_clean = ['H', 'e', 'a', 'q', 'i', 'om', 'w', 'ma', 'n']\n",
        "for col in columns_to_clean:\n",
        "    if col in df.columns:\n",
        "        df[col] = pd.to_numeric(df[col], errors='coerce')"
      ],
      "metadata": {
        "id": "Ud_PwlNArh8P"
      },
      "execution_count": 6,
      "outputs": []
    },
    {
      "cell_type": "markdown",
      "source": [
        "## 3.4. Impute Missing Values"
      ],
      "metadata": {
        "id": "NRcOqnMe4DdG"
      }
    },
    {
      "cell_type": "code",
      "source": [
        "# Impute missing values in numeric columns\n",
        "numeric_cols = df.select_dtypes(include=[np.number]).columns.tolist()\n",
        "imputer = SimpleImputer(strategy='mean')\n",
        "df[numeric_cols] = imputer.fit_transform(df[numeric_cols])"
      ],
      "metadata": {
        "id": "TKjjTidMrqMG"
      },
      "execution_count": 7,
      "outputs": []
    },
    {
      "cell_type": "markdown",
      "source": [
        "# 3. Feature Engineering"
      ],
      "metadata": {
        "id": "77bLo5fP5bgF"
      }
    },
    {
      "cell_type": "markdown",
      "source": [
        "## 3.1. Binary Mapping"
      ],
      "metadata": {
        "id": "O09U-J-H6TUd"
      }
    },
    {
      "cell_type": "code",
      "source": [
        "# Map binary columns\n",
        "binary_mapping = {'Y': 1, 'N': 0}\n",
        "for col in ['neo', 'pha']:\n",
        "    if col in df.columns:\n",
        "        df[col] = df[col].map(binary_mapping)"
      ],
      "metadata": {
        "id": "nUlg2acO6ccu"
      },
      "execution_count": 8,
      "outputs": []
    },
    {
      "cell_type": "markdown",
      "source": [
        "## 3.2. Handle Dates"
      ],
      "metadata": {
        "id": "i3FcGjDa6dp-"
      }
    },
    {
      "cell_type": "code",
      "source": [
        "# Handle date columns\n",
        "date_cols = ['epoch_cal', 'tp_cal', 'first_obs', 'last_obs']\n",
        "for col in date_cols:\n",
        "    if col in df.columns:\n",
        "        df[col] = pd.to_datetime(df[col], errors='coerce', format='%Y-%m-%d')\n",
        "        df[f'{col}_year'] = df[col].dt.year\n",
        "        df[f'{col}_month'] = df[col].dt.month\n",
        "        df[f'{col}_day'] = df[col].dt.day\n",
        "        df.drop(columns=[col], inplace=True)"
      ],
      "metadata": {
        "id": "vTWooEcM6gJ-"
      },
      "execution_count": 9,
      "outputs": []
    },
    {
      "cell_type": "code",
      "source": [
        "remaining_categorical_cols = df.select_dtypes(include=['object', 'category']).columns.tolist()\n",
        "print(\"\\nRemaining Categorical Columns after Date conversion:\", remaining_categorical_cols)"
      ],
      "metadata": {
        "colab": {
          "base_uri": "https://localhost:8080/"
        },
        "id": "Xbmj-I-g7b4N",
        "outputId": "86ef3ca7-e399-409c-a4a0-ac2f41b14489"
      },
      "execution_count": 10,
      "outputs": [
        {
          "output_type": "stream",
          "name": "stdout",
          "text": [
            "\n",
            "Remaining Categorical Columns after Date conversion: ['class']\n"
          ]
        }
      ]
    },
    {
      "cell_type": "markdown",
      "source": [
        "## 3.3. One-Hot Encoding"
      ],
      "metadata": {
        "id": "QUqIpPxu6_lV"
      }
    },
    {
      "cell_type": "code",
      "source": [
        "#Identify Remaining Categorical Columns\n",
        "remaining_categorical_cols = df.select_dtypes(include=['object', 'category']).columns.tolist()\n",
        "print(\"\\nRemaining Categorical Columns after Binary Mapping:\", remaining_categorical_cols)"
      ],
      "metadata": {
        "colab": {
          "base_uri": "https://localhost:8080/"
        },
        "id": "1cgaIdfN7AvN",
        "outputId": "aa993a85-ddb2-4cdb-f0c1-513325d06cec"
      },
      "execution_count": 11,
      "outputs": [
        {
          "output_type": "stream",
          "name": "stdout",
          "text": [
            "\n",
            "Remaining Categorical Columns after Binary Mapping: ['class']\n"
          ]
        }
      ]
    },
    {
      "cell_type": "code",
      "source": [
        "# One-hot encode the 'class' column\n",
        "if 'class' in df.columns:\n",
        "    df = pd.get_dummies(df, columns=['class'], prefix='class', drop_first=True)"
      ],
      "metadata": {
        "id": "i-izvNfF7OjV"
      },
      "execution_count": 12,
      "outputs": []
    },
    {
      "cell_type": "code",
      "source": [
        "# Check unique values in the 'class' column\n",
        "if 'class' in df.columns:\n",
        "    print(\"Unique values in 'class' column:\", df['class'].unique())"
      ],
      "metadata": {
        "id": "UKatkcEb7ydt"
      },
      "execution_count": 15,
      "outputs": []
    },
    {
      "cell_type": "markdown",
      "source": [
        "## 3.4. Derive New Features"
      ],
      "metadata": {
        "id": "OZSFDaAs58V1"
      }
    },
    {
      "cell_type": "code",
      "source": [
        "GRAVITATIONAL_CONSTANT = 39.478\n",
        "\n",
        "# Add derived features\n",
        "df['relative_orbital_distance'] = np.abs(df['q'] - df['a'] * (1 - df['e']))\n",
        "df['orbital_velocity'] = np.sqrt(GRAVITATIONAL_CONSTANT / df['a'])\n",
        "df['adjusted_eccentricity'] = df['e'] * df['a'] / df['q']\n",
        "\n",
        "# Perturbed features\n",
        "for col in ['a', 'e', 'q', 'i']:\n",
        "    sigma_col = f'sigma_{col}'\n",
        "    if sigma_col in df.columns:\n",
        "        df[f'{col}_perturbed'] = df[col] + np.random.normal(0, df[sigma_col])"
      ],
      "metadata": {
        "colab": {
          "base_uri": "https://localhost:8080/"
        },
        "id": "IH4xPYohWkKd",
        "outputId": "db27394e-0da4-488a-c644-d2eecbf0b3ef"
      },
      "execution_count": 16,
      "outputs": [
        {
          "output_type": "stream",
          "name": "stderr",
          "text": [
            "/usr/local/lib/python3.10/dist-packages/pandas/core/arraylike.py:399: RuntimeWarning: invalid value encountered in sqrt\n",
            "  result = getattr(ufunc, method)(*inputs, **kwargs)\n"
          ]
        }
      ]
    },
    {
      "cell_type": "markdown",
      "source": [
        "#4. Define Features and Target"
      ],
      "metadata": {
        "id": "tIlU4ieP5dte"
      }
    },
    {
      "cell_type": "markdown",
      "source": [
        "## 4.1. Create Collision Risk"
      ],
      "metadata": {
        "id": "4UXaa08S7_rM"
      }
    },
    {
      "cell_type": "code",
      "source": [
        "# Create collision_risk based on MOID\n",
        "df['collision_risk'] = np.where(df['moid'] < 0.05, 1, 0)"
      ],
      "metadata": {
        "id": "8ILV0epw8C-v"
      },
      "execution_count": 17,
      "outputs": []
    },
    {
      "cell_type": "code",
      "source": [
        "# Check if collision_risk was created successfully\n",
        "print(df[['moid', 'collision_risk']])"
      ],
      "metadata": {
        "colab": {
          "base_uri": "https://localhost:8080/"
        },
        "id": "0M73Q-0s5riu",
        "outputId": "f12ee568-39e8-4134-9ae5-e75286694083"
      },
      "execution_count": 18,
      "outputs": [
        {
          "output_type": "stream",
          "name": "stdout",
          "text": [
            "            moid  collision_risk\n",
            "0       1.240420               0\n",
            "1       0.629025               0\n",
            "2       1.015530               0\n",
            "3       1.230665               0\n",
            "4       0.923138               0\n",
            "...          ...             ...\n",
            "677489  0.272574               0\n",
            "677490  0.000087               1\n",
            "677491  0.816015               0\n",
            "677492  0.672539               0\n",
            "677493  0.036665               1\n",
            "\n",
            "[677494 rows x 2 columns]\n"
          ]
        }
      ]
    },
    {
      "cell_type": "markdown",
      "source": [
        "## 4.2. Define Features (X) and Target (y)"
      ],
      "metadata": {
        "id": "HZIwuz3S8Kcu"
      }
    },
    {
      "cell_type": "code",
      "source": [
        "# Define features and target\n",
        "features_to_drop = ['moid', 'moid_ld']  # Exclude MOID-related features\n",
        "X = df.drop(columns=features_to_drop + ['collision_risk'])\n",
        "y = df['collision_risk']\n",
        "\n",
        "# Ensure only numeric features\n",
        "X = X.select_dtypes(include=[np.number])"
      ],
      "metadata": {
        "id": "HDRQuDHL8Oou"
      },
      "execution_count": 19,
      "outputs": []
    },
    {
      "cell_type": "markdown",
      "source": [
        "# 5. Data Splitting and Scaling"
      ],
      "metadata": {
        "id": "8acFs0W_6RlO"
      }
    },
    {
      "cell_type": "markdown",
      "source": [
        "## 5.1. Split Dataset"
      ],
      "metadata": {
        "id": "bbkLe9ES6Tmu"
      }
    },
    {
      "cell_type": "code",
      "source": [
        "from sklearn.model_selection import train_test_split\n",
        "\n",
        "# Split the dataset\n",
        "X_train, X_test, y_train, y_test = train_test_split(\n",
        "    X, y, test_size=0.2, random_state=42, stratify=y\n",
        ")"
      ],
      "metadata": {
        "id": "n5l7Alif6Wym"
      },
      "execution_count": 20,
      "outputs": []
    },
    {
      "cell_type": "markdown",
      "source": [
        "## Drop Columns With All Missing Values"
      ],
      "metadata": {
        "id": "635Oe_Ca-ayM"
      }
    },
    {
      "cell_type": "code",
      "source": [
        "# Identify and drop columns with all missing values\n",
        "all_missing_cols = X_train.columns[X_train.isnull().all()]\n",
        "print(\"Columns with all missing values:\", all_missing_cols)\n",
        "\n",
        "X_train = X_train.drop(columns=all_missing_cols)\n",
        "X_test = X_test.drop(columns=all_missing_cols)"
      ],
      "metadata": {
        "colab": {
          "base_uri": "https://localhost:8080/"
        },
        "id": "xIVuyhZX-dkN",
        "outputId": "e3a6e0fc-6dfe-44b7-afc8-b969c570bc2a"
      },
      "execution_count": 22,
      "outputs": [
        {
          "output_type": "stream",
          "name": "stdout",
          "text": [
            "Columns with all missing values: Index(['epoch_cal_year', 'epoch_cal_month', 'epoch_cal_day', 'tp_cal_year',\n",
            "       'tp_cal_month', 'tp_cal_day'],\n",
            "      dtype='object')\n"
          ]
        }
      ]
    },
    {
      "cell_type": "markdown",
      "source": [
        "## 5.2 Reimpute Missing values"
      ],
      "metadata": {
        "id": "qxOukc1E3DM1"
      }
    },
    {
      "cell_type": "code",
      "source": [
        "\n",
        "# Re-impute missing values in training and testing sets\n",
        "imputer = SimpleImputer(strategy='mean')\n",
        "X_train = pd.DataFrame(imputer.fit_transform(X_train), columns=X_train.columns)\n",
        "X_test = pd.DataFrame(imputer.transform(X_test), columns=X_test.columns)\n",
        "\n",
        "# Verify no missing values remain\n",
        "print(\"Missing Values in X_train:\", X_train.isnull().sum().sum())\n",
        "print(\"Missing Values in X_test:\", X_test.isnull().sum().sum())"
      ],
      "metadata": {
        "colab": {
          "base_uri": "https://localhost:8080/"
        },
        "id": "p9UEFyp43GJ1",
        "outputId": "8f5592b2-5ad6-4ab5-8877-fccb19cc7e3d"
      },
      "execution_count": 23,
      "outputs": [
        {
          "output_type": "stream",
          "name": "stdout",
          "text": [
            "Missing Values in X_train: 0\n",
            "Missing Values in X_test: 0\n"
          ]
        }
      ]
    },
    {
      "cell_type": "markdown",
      "source": [
        "## 5.3. Resample Using SMOTE"
      ],
      "metadata": {
        "id": "Tr2fh6Xp6ZYm"
      }
    },
    {
      "cell_type": "code",
      "source": [
        "!pip install imbalanced-learn"
      ],
      "metadata": {
        "colab": {
          "base_uri": "https://localhost:8080/"
        },
        "id": "yys3dKZAflaL",
        "outputId": "57d32086-042c-4e41-b382-2acbacfb68a1"
      },
      "execution_count": 24,
      "outputs": [
        {
          "output_type": "stream",
          "name": "stdout",
          "text": [
            "Collecting imbalanced-learn\n",
            "  Downloading imbalanced_learn-0.12.4-py3-none-any.whl.metadata (8.3 kB)\n",
            "Requirement already satisfied: numpy>=1.17.3 in /usr/local/lib/python3.10/dist-packages (from imbalanced-learn) (1.26.4)\n",
            "Requirement already satisfied: scipy>=1.5.0 in /usr/local/lib/python3.10/dist-packages (from imbalanced-learn) (1.13.1)\n",
            "Requirement already satisfied: scikit-learn>=1.0.2 in /usr/local/lib/python3.10/dist-packages (from imbalanced-learn) (1.5.2)\n",
            "Requirement already satisfied: joblib>=1.1.1 in /usr/local/lib/python3.10/dist-packages (from imbalanced-learn) (1.4.2)\n",
            "Requirement already satisfied: threadpoolctl>=2.0.0 in /usr/local/lib/python3.10/dist-packages (from imbalanced-learn) (3.5.0)\n",
            "Downloading imbalanced_learn-0.12.4-py3-none-any.whl (258 kB)\n",
            "\u001b[?25l   \u001b[90m━━━━━━━━━━━━━━━━━━━━━━━━━━━━━━━━━━━━━━━━\u001b[0m \u001b[32m0.0/258.3 kB\u001b[0m \u001b[31m?\u001b[0m eta \u001b[36m-:--:--\u001b[0m\r\u001b[2K   \u001b[91m━━━━━━━━━━━━━━━━━━━━━━━━━━━━━━━━━━━━━━━\u001b[0m\u001b[91m╸\u001b[0m \u001b[32m256.0/258.3 kB\u001b[0m \u001b[31m7.9 MB/s\u001b[0m eta \u001b[36m0:00:01\u001b[0m\r\u001b[2K   \u001b[90m━━━━━━━━━━━━━━━━━━━━━━━━━━━━━━━━━━━━━━━━\u001b[0m \u001b[32m258.3/258.3 kB\u001b[0m \u001b[31m5.5 MB/s\u001b[0m eta \u001b[36m0:00:00\u001b[0m\n",
            "\u001b[?25hInstalling collected packages: imbalanced-learn\n",
            "Successfully installed imbalanced-learn-0.12.4\n"
          ]
        }
      ]
    },
    {
      "cell_type": "code",
      "source": [
        "from imblearn.over_sampling import SMOTE\n",
        "\n",
        "# Apply SMOTE\n",
        "smote = SMOTE(random_state=42)\n",
        "X_train_resampled, y_train_resampled = smote.fit_resample(X_train, y_train)\n",
        "\n",
        "print(\"Resampled Training Set Shape:\", X_train_resampled.shape, y_train_resampled.shape)"
      ],
      "metadata": {
        "colab": {
          "base_uri": "https://localhost:8080/"
        },
        "id": "GckPuA3a6cdV",
        "outputId": "b52aedb0-c4f1-495d-e04c-1c4538da2b41"
      },
      "execution_count": 25,
      "outputs": [
        {
          "output_type": "stream",
          "name": "stdout",
          "text": [
            "Resampled Training Set Shape: (1054508, 50) (1054508,)\n"
          ]
        }
      ]
    },
    {
      "cell_type": "markdown",
      "source": [
        "## Verify Resampling"
      ],
      "metadata": {
        "id": "TRlN6-tSmKmk"
      }
    },
    {
      "cell_type": "code",
      "source": [
        "# Verify the class distribution\n",
        "print(\"Class Distribution After Resampling:\\n\", pd.Series(y_train_resampled).value_counts())"
      ],
      "metadata": {
        "colab": {
          "base_uri": "https://localhost:8080/"
        },
        "id": "h_EM9OSDl3n7",
        "outputId": "c9048aea-2d0f-469b-c6f0-c4fcaeb778d9"
      },
      "execution_count": 26,
      "outputs": [
        {
          "output_type": "stream",
          "name": "stdout",
          "text": [
            "Class Distribution After Resampling:\n",
            " collision_risk\n",
            "0    527254\n",
            "1    527254\n",
            "Name: count, dtype: int64\n"
          ]
        }
      ]
    },
    {
      "cell_type": "markdown",
      "source": [
        "## Check for Non-Numeric Data:"
      ],
      "metadata": {
        "id": "QccawqYVl9Tj"
      }
    },
    {
      "cell_type": "code",
      "source": [
        "non_numeric_cols = X_train.select_dtypes(exclude=[np.number]).columns.tolist()\n",
        "print(\"Non-Numeric Columns in X_train:\", non_numeric_cols)"
      ],
      "metadata": {
        "colab": {
          "base_uri": "https://localhost:8080/"
        },
        "id": "WBZ6oHEWl_Pr",
        "outputId": "03f7c8d4-7674-4af0-a673-7b69bfda562d"
      },
      "execution_count": 27,
      "outputs": [
        {
          "output_type": "stream",
          "name": "stdout",
          "text": [
            "Non-Numeric Columns in X_train: []\n"
          ]
        }
      ]
    },
    {
      "cell_type": "markdown",
      "source": [
        "## Check for Missing Values in the Dataset"
      ],
      "metadata": {
        "id": "H6guWn_fmBxU"
      }
    },
    {
      "cell_type": "code",
      "source": [
        "print(\"Missing Values in the Entire Dataset:\\n\", df.isnull().sum())"
      ],
      "metadata": {
        "colab": {
          "base_uri": "https://localhost:8080/"
        },
        "id": "cqo7UfqkmFKj",
        "outputId": "f140e14f-2bc1-4095-c47e-59b6bc06f323"
      },
      "execution_count": 28,
      "outputs": [
        {
          "output_type": "stream",
          "name": "stdout",
          "text": [
            "Missing Values in the Entire Dataset:\n",
            " a                 0\n",
            "e                 0\n",
            "i                 0\n",
            "om                0\n",
            "w                 0\n",
            "                 ..\n",
            "a_perturbed       0\n",
            "e_perturbed       0\n",
            "q_perturbed       0\n",
            "i_perturbed       0\n",
            "collision_risk    0\n",
            "Length: 68, dtype: int64\n"
          ]
        }
      ]
    }
  ]
}