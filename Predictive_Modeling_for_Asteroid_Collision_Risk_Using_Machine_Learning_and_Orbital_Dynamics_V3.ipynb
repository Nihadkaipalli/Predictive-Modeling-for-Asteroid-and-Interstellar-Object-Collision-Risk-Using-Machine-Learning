{
  "nbformat": 4,
  "nbformat_minor": 0,
  "metadata": {
    "colab": {
      "provenance": [],
      "toc_visible": true,
      "gpuType": "V28",
      "authorship_tag": "ABX9TyN+29bMwrqpAtYgG8WV0qS7"
    },
    "kernelspec": {
      "name": "python3",
      "display_name": "Python 3"
    },
    "language_info": {
      "name": "python"
    },
    "accelerator": "TPU"
  },
  "cells": [
    {
      "cell_type": "code",
      "source": [
        "# Mount Google Drive (if using Google Colab)\n",
        "from google.colab import drive\n",
        "drive.mount('/content/drive')"
      ],
      "metadata": {
        "colab": {
          "base_uri": "https://localhost:8080/"
        },
        "id": "aV0sd7_kFe5B",
        "outputId": "430cc233-359d-43e7-b05b-fce78ad84d5f"
      },
      "execution_count": 1,
      "outputs": [
        {
          "output_type": "stream",
          "name": "stdout",
          "text": [
            "Drive already mounted at /content/drive; to attempt to forcibly remount, call drive.mount(\"/content/drive\", force_remount=True).\n"
          ]
        }
      ]
    },
    {
      "cell_type": "code",
      "execution_count": 2,
      "metadata": {
        "colab": {
          "base_uri": "https://localhost:8080/"
        },
        "id": "Clh3bFNPD6CY",
        "outputId": "2cd0a280-da93-48df-d93a-4ab3bb9d0d3f"
      },
      "outputs": [
        {
          "output_type": "stream",
          "name": "stdout",
          "text": [
            "Dataset Shape: (677494, 79)\n",
            "First 5 Rows:\n",
            "    diameter  extent  albedo  rot_per  GM  BV  UB  IR spec_B  spec_T  ...  \\\n",
            "0       NaN     NaN     NaN      NaN NaN NaN NaN NaN    NaN     NaN  ...   \n",
            "1       NaN     NaN     NaN      NaN NaN NaN NaN NaN    NaN     NaN  ...   \n",
            "2       NaN     NaN     NaN      NaN NaN NaN NaN NaN    NaN     NaN  ...   \n",
            "3       NaN     NaN     NaN      NaN NaN NaN NaN NaN    NaN     NaN  ...   \n",
            "4       NaN     NaN     NaN      NaN NaN NaN NaN NaN    NaN     NaN  ...   \n",
            "\n",
            "        rms  two_body  A1  A1_sigma  A2  A2_sigma  A3  A3_sigma  DT  DT_sigma  \n",
            "0  0.000533       NaN NaN       NaN NaN       NaN NaN       NaN NaN       NaN  \n",
            "1  0.071263       NaN NaN       NaN NaN       NaN NaN       NaN NaN       NaN  \n",
            "2  0.000002       NaN NaN       NaN NaN       NaN NaN       NaN NaN       NaN  \n",
            "3       NaN         T NaN       NaN NaN       NaN NaN       NaN NaN       NaN  \n",
            "4  0.339380       NaN NaN       NaN NaN       NaN NaN       NaN NaN       NaN  \n",
            "\n",
            "[5 rows x 79 columns]\n"
          ]
        }
      ],
      "source": [
        "# Import libraries\n",
        "import pandas as pd\n",
        "import numpy as np\n",
        "\n",
        "# Load the dataset\n",
        "file_path = '/content/drive/My Drive/Asteroid Collision Dataset V2.csv'\n",
        "df = pd.read_csv(file_path, low_memory=False)\n",
        "\n",
        "# Inspect the dataset\n",
        "print(\"Dataset Shape:\", df.shape)\n",
        "print(\"First 5 Rows:\\n\", df.head())"
      ]
    },
    {
      "cell_type": "code",
      "source": [
        "# Missing Data Analysis\n",
        "missing_summary = df.isnull().mean().sort_values(ascending=False) * 100\n",
        "missing_summary = missing_summary[missing_summary > 0]\n",
        "print(\"\\nMissing Data Summary (Percentage of Missing Values):\")\n",
        "print(missing_summary)"
      ],
      "metadata": {
        "colab": {
          "base_uri": "https://localhost:8080/"
        },
        "id": "sCGDZzB9F2E6",
        "outputId": "a645666a-3090-40ad-ae0e-1186d2a4683a"
      },
      "execution_count": 3,
      "outputs": [
        {
          "output_type": "stream",
          "name": "stdout",
          "text": [
            "\n",
            "Missing Data Summary (Percentage of Missing Values):\n",
            "DT_sigma          100.000000\n",
            "extent            100.000000\n",
            "G                 100.000000\n",
            "M1                100.000000\n",
            "GM                100.000000\n",
            "BV                100.000000\n",
            "UB                100.000000\n",
            "IR                100.000000\n",
            "M2                100.000000\n",
            "spec_T            100.000000\n",
            "DT                100.000000\n",
            "K1                100.000000\n",
            "K2                100.000000\n",
            "PC                100.000000\n",
            "name               99.999852\n",
            "prefix             99.999410\n",
            "A3                 99.998967\n",
            "A3_sigma           99.998967\n",
            "A1_sigma           99.997491\n",
            "A1                 99.997491\n",
            "spec_B             99.992620\n",
            "A2_sigma           99.976531\n",
            "A2                 99.976531\n",
            "n_del_obs_used     99.910700\n",
            "n_dop_obs_used     99.910700\n",
            "rot_per            99.801179\n",
            "two_body           99.062427\n",
            "albedo             99.040582\n",
            "diameter_sigma     98.987002\n",
            "diameter           98.986559\n",
            "H_sigma            15.064635\n",
            "sigma_per           0.937868\n",
            "sigma_ad            0.937868\n",
            "pha                 0.937720\n",
            "moid                0.937573\n",
            "sigma_tp            0.937573\n",
            "sigma_n             0.937573\n",
            "sigma_ma            0.937573\n",
            "sigma_w             0.937573\n",
            "sigma_om            0.937573\n",
            "sigma_i             0.937573\n",
            "sigma_q             0.937573\n",
            "sigma_a             0.937573\n",
            "moid_jup            0.937573\n",
            "moid_ld             0.937573\n",
            "sigma_e             0.937573\n",
            "data_arc            0.392771\n",
            "H                   0.146717\n",
            "condition_code      0.001033\n",
            "neo                 0.000295\n",
            "per_y               0.000295\n",
            "per                 0.000295\n",
            "ad                  0.000295\n",
            "t_jup               0.000295\n",
            "rms                 0.000148\n",
            "dtype: float64\n"
          ]
        }
      ]
    },
    {
      "cell_type": "code",
      "source": [
        "# Drop Columns with Excessive Missing Values and Irrelevant Columns\n",
        "missing_threshold = 0.9  # 90%\n",
        "cols_to_drop_missing = missing_summary[missing_summary > missing_threshold * 100].index.tolist()\n",
        "irrelevant_columns = ['producer', 'equinox', 'orbit_id','pdes',]\n",
        "cols_to_drop = list(set(cols_to_drop_missing + irrelevant_columns))\n",
        "\n",
        "df.drop(columns=cols_to_drop, inplace=True, errors='ignore')\n",
        "print(\"\\nDropped Columns:\")\n",
        "for col in cols_to_drop:\n",
        "    print(f\" - {col}\")"
      ],
      "metadata": {
        "colab": {
          "base_uri": "https://localhost:8080/"
        },
        "id": "O0oJSXZ6GIlx",
        "outputId": "25c660aa-7945-4155-883e-4774984c8f5b"
      },
      "execution_count": 4,
      "outputs": [
        {
          "output_type": "stream",
          "name": "stdout",
          "text": [
            "\n",
            "Dropped Columns:\n",
            " - G\n",
            " - diameter_sigma\n",
            " - A3\n",
            " - rot_per\n",
            " - producer\n",
            " - extent\n",
            " - name\n",
            " - n_dop_obs_used\n",
            " - albedo\n",
            " - pdes\n",
            " - prefix\n",
            " - K1\n",
            " - A2_sigma\n",
            " - UB\n",
            " - spec_T\n",
            " - orbit_id\n",
            " - DT\n",
            " - A1_sigma\n",
            " - n_del_obs_used\n",
            " - equinox\n",
            " - A1\n",
            " - PC\n",
            " - BV\n",
            " - M2\n",
            " - A2\n",
            " - GM\n",
            " - diameter\n",
            " - two_body\n",
            " - K2\n",
            " - A3_sigma\n",
            " - M1\n",
            " - IR\n",
            " - DT_sigma\n",
            " - spec_B\n"
          ]
        }
      ]
    },
    {
      "cell_type": "code",
      "source": [
        "print(df.head())"
      ],
      "metadata": {
        "colab": {
          "base_uri": "https://localhost:8080/"
        },
        "id": "NGCBqqfdq5JO",
        "outputId": "756889a4-330d-4a6d-e488-a0187750d20a"
      },
      "execution_count": 5,
      "outputs": [
        {
          "output_type": "stream",
          "name": "stdout",
          "text": [
            "          full_name         a         e          i          om           w  \\\n",
            "0         (1927 LA)  3.344072  0.333618  17.631497  191.717418  341.109523   \n",
            "1         (1935 UZ)  2.149638  0.251325   4.728640  134.342070  281.563658   \n",
            "2         (1937 CK)  2.320503  0.138476   6.549856  273.834058  130.418938   \n",
            "3         (1939 RR)  2.904675  0.253684  13.139290  322.997330   64.837530   \n",
            "4         (1942 RH)  2.257216  0.145324   4.223982  205.857738  134.532417   \n",
            "\n",
            "          q        ad     per_y  data_arc  ...  sigma_w  sigma_ma  sigma_ad  \\\n",
            "0  2.228428  4.459715  6.115353      34.0  ...   1.1161   0.47857  0.032768   \n",
            "1  1.609380  2.689895  3.151781       4.0  ...  33.7820  11.31700  0.435020   \n",
            "2  1.999169  2.641838  3.534936      31.0  ...   2.0890  23.32100  0.004895   \n",
            "3  2.167804  3.641545  4.950561      27.0  ...      NaN       NaN       NaN   \n",
            "4  1.929189  2.585243  3.391313      10.0  ...  10.3150   8.20790  0.094289   \n",
            "\n",
            "    sigma_n sigma_tp sigma_per  class   first_obs    last_obs       rms  \n",
            "0  0.001776   1.0621   24.6170    OMB  1927-06-01  1927-07-05  0.000533  \n",
            "1  0.075861  35.0930  279.2600    MCA  1935-10-19  1935-10-23  0.071263  \n",
            "2  0.000775  83.3740    3.5881    MBA  1937-02-10  1937-03-13  0.000002  \n",
            "3       NaN      NaN       NaN    MBA  1939-09-15  1939-10-12       NaN  \n",
            "4  0.015900  28.6600   67.7660    MBA  1942-09-05  1942-09-15  0.339380  \n",
            "\n",
            "[5 rows x 45 columns]\n"
          ]
        }
      ]
    },
    {
      "cell_type": "code",
      "source": [
        "# Missing Data Analysis\n",
        "missing_summary = df.isnull().mean().sort_values(ascending=False) * 100\n",
        "missing_summary = missing_summary[missing_summary > 0]\n",
        "print(\"\\nMissing Data Summary (Percentage of Missing Values):\")\n",
        "print(missing_summary)"
      ],
      "metadata": {
        "colab": {
          "base_uri": "https://localhost:8080/"
        },
        "id": "qSfe3D0_rjfN",
        "outputId": "71935dd1-0e7c-424e-9c0d-83cac7e2a0d6"
      },
      "execution_count": 6,
      "outputs": [
        {
          "output_type": "stream",
          "name": "stdout",
          "text": [
            "\n",
            "Missing Data Summary (Percentage of Missing Values):\n",
            "H_sigma           15.064635\n",
            "sigma_per          0.937868\n",
            "sigma_ad           0.937868\n",
            "pha                0.937720\n",
            "moid_ld            0.937573\n",
            "sigma_n            0.937573\n",
            "sigma_om           0.937573\n",
            "sigma_w            0.937573\n",
            "sigma_ma           0.937573\n",
            "moid_jup           0.937573\n",
            "sigma_i            0.937573\n",
            "sigma_q            0.937573\n",
            "sigma_a            0.937573\n",
            "sigma_e            0.937573\n",
            "sigma_tp           0.937573\n",
            "moid               0.937573\n",
            "data_arc           0.392771\n",
            "H                  0.146717\n",
            "condition_code     0.001033\n",
            "t_jup              0.000295\n",
            "per                0.000295\n",
            "neo                0.000295\n",
            "per_y              0.000295\n",
            "ad                 0.000295\n",
            "rms                0.000148\n",
            "dtype: float64\n"
          ]
        }
      ]
    },
    {
      "cell_type": "code",
      "source": [
        "# Data Cleaning and Type Conversion\n",
        "columns_to_clean = ['H', 'e', 'a', 'q', 'i', 'om', 'w', 'ma', 'n']\n",
        "for col in columns_to_clean:\n",
        "    if col in df.columns:\n",
        "        df[col] = pd.to_numeric(df[col], errors='coerce')"
      ],
      "metadata": {
        "id": "Ud_PwlNArh8P"
      },
      "execution_count": 7,
      "outputs": []
    },
    {
      "cell_type": "code",
      "source": [
        "# Impute Missing Values in Numeric Columns\n",
        "from sklearn.impute import SimpleImputer\n",
        "numeric_cols = df.select_dtypes(include=[np.number]).columns.tolist()\n",
        "imputer = SimpleImputer(strategy='mean')\n",
        "df[numeric_cols] = imputer.fit_transform(df[numeric_cols])"
      ],
      "metadata": {
        "id": "TKjjTidMrqMG"
      },
      "execution_count": 8,
      "outputs": []
    },
    {
      "cell_type": "code",
      "source": [
        "# Binary Mapping for 'neo' and 'pha'\n",
        "binary_mapping = {'Y': 1, 'N': 0}\n",
        "for col in ['neo', 'pha']:\n",
        "    if col in df.columns:\n",
        "        df[col] = df[col].map(binary_mapping)"
      ],
      "metadata": {
        "id": "2Ca9Q4cHrz-u"
      },
      "execution_count": 9,
      "outputs": []
    },
    {
      "cell_type": "code",
      "source": [
        "# **Step 2: Identify Remaining Categorical Columns**\n",
        "remaining_categorical_cols = df.select_dtypes(include=['object', 'category']).columns.tolist()\n",
        "print(\"\\nRemaining Categorical Columns after Binary Mapping:\", remaining_categorical_cols)"
      ],
      "metadata": {
        "colab": {
          "base_uri": "https://localhost:8080/"
        },
        "id": "vMYnmPyEsE1u",
        "outputId": "fa1b2f41-7fde-4a07-8be3-0db91a967884"
      },
      "execution_count": 10,
      "outputs": [
        {
          "output_type": "stream",
          "name": "stdout",
          "text": [
            "\n",
            "Remaining Categorical Columns after Binary Mapping: ['full_name', 'epoch_cal', 'tp_cal', 'class', 'first_obs', 'last_obs']\n"
          ]
        }
      ]
    },
    {
      "cell_type": "code",
      "source": [
        "# Handle Date Columns\n",
        "date_cols = ['epoch_cal', 'tp_cal', 'first_obs', 'last_obs']\n",
        "for col in date_cols:\n",
        "    if col in df.columns:\n",
        "        df[col] = pd.to_datetime(df[col], errors='coerce', format='%Y-%m-%d')\n",
        "        df[f'{col}_year'] = df[col].dt.year\n",
        "        df[f'{col}_month'] = df[col].dt.month\n",
        "        df[f'{col}_day'] = df[col].dt.day\n",
        "        df.drop(columns=[col], inplace=True)  # Drop original column\n",
        "\n",
        "print(\"\\nData preprocessing complete. The DataFrame is ready for analysis.\")"
      ],
      "metadata": {
        "colab": {
          "base_uri": "https://localhost:8080/"
        },
        "id": "GsLdb0_Yr9aG",
        "outputId": "f1ee1954-8264-4d93-adce-89c849dee8de"
      },
      "execution_count": 11,
      "outputs": [
        {
          "output_type": "stream",
          "name": "stdout",
          "text": [
            "\n",
            "Data preprocessing complete. The DataFrame is ready for analysis.\n"
          ]
        }
      ]
    },
    {
      "cell_type": "code",
      "source": [
        "remaining_categorical_cols = df.select_dtypes(include=['object', 'category']).columns.tolist()\n",
        "print(\"\\nRemaining Categorical Columns after Date conversion:\", remaining_categorical_cols)"
      ],
      "metadata": {
        "colab": {
          "base_uri": "https://localhost:8080/"
        },
        "id": "KPq3t1ees4tf",
        "outputId": "4fb9e108-55b5-4efb-b3ee-731935f91535"
      },
      "execution_count": 12,
      "outputs": [
        {
          "output_type": "stream",
          "name": "stdout",
          "text": [
            "\n",
            "Remaining Categorical Columns after Date conversion: ['full_name', 'class']\n"
          ]
        }
      ]
    },
    {
      "cell_type": "code",
      "source": [
        "# Check unique values in the 'class' column\n",
        "if 'class' in df.columns:\n",
        "    print(\"Unique values in 'class' column:\", df['class'].unique())\n",
        "\n",
        "# One-hot encode the 'class' column\n",
        "if 'class' in df.columns:\n",
        "    df = pd.get_dummies(df, columns=['class'], prefix='class', drop_first=True)\n",
        "    print(\"\\nOne-hot encoding applied to 'class' column.\")\n",
        "    print(\"New columns added:\", [col for col in df.columns if col.startswith('class_')])"
      ],
      "metadata": {
        "colab": {
          "base_uri": "https://localhost:8080/"
        },
        "id": "k7MPpsC4r-ku",
        "outputId": "c2aa9d59-ab7f-4878-a447-de8d91dbdd2f"
      },
      "execution_count": 13,
      "outputs": [
        {
          "output_type": "stream",
          "name": "stdout",
          "text": [
            "Unique values in 'class' column: ['OMB' 'MCA' 'MBA' 'APO' 'AMO' 'IMB' 'ATE' 'IEO' 'TJN' 'HYA']\n",
            "\n",
            "One-hot encoding applied to 'class' column.\n",
            "New columns added: ['class_APO', 'class_ATE', 'class_HYA', 'class_IEO', 'class_IMB', 'class_MBA', 'class_MCA', 'class_OMB', 'class_TJN']\n"
          ]
        }
      ]
    },
    {
      "cell_type": "code",
      "source": [
        "print(\"Correlation with MOID:\\n\", df[['neo', 'pha', 'moid']].corr())"
      ],
      "metadata": {
        "colab": {
          "base_uri": "https://localhost:8080/"
        },
        "id": "aAfuCQL7XGZv",
        "outputId": "f6227acb-e38d-4e26-822b-891a8e04105f"
      },
      "execution_count": 14,
      "outputs": [
        {
          "output_type": "stream",
          "name": "stdout",
          "text": [
            "Correlation with MOID:\n",
            "            neo       pha      moid\n",
            "neo   1.000000  0.214061 -0.511961\n",
            "pha   0.214061  1.000000 -0.114805\n",
            "moid -0.511961 -0.114805  1.000000\n"
          ]
        }
      ]
    },
    {
      "cell_type": "code",
      "source": [
        "# Create collision_risk based on moid\n",
        "if 'moid' in df.columns:\n",
        "    df['collision_risk'] = np.where(df['moid'] < 0.05, 1, 0)\n",
        "    print(\"Created 'collision_risk' column based on 'moid'.\")\n",
        "else:\n",
        "    print(\"'moid' column not found. Cannot create 'collision_risk'.\")\n"
      ],
      "metadata": {
        "colab": {
          "base_uri": "https://localhost:8080/"
        },
        "id": "BG-kmHrBY9Qn",
        "outputId": "8db193ef-2cda-4280-f3b5-4b1ab9120405"
      },
      "execution_count": 15,
      "outputs": [
        {
          "output_type": "stream",
          "name": "stdout",
          "text": [
            "Created 'collision_risk' column based on 'moid'.\n"
          ]
        }
      ]
    },
    {
      "cell_type": "code",
      "source": [
        "# Check if collision_risk was created successfully\n",
        "print(df[['moid', 'collision_risk']])\n"
      ],
      "metadata": {
        "colab": {
          "base_uri": "https://localhost:8080/"
        },
        "id": "dlyYp2lmY-GG",
        "outputId": "306f666c-8335-4bee-b13b-9c6bfa97374c"
      },
      "execution_count": 16,
      "outputs": [
        {
          "output_type": "stream",
          "name": "stdout",
          "text": [
            "            moid  collision_risk\n",
            "0       1.240420               0\n",
            "1       0.629025               0\n",
            "2       1.015530               0\n",
            "3       1.230665               0\n",
            "4       0.923138               0\n",
            "...          ...             ...\n",
            "677489  0.272574               0\n",
            "677490  0.000087               1\n",
            "677491  0.816015               0\n",
            "677492  0.672539               0\n",
            "677493  0.036665               1\n",
            "\n",
            "[677494 rows x 2 columns]\n"
          ]
        }
      ]
    },
    {
      "cell_type": "code",
      "source": [
        "\n",
        "# Step 2: Define features and target\n",
        "selected_features = [\n",
        "    'a', 'e', 'i', 'q', 'ad', 'moid', 'moid_ld', 'per_y',\n",
        "    'condition_code', 'data_arc', 'n_obs_used', 'rms', 'H',\n",
        "    'neo', 'pha',  # Include binary indicators\n",
        "    'class_APO', 'class_ATE', 'class_HYA', 'class_IEO',\n",
        "    'class_IMB', 'class_MBA', 'class_MCA', 'class_OMB',\n",
        "    'class_TJN', 'sigma_e', 'sigma_a', 'sigma_q', 'sigma_i',\n",
        "    'sigma_om', 'sigma_w', 'sigma_ma', 'sigma_ad', 'sigma_n',\n",
        "    'sigma_tp', 'sigma_per'\n",
        "]\n",
        "\n",
        "X = df[selected_features]\n",
        "y = df['collision_risk']\n",
        "\n",
        "# Step 3: Verify shapes\n",
        "print(\"Feature Matrix Shape:\", X.shape)\n",
        "print(\"Target Shape:\", y.shape)\n"
      ],
      "metadata": {
        "colab": {
          "base_uri": "https://localhost:8080/"
        },
        "id": "IH4xPYohWkKd",
        "outputId": "fc4bfed0-65cd-4ba4-e8a6-d0bc09303aea"
      },
      "execution_count": 17,
      "outputs": [
        {
          "output_type": "stream",
          "name": "stdout",
          "text": [
            "Feature Matrix Shape: (677494, 35)\n",
            "Target Shape: (677494,)\n"
          ]
        }
      ]
    },
    {
      "cell_type": "markdown",
      "source": [
        "## Code for Imputation"
      ],
      "metadata": {
        "id": "WVXiFk-ZaHhm"
      }
    },
    {
      "cell_type": "code",
      "source": [
        "from sklearn.impute import SimpleImputer\n",
        "\n",
        "# Impute missing values in features\n",
        "imputer = SimpleImputer(strategy='mean')\n",
        "X = pd.DataFrame(imputer.fit_transform(X), columns=X.columns)\n",
        "\n",
        "# Verify no missing values remain\n",
        "print(\"Missing Values After Imputation:\\n\", X.isnull().sum().sum())\n"
      ],
      "metadata": {
        "colab": {
          "base_uri": "https://localhost:8080/"
        },
        "id": "G_kSkzDMaJfW",
        "outputId": "456dac57-e2e0-473f-e651-05558e617559"
      },
      "execution_count": 18,
      "outputs": [
        {
          "output_type": "stream",
          "name": "stdout",
          "text": [
            "Missing Values After Imputation:\n",
            " 0\n"
          ]
        }
      ]
    },
    {
      "cell_type": "markdown",
      "source": [
        "## Scale Features"
      ],
      "metadata": {
        "id": "FH8K2liBaQ3-"
      }
    },
    {
      "cell_type": "code",
      "source": [
        "from sklearn.preprocessing import StandardScaler\n",
        "\n",
        "# Initialize the scaler\n",
        "scaler = StandardScaler()\n",
        "\n",
        "# Scale features\n",
        "X_scaled = scaler.fit_transform(X)\n",
        "\n",
        "# Convert back to DataFrame for interpretability\n",
        "X_scaled = pd.DataFrame(X_scaled, columns=X.columns)\n",
        "\n",
        "# Verify scaled data\n",
        "print(\"Scaled Data Sample:\\n\", X_scaled.head())\n"
      ],
      "metadata": {
        "colab": {
          "base_uri": "https://localhost:8080/"
        },
        "id": "OcKJ4facaOFV",
        "outputId": "db8dfc13-8e21-46ff-dc8f-956197dd44e3"
      },
      "execution_count": 19,
      "outputs": [
        {
          "output_type": "stream",
          "name": "stdout",
          "text": [
            "Scaled Data Sample:\n",
            "           a         e         i         q        ad          moid  \\\n",
            "0  0.036022  1.457138  1.089862  0.037420  1.130606  1.904554e-02   \n",
            "1 -0.026644  0.676705 -0.779477 -1.123928 -0.400431 -1.174674e+00   \n",
            "2 -0.017680 -0.393505 -0.515623 -0.392675 -0.442004 -4.200413e-01   \n",
            "3  0.012969  0.699081  0.439040 -0.076312  0.422823  8.670627e-16   \n",
            "4 -0.021000 -0.328565 -0.852591 -0.523959 -0.490963 -6.004322e-01   \n",
            "\n",
            "        moid_ld     per_y  condition_code  data_arc  ...       sigma_a  \\\n",
            "0  1.904554e-02  0.197782    2.084778e+00 -1.355921  ... -2.318122e-03   \n",
            "1 -1.174674e+00 -0.155798    2.436276e+00 -1.367457  ... -1.352698e-03   \n",
            "2 -4.200413e-01 -0.110085    1.733279e+00 -1.357075  ... -2.378700e-03   \n",
            "3 -5.703627e-16  0.058812   -1.560968e-16 -1.358613  ... -3.317669e-19   \n",
            "4 -6.004322e-01 -0.127220    2.436276e+00 -1.365150  ... -2.145537e-03   \n",
            "\n",
            "        sigma_q       sigma_i  sigma_om       sigma_w      sigma_ma  \\\n",
            "0 -2.653454e-03 -4.570209e-03 -0.004762 -4.452634e-03 -5.491410e-03   \n",
            "1 -1.234144e-03  8.157029e-03  0.014924 -1.912305e-03 -4.005581e-03   \n",
            "2 -2.723725e-03 -4.774496e-03 -0.004646 -4.376975e-03 -2.359965e-03   \n",
            "3  6.124940e-19 -6.763545e-18  0.000000 -5.525678e-19  9.740757e-19   \n",
            "4 -2.263925e-03 -9.252176e-04 -0.000970 -3.737263e-03 -4.431804e-03   \n",
            "\n",
            "       sigma_ad       sigma_n      sigma_tp     sigma_per  \n",
            "0 -3.407236e-03 -4.337751e-03 -5.787790e-03 -3.612406e-03  \n",
            "1 -8.194764e-04  4.471765e-03 -4.695459e-03 -1.405414e-03  \n",
            "2 -3.586551e-03 -4.456834e-03 -3.145726e-03 -3.794664e-03  \n",
            "3 -1.428453e-18  3.300455e-18  6.386002e-18  1.970648e-18  \n",
            "4 -3.011460e-03 -2.658282e-03 -4.901947e-03 -3.238433e-03  \n",
            "\n",
            "[5 rows x 35 columns]\n"
          ]
        }
      ]
    },
    {
      "cell_type": "markdown",
      "source": [
        "# Random Forest"
      ],
      "metadata": {
        "id": "ZysQpwLAcLyP"
      }
    },
    {
      "cell_type": "code",
      "source": [
        "from sklearn.ensemble import RandomForestClassifier\n",
        "from sklearn.metrics import classification_report, confusion_matrix, accuracy_score\n",
        "import pandas as pd\n",
        "import matplotlib.pyplot as plt"
      ],
      "metadata": {
        "id": "qgq3nPvRcPHm"
      },
      "execution_count": 21,
      "outputs": []
    },
    {
      "cell_type": "code",
      "source": [
        "# Check class distribution\n",
        "class_distribution = y.value_counts(normalize=True) * 100\n",
        "print(\"Class Distribution (%):\\n\", class_distribution)"
      ],
      "metadata": {
        "colab": {
          "base_uri": "https://localhost:8080/"
        },
        "id": "7VwxFehoh9dV",
        "outputId": "cb621792-52fb-4065-8484-0e6333f137fb"
      },
      "execution_count": 22,
      "outputs": [
        {
          "output_type": "stream",
          "name": "stdout",
          "text": [
            "Class Distribution (%):\n",
            " collision_risk\n",
            "0    97.280271\n",
            "1     2.719729\n",
            "Name: proportion, dtype: float64\n"
          ]
        }
      ]
    },
    {
      "cell_type": "markdown",
      "source": [
        "## Drop moid and moid_ld From Features"
      ],
      "metadata": {
        "id": "Muj90DRQpvXl"
      }
    },
    {
      "cell_type": "code",
      "source": [
        "# Remove MOID-related features\n",
        "X_no_moid = X.drop(columns=['moid', 'moid_ld'])\n",
        "\n",
        "# Verify the shape of the new feature matrix\n",
        "print(\"Feature Matrix Shape Without MOID:\", X_no_moid.shape)"
      ],
      "metadata": {
        "colab": {
          "base_uri": "https://localhost:8080/"
        },
        "id": "0F4-n3g1pwqu",
        "outputId": "be917e3e-5bf7-4a41-ba8d-220d2f97c8c7"
      },
      "execution_count": 23,
      "outputs": [
        {
          "output_type": "stream",
          "name": "stdout",
          "text": [
            "Feature Matrix Shape Without MOID: (677494, 33)\n"
          ]
        }
      ]
    },
    {
      "cell_type": "code",
      "source": [
        "# Derived Features Implementation\n",
        "\n",
        "# 1. Relative Orbital Distance\n",
        "X_no_moid['relative_orbital_distance'] = np.abs(X['q'] - X['a'] * (1 - X['e']))\n",
        "\n",
        "# 2. Orbital Velocity\n",
        "GRAVITATIONAL_CONSTANT = 39.478  # Gravitational constant in AU^3 / day^2\n",
        "X_no_moid['orbital_velocity'] = np.sqrt(GRAVITATIONAL_CONSTANT / X['a'])\n",
        "\n",
        "# 3. Adjusted Eccentricity\n",
        "X_no_moid['adjusted_eccentricity'] = X['e'] * X['a'] / X['q']\n",
        "\n",
        "# 4. Perturbed Parameters\n",
        "for col in ['a', 'e', 'q', 'i']:\n",
        "    sigma_col = f'sigma_{col}'\n",
        "    if sigma_col in X.columns:\n",
        "        X_no_moid[f'{col}_perturbed'] = X[col] + np.random.normal(0, X[sigma_col])\n",
        "\n",
        "print(\"Derived features added to the dataset.\")"
      ],
      "metadata": {
        "colab": {
          "base_uri": "https://localhost:8080/"
        },
        "id": "BXh07XVxzMyW",
        "outputId": "20e22c9e-aa49-445e-9059-90d1398e133d"
      },
      "execution_count": 24,
      "outputs": [
        {
          "output_type": "stream",
          "name": "stdout",
          "text": [
            "Derived features added to the dataset.\n"
          ]
        },
        {
          "output_type": "stream",
          "name": "stderr",
          "text": [
            "/usr/local/lib/python3.10/dist-packages/pandas/core/arraylike.py:399: RuntimeWarning: invalid value encountered in sqrt\n",
            "  result = getattr(ufunc, method)(*inputs, **kwargs)\n"
          ]
        }
      ]
    },
    {
      "cell_type": "code",
      "source": [
        "# Add derived features to the resampled training and testing sets\n",
        "derived_features = ['relative_orbital_distance', 'orbital_velocity', 'adjusted_eccentricity'] + \\\n",
        "                   [f'{col}_perturbed' for col in ['a', 'e', 'q', 'i'] if f'{col}_perturbed' in X_no_moid.columns]\n",
        "\n",
        "X_train_no_moid[derived_features] = X_no_moid.loc[X_train_no_moid.index, derived_features]\n",
        "X_test_no_moid[derived_features] = X_no_moid.loc[X_test_no_moid.index, derived_features]"
      ],
      "metadata": {
        "colab": {
          "base_uri": "https://localhost:8080/",
          "height": 193
        },
        "id": "eXRmTJQizOY-",
        "outputId": "2169ef84-e5b2-4232-be81-bc3b0dfd449d"
      },
      "execution_count": 25,
      "outputs": [
        {
          "output_type": "error",
          "ename": "NameError",
          "evalue": "name 'X_train_no_moid' is not defined",
          "traceback": [
            "\u001b[0;31m---------------------------------------------------------------------------\u001b[0m",
            "\u001b[0;31mNameError\u001b[0m                                 Traceback (most recent call last)",
            "\u001b[0;32m<ipython-input-25-dd38c7788549>\u001b[0m in \u001b[0;36m<cell line: 5>\u001b[0;34m()\u001b[0m\n\u001b[1;32m      3\u001b[0m                    \u001b[0;34m[\u001b[0m\u001b[0;34mf'{col}_perturbed'\u001b[0m \u001b[0;32mfor\u001b[0m \u001b[0mcol\u001b[0m \u001b[0;32min\u001b[0m \u001b[0;34m[\u001b[0m\u001b[0;34m'a'\u001b[0m\u001b[0;34m,\u001b[0m \u001b[0;34m'e'\u001b[0m\u001b[0;34m,\u001b[0m \u001b[0;34m'q'\u001b[0m\u001b[0;34m,\u001b[0m \u001b[0;34m'i'\u001b[0m\u001b[0;34m]\u001b[0m \u001b[0;32mif\u001b[0m \u001b[0;34mf'{col}_perturbed'\u001b[0m \u001b[0;32min\u001b[0m \u001b[0mX_no_moid\u001b[0m\u001b[0;34m.\u001b[0m\u001b[0mcolumns\u001b[0m\u001b[0;34m]\u001b[0m\u001b[0;34m\u001b[0m\u001b[0;34m\u001b[0m\u001b[0m\n\u001b[1;32m      4\u001b[0m \u001b[0;34m\u001b[0m\u001b[0m\n\u001b[0;32m----> 5\u001b[0;31m \u001b[0mX_train_no_moid\u001b[0m\u001b[0;34m[\u001b[0m\u001b[0mderived_features\u001b[0m\u001b[0;34m]\u001b[0m \u001b[0;34m=\u001b[0m \u001b[0mX_no_moid\u001b[0m\u001b[0;34m.\u001b[0m\u001b[0mloc\u001b[0m\u001b[0;34m[\u001b[0m\u001b[0mX_train_no_moid\u001b[0m\u001b[0;34m.\u001b[0m\u001b[0mindex\u001b[0m\u001b[0;34m,\u001b[0m \u001b[0mderived_features\u001b[0m\u001b[0;34m]\u001b[0m\u001b[0;34m\u001b[0m\u001b[0;34m\u001b[0m\u001b[0m\n\u001b[0m\u001b[1;32m      6\u001b[0m \u001b[0mX_test_no_moid\u001b[0m\u001b[0;34m[\u001b[0m\u001b[0mderived_features\u001b[0m\u001b[0;34m]\u001b[0m \u001b[0;34m=\u001b[0m \u001b[0mX_no_moid\u001b[0m\u001b[0;34m.\u001b[0m\u001b[0mloc\u001b[0m\u001b[0;34m[\u001b[0m\u001b[0mX_test_no_moid\u001b[0m\u001b[0;34m.\u001b[0m\u001b[0mindex\u001b[0m\u001b[0;34m,\u001b[0m \u001b[0mderived_features\u001b[0m\u001b[0;34m]\u001b[0m\u001b[0;34m\u001b[0m\u001b[0;34m\u001b[0m\u001b[0m\n",
            "\u001b[0;31mNameError\u001b[0m: name 'X_train_no_moid' is not defined"
          ]
        }
      ]
    },
    {
      "cell_type": "markdown",
      "source": [
        "## Resample the Dataset Using SMOTE"
      ],
      "metadata": {
        "id": "pCikil6lp4z3"
      }
    },
    {
      "cell_type": "code",
      "source": [
        "from imblearn.over_sampling import SMOTE\n",
        "# Initialize SMOTE\n",
        "smote = SMOTE(random_state=42)"
      ],
      "metadata": {
        "id": "3DOXaprVr1Dd"
      },
      "execution_count": null,
      "outputs": []
    },
    {
      "cell_type": "code",
      "source": [
        "# Resample with SMOTE after adding derived features\n",
        "X_resampled_no_moid, y_resampled_no_moid = smote.fit_resample(X_train_no_moid, y_train)\n",
        "\n",
        "print(\"Resampled dataset includes derived features.\")"
      ],
      "metadata": {
        "id": "9iASJcGZjsgs"
      },
      "execution_count": null,
      "outputs": []
    },
    {
      "cell_type": "markdown",
      "source": [
        "## Train the Random Forest Model"
      ],
      "metadata": {
        "id": "F94EmSDwj31_"
      }
    },
    {
      "cell_type": "code",
      "source": [
        "# Retrain Random Forest\n",
        "rf_model_derived = RandomForestClassifier(\n",
        "    n_estimators=100,\n",
        "    random_state=42,\n",
        "    class_weight='balanced',\n",
        "    n_jobs=-1\n",
        ")\n",
        "\n",
        "rf_model_derived.fit(X_resampled_no_moid, y_resampled_no_moid)\n",
        "\n",
        "print(\"Random Forest retrained with derived features.\")"
      ],
      "metadata": {
        "id": "Lep2lfP8mqq-"
      },
      "execution_count": null,
      "outputs": []
    },
    {
      "cell_type": "markdown",
      "source": [
        "# Evaluate the Model"
      ],
      "metadata": {
        "id": "E5Cy8oRPqOHl"
      }
    },
    {
      "cell_type": "markdown",
      "source": [
        "## Predictions on the Original Test Set"
      ],
      "metadata": {
        "id": "xmzCj3zmkL51"
      }
    },
    {
      "cell_type": "code",
      "source": [
        "# Predict on the test set with derived features\n",
        "y_pred_derived = rf_model_derived.predict(X_test_no_moid)"
      ],
      "metadata": {
        "id": "x8e2qCMfqY1G"
      },
      "execution_count": null,
      "outputs": []
    },
    {
      "cell_type": "markdown",
      "source": [
        "## Classification Report"
      ],
      "metadata": {
        "id": "1usHYPdzqZ1F"
      }
    },
    {
      "cell_type": "code",
      "source": [
        "from sklearn.metrics import classification_report, confusion_matrix"
      ],
      "metadata": {
        "id": "H5NNrhqDz3le"
      },
      "execution_count": null,
      "outputs": []
    },
    {
      "cell_type": "code",
      "source": [
        "# Evaluate the model\n",
        "print(\"Classification Report With Derived Features:\")\n",
        "print(classification_report(y_test, y_pred_derived))"
      ],
      "metadata": {
        "id": "MIGVit89qceH"
      },
      "execution_count": null,
      "outputs": []
    },
    {
      "cell_type": "markdown",
      "source": [
        "## Confusion Matrix"
      ],
      "metadata": {
        "id": "c2DL5ndaqfLO"
      }
    },
    {
      "cell_type": "code",
      "source": [
        "# Confusion Matrix\n",
        "print(\"Confusion Matrix With Derived Features:\")\n",
        "print(confusion_matrix(y_test, y_pred_derived))\n"
      ],
      "metadata": {
        "id": "1flajcboqjIw"
      },
      "execution_count": null,
      "outputs": []
    },
    {
      "cell_type": "markdown",
      "source": [
        "# Feature Importance Analysis"
      ],
      "metadata": {
        "id": "2D_oienjqofY"
      }
    },
    {
      "cell_type": "code",
      "source": [
        "# Feature importance analysis\n",
        "import pandas as pd\n",
        "import matplotlib.pyplot as plt\n",
        "\n",
        "# Feature importance analysis\n",
        "feature_importance_derived = pd.DataFrame({\n",
        "    'Feature': X_train_no_moid.columns,\n",
        "    'Importance': rf_model_derived.feature_importances_\n",
        "}).sort_values(by='Importance', ascending=False)\n",
        "\n",
        "# Display top 10 features\n",
        "print(\"Top 10 Most Important Features With Derived Features:\")\n",
        "print(feature_importance_derived.head(10))\n",
        "\n",
        "# Plot feature importance\n",
        "plt.figure(figsize=(10, 6))\n",
        "plt.barh(feature_importance_derived['Feature'][:10], feature_importance_derived['Importance'][:10])\n",
        "plt.gca().invert_yaxis()\n",
        "plt.title(\"Top 10 Feature Importances With Derived Features\")\n",
        "plt.xlabel(\"Importance\")\n",
        "plt.ylabel(\"Feature\")\n",
        "plt.show()\n"
      ],
      "metadata": {
        "id": "XCU59SIoqutO"
      },
      "execution_count": null,
      "outputs": []
    }
  ]
}