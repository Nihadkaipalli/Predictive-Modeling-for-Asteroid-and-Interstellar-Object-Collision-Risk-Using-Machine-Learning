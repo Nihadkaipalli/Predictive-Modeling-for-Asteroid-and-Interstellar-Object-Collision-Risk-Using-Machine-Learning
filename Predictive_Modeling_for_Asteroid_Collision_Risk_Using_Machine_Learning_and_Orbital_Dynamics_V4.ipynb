{
  "nbformat": 4,
  "nbformat_minor": 0,
  "metadata": {
    "colab": {
      "provenance": [],
      "toc_visible": true,
      "authorship_tag": "ABX9TyO5g1SpDiGhBgXjk6IfXRhE",
      "include_colab_link": true
    },
    "kernelspec": {
      "name": "python3",
      "display_name": "Python 3"
    },
    "language_info": {
      "name": "python"
    }
  },
  "cells": [
    {
      "cell_type": "markdown",
      "metadata": {
        "id": "view-in-github",
        "colab_type": "text"
      },
      "source": [
        "<a href=\"https://colab.research.google.com/github/Nihadkaipalli/Predictive-Modeling-for-Asteroid-and-Interstellar-Object-Collision-Risk-Using-Machine-Learning/blob/main/Predictive_Modeling_for_Asteroid_Collision_Risk_Using_Machine_Learning_and_Orbital_Dynamics_V4.ipynb\" target=\"_parent\"><img src=\"https://colab.research.google.com/assets/colab-badge.svg\" alt=\"Open In Colab\"/></a>"
      ]
    },
    {
      "cell_type": "code",
      "source": [
        "# Install required libraries if not already installed\n",
        "!pip install imbalanced-learn xgboost scikeras[tensorflow] tensorflow\n",
        "\n",
        "# Import libraries for model training and evaluation\n",
        "import numpy as np\n",
        "import pandas as pd\n",
        "import matplotlib.pyplot as plt\n",
        "\n",
        "# Machine Learning models\n",
        "from sklearn.ensemble import RandomForestClassifier\n",
        "from xgboost import XGBClassifier\n",
        "import tensorflow as tf\n",
        "from tensorflow.keras.models import Sequential\n",
        "from tensorflow.keras.layers import Dense, Dropout\n",
        "\n",
        "# Model evaluation\n",
        "from sklearn.metrics import classification_report, confusion_matrix, accuracy_score\n",
        "\n",
        "# Hyperparameter tuning\n",
        "from sklearn.model_selection import RandomizedSearchCV\n",
        "from scikeras.wrappers import KerasClassifier\n",
        "\n",
        "# Save models\n",
        "import joblib\n",
        "\n",
        "# Ignore warnings\n",
        "import warnings\n",
        "warnings.filterwarnings('ignore')\n"
      ],
      "metadata": {
        "colab": {
          "base_uri": "https://localhost:8080/"
        },
        "id": "riUkWhWQSGkl",
        "outputId": "231ab3b2-8597-480d-be02-56ee8b63c0e8"
      },
      "execution_count": 39,
      "outputs": [
        {
          "output_type": "stream",
          "name": "stdout",
          "text": [
            "Requirement already satisfied: imbalanced-learn in /usr/local/lib/python3.10/dist-packages (0.12.4)\n",
            "Requirement already satisfied: xgboost in /usr/local/lib/python3.10/dist-packages (2.1.2)\n",
            "Requirement already satisfied: tensorflow in /usr/local/lib/python3.10/dist-packages (2.17.1)\n",
            "Collecting scikeras[tensorflow]\n",
            "  Downloading scikeras-0.13.0-py3-none-any.whl.metadata (3.1 kB)\n",
            "Requirement already satisfied: numpy>=1.17.3 in /usr/local/lib/python3.10/dist-packages (from imbalanced-learn) (1.26.4)\n",
            "Requirement already satisfied: scipy>=1.5.0 in /usr/local/lib/python3.10/dist-packages (from imbalanced-learn) (1.13.1)\n",
            "Requirement already satisfied: scikit-learn>=1.0.2 in /usr/local/lib/python3.10/dist-packages (from imbalanced-learn) (1.5.2)\n",
            "Requirement already satisfied: joblib>=1.1.1 in /usr/local/lib/python3.10/dist-packages (from imbalanced-learn) (1.4.2)\n",
            "Requirement already satisfied: threadpoolctl>=2.0.0 in /usr/local/lib/python3.10/dist-packages (from imbalanced-learn) (3.5.0)\n",
            "Requirement already satisfied: nvidia-nccl-cu12 in /usr/local/lib/python3.10/dist-packages (from xgboost) (2.23.4)\n",
            "Requirement already satisfied: keras>=3.2.0 in /usr/local/lib/python3.10/dist-packages (from scikeras[tensorflow]) (3.5.0)\n",
            "Requirement already satisfied: absl-py>=1.0.0 in /usr/local/lib/python3.10/dist-packages (from tensorflow) (1.4.0)\n",
            "Requirement already satisfied: astunparse>=1.6.0 in /usr/local/lib/python3.10/dist-packages (from tensorflow) (1.6.3)\n",
            "Requirement already satisfied: flatbuffers>=24.3.25 in /usr/local/lib/python3.10/dist-packages (from tensorflow) (24.3.25)\n",
            "Requirement already satisfied: gast!=0.5.0,!=0.5.1,!=0.5.2,>=0.2.1 in /usr/local/lib/python3.10/dist-packages (from tensorflow) (0.6.0)\n",
            "Requirement already satisfied: google-pasta>=0.1.1 in /usr/local/lib/python3.10/dist-packages (from tensorflow) (0.2.0)\n",
            "Requirement already satisfied: h5py>=3.10.0 in /usr/local/lib/python3.10/dist-packages (from tensorflow) (3.12.1)\n",
            "Requirement already satisfied: libclang>=13.0.0 in /usr/local/lib/python3.10/dist-packages (from tensorflow) (18.1.1)\n",
            "Requirement already satisfied: ml-dtypes<0.5.0,>=0.3.1 in /usr/local/lib/python3.10/dist-packages (from tensorflow) (0.4.1)\n",
            "Requirement already satisfied: opt-einsum>=2.3.2 in /usr/local/lib/python3.10/dist-packages (from tensorflow) (3.4.0)\n",
            "Requirement already satisfied: packaging in /usr/local/lib/python3.10/dist-packages (from tensorflow) (24.2)\n",
            "Requirement already satisfied: protobuf!=4.21.0,!=4.21.1,!=4.21.2,!=4.21.3,!=4.21.4,!=4.21.5,<5.0.0dev,>=3.20.3 in /usr/local/lib/python3.10/dist-packages (from tensorflow) (4.25.5)\n",
            "Requirement already satisfied: requests<3,>=2.21.0 in /usr/local/lib/python3.10/dist-packages (from tensorflow) (2.32.3)\n",
            "Requirement already satisfied: setuptools in /usr/local/lib/python3.10/dist-packages (from tensorflow) (75.1.0)\n",
            "Requirement already satisfied: six>=1.12.0 in /usr/local/lib/python3.10/dist-packages (from tensorflow) (1.16.0)\n",
            "Requirement already satisfied: termcolor>=1.1.0 in /usr/local/lib/python3.10/dist-packages (from tensorflow) (2.5.0)\n",
            "Requirement already satisfied: typing-extensions>=3.6.6 in /usr/local/lib/python3.10/dist-packages (from tensorflow) (4.12.2)\n",
            "Requirement already satisfied: wrapt>=1.11.0 in /usr/local/lib/python3.10/dist-packages (from tensorflow) (1.16.0)\n",
            "Requirement already satisfied: grpcio<2.0,>=1.24.3 in /usr/local/lib/python3.10/dist-packages (from tensorflow) (1.68.0)\n",
            "Requirement already satisfied: tensorboard<2.18,>=2.17 in /usr/local/lib/python3.10/dist-packages (from tensorflow) (2.17.1)\n",
            "Requirement already satisfied: tensorflow-io-gcs-filesystem>=0.23.1 in /usr/local/lib/python3.10/dist-packages (from tensorflow) (0.37.1)\n",
            "Requirement already satisfied: wheel<1.0,>=0.23.0 in /usr/local/lib/python3.10/dist-packages (from astunparse>=1.6.0->tensorflow) (0.45.0)\n",
            "Requirement already satisfied: rich in /usr/local/lib/python3.10/dist-packages (from keras>=3.2.0->scikeras[tensorflow]) (13.9.4)\n",
            "Requirement already satisfied: namex in /usr/local/lib/python3.10/dist-packages (from keras>=3.2.0->scikeras[tensorflow]) (0.0.8)\n",
            "Requirement already satisfied: optree in /usr/local/lib/python3.10/dist-packages (from keras>=3.2.0->scikeras[tensorflow]) (0.13.1)\n",
            "Requirement already satisfied: charset-normalizer<4,>=2 in /usr/local/lib/python3.10/dist-packages (from requests<3,>=2.21.0->tensorflow) (3.4.0)\n",
            "Requirement already satisfied: idna<4,>=2.5 in /usr/local/lib/python3.10/dist-packages (from requests<3,>=2.21.0->tensorflow) (3.10)\n",
            "Requirement already satisfied: urllib3<3,>=1.21.1 in /usr/local/lib/python3.10/dist-packages (from requests<3,>=2.21.0->tensorflow) (2.2.3)\n",
            "Requirement already satisfied: certifi>=2017.4.17 in /usr/local/lib/python3.10/dist-packages (from requests<3,>=2.21.0->tensorflow) (2024.8.30)\n",
            "Requirement already satisfied: markdown>=2.6.8 in /usr/local/lib/python3.10/dist-packages (from tensorboard<2.18,>=2.17->tensorflow) (3.7)\n",
            "Requirement already satisfied: tensorboard-data-server<0.8.0,>=0.7.0 in /usr/local/lib/python3.10/dist-packages (from tensorboard<2.18,>=2.17->tensorflow) (0.7.2)\n",
            "Requirement already satisfied: werkzeug>=1.0.1 in /usr/local/lib/python3.10/dist-packages (from tensorboard<2.18,>=2.17->tensorflow) (3.1.3)\n",
            "Requirement already satisfied: MarkupSafe>=2.1.1 in /usr/local/lib/python3.10/dist-packages (from werkzeug>=1.0.1->tensorboard<2.18,>=2.17->tensorflow) (3.0.2)\n",
            "Requirement already satisfied: markdown-it-py>=2.2.0 in /usr/local/lib/python3.10/dist-packages (from rich->keras>=3.2.0->scikeras[tensorflow]) (3.0.0)\n",
            "Requirement already satisfied: pygments<3.0.0,>=2.13.0 in /usr/local/lib/python3.10/dist-packages (from rich->keras>=3.2.0->scikeras[tensorflow]) (2.18.0)\n",
            "Requirement already satisfied: mdurl~=0.1 in /usr/local/lib/python3.10/dist-packages (from markdown-it-py>=2.2.0->rich->keras>=3.2.0->scikeras[tensorflow]) (0.1.2)\n",
            "Downloading scikeras-0.13.0-py3-none-any.whl (26 kB)\n",
            "Installing collected packages: scikeras\n",
            "Successfully installed scikeras-0.13.0\n"
          ]
        }
      ]
    },
    {
      "cell_type": "code",
      "execution_count": 2,
      "metadata": {
        "colab": {
          "base_uri": "https://localhost:8080/"
        },
        "id": "Clh3bFNPD6CY",
        "outputId": "b55190f5-6006-4f99-cee3-28445a0c08c6"
      },
      "outputs": [
        {
          "output_type": "stream",
          "name": "stdout",
          "text": [
            "Mounted at /content/drive\n",
            "Dataset Shape: (677494, 79)\n",
            "First 5 Rows:\n",
            "    diameter  extent  albedo  rot_per  GM  BV  UB  IR spec_B  spec_T  ...  \\\n",
            "0       NaN     NaN     NaN      NaN NaN NaN NaN NaN    NaN     NaN  ...   \n",
            "1       NaN     NaN     NaN      NaN NaN NaN NaN NaN    NaN     NaN  ...   \n",
            "2       NaN     NaN     NaN      NaN NaN NaN NaN NaN    NaN     NaN  ...   \n",
            "3       NaN     NaN     NaN      NaN NaN NaN NaN NaN    NaN     NaN  ...   \n",
            "4       NaN     NaN     NaN      NaN NaN NaN NaN NaN    NaN     NaN  ...   \n",
            "\n",
            "        rms  two_body  A1  A1_sigma  A2  A2_sigma  A3  A3_sigma  DT  DT_sigma  \n",
            "0  0.000533       NaN NaN       NaN NaN       NaN NaN       NaN NaN       NaN  \n",
            "1  0.071263       NaN NaN       NaN NaN       NaN NaN       NaN NaN       NaN  \n",
            "2  0.000002       NaN NaN       NaN NaN       NaN NaN       NaN NaN       NaN  \n",
            "3       NaN         T NaN       NaN NaN       NaN NaN       NaN NaN       NaN  \n",
            "4  0.339380       NaN NaN       NaN NaN       NaN NaN       NaN NaN       NaN  \n",
            "\n",
            "[5 rows x 79 columns]\n"
          ]
        }
      ],
      "source": [
        "# Mount Google Drive (if using Google Colab)\n",
        "from google.colab import drive\n",
        "drive.mount('/content/drive')\n",
        "\n",
        "# Import libraries\n",
        "import pandas as pd\n",
        "import numpy as np\n",
        "\n",
        "# Load the dataset\n",
        "file_path = '/content/drive/My Drive/Asteroid Collision Dataset V2.csv'\n",
        "df = pd.read_csv(file_path, low_memory=False)\n",
        "\n",
        "# Inspect the dataset\n",
        "print(\"Dataset Shape:\", df.shape)\n",
        "print(\"First 5 Rows:\\n\", df.head())\n"
      ]
    },
    {
      "cell_type": "markdown",
      "source": [
        "# 3. Data Cleaning and Preprocessing"
      ],
      "metadata": {
        "id": "FSkjg3op3ecd"
      }
    },
    {
      "cell_type": "markdown",
      "source": [
        "## 3.1. Missing Data Analysis"
      ],
      "metadata": {
        "id": "3xKMqMbe3gl-"
      }
    },
    {
      "cell_type": "code",
      "source": [
        "# Analyze missing data\n",
        "missing_summary = df.isnull().mean().sort_values(ascending=False) * 100\n",
        "missing_summary = missing_summary[missing_summary > 0]\n",
        "print(\"\\nMissing Data Summary (Percentage of Missing Values):\")\n",
        "print(missing_summary)"
      ],
      "metadata": {
        "colab": {
          "base_uri": "https://localhost:8080/"
        },
        "id": "sCGDZzB9F2E6",
        "outputId": "5512d3c3-9ae6-4f83-b54e-e970f1e329aa"
      },
      "execution_count": 3,
      "outputs": [
        {
          "output_type": "stream",
          "name": "stdout",
          "text": [
            "\n",
            "Missing Data Summary (Percentage of Missing Values):\n",
            "DT_sigma          100.000000\n",
            "extent            100.000000\n",
            "G                 100.000000\n",
            "M1                100.000000\n",
            "GM                100.000000\n",
            "BV                100.000000\n",
            "UB                100.000000\n",
            "IR                100.000000\n",
            "M2                100.000000\n",
            "spec_T            100.000000\n",
            "DT                100.000000\n",
            "K1                100.000000\n",
            "K2                100.000000\n",
            "PC                100.000000\n",
            "name               99.999852\n",
            "prefix             99.999410\n",
            "A3                 99.998967\n",
            "A3_sigma           99.998967\n",
            "A1_sigma           99.997491\n",
            "A1                 99.997491\n",
            "spec_B             99.992620\n",
            "A2_sigma           99.976531\n",
            "A2                 99.976531\n",
            "n_del_obs_used     99.910700\n",
            "n_dop_obs_used     99.910700\n",
            "rot_per            99.801179\n",
            "two_body           99.062427\n",
            "albedo             99.040582\n",
            "diameter_sigma     98.987002\n",
            "diameter           98.986559\n",
            "H_sigma            15.064635\n",
            "sigma_per           0.937868\n",
            "sigma_ad            0.937868\n",
            "pha                 0.937720\n",
            "moid                0.937573\n",
            "sigma_tp            0.937573\n",
            "sigma_n             0.937573\n",
            "sigma_ma            0.937573\n",
            "sigma_w             0.937573\n",
            "sigma_om            0.937573\n",
            "sigma_i             0.937573\n",
            "sigma_q             0.937573\n",
            "sigma_a             0.937573\n",
            "moid_jup            0.937573\n",
            "moid_ld             0.937573\n",
            "sigma_e             0.937573\n",
            "data_arc            0.392771\n",
            "H                   0.146717\n",
            "condition_code      0.001033\n",
            "neo                 0.000295\n",
            "per_y               0.000295\n",
            "per                 0.000295\n",
            "ad                  0.000295\n",
            "t_jup               0.000295\n",
            "rms                 0.000148\n",
            "dtype: float64\n"
          ]
        }
      ]
    },
    {
      "cell_type": "markdown",
      "source": [
        "## 3.2. Drop Columns with Excessive Missing Values"
      ],
      "metadata": {
        "id": "taIG0ZAX3rFV"
      }
    },
    {
      "cell_type": "code",
      "source": [
        "# Drop columns with >90% missing values or irrelevant\n",
        "cols_to_drop_missing = missing_summary[missing_summary > 90].index.tolist()\n",
        "irrelevant_columns = ['producer', 'equinox', 'orbit_id', 'pdes', 'full_name', 'name', 'prefix']\n",
        "cols_to_drop = list(set(cols_to_drop_missing + irrelevant_columns))\n",
        "\n",
        "df.drop(columns=cols_to_drop, inplace=True, errors='ignore')\n",
        "print(\"\\nDropped Columns:\")\n",
        "print(df.head())"
      ],
      "metadata": {
        "colab": {
          "base_uri": "https://localhost:8080/"
        },
        "id": "O0oJSXZ6GIlx",
        "outputId": "ec959f01-c744-4cd6-97ff-4c6ce2850ca4"
      },
      "execution_count": 4,
      "outputs": [
        {
          "output_type": "stream",
          "name": "stdout",
          "text": [
            "\n",
            "Dropped Columns:\n",
            "          a         e          i          om           w         q        ad  \\\n",
            "0  3.344072  0.333618  17.631497  191.717418  341.109523  2.228428  4.459715   \n",
            "1  2.149638  0.251325   4.728640  134.342070  281.563658  1.609380  2.689895   \n",
            "2  2.320503  0.138476   6.549856  273.834058  130.418938  1.999169  2.641838   \n",
            "3  2.904675  0.253684  13.139290  322.997330   64.837530  2.167804  3.641545   \n",
            "4  2.257216  0.145324   4.223982  205.857738  134.532417  1.929189  2.585243   \n",
            "\n",
            "      per_y  data_arc  condition_code  ...  sigma_w  sigma_ma  sigma_ad  \\\n",
            "0  6.115353      34.0             8.0  ...   1.1161   0.47857  0.032768   \n",
            "1  3.151781       4.0             9.0  ...  33.7820  11.31700  0.435020   \n",
            "2  3.534936      31.0             7.0  ...   2.0890  23.32100  0.004895   \n",
            "3  4.950561      27.0             NaN  ...      NaN       NaN       NaN   \n",
            "4  3.391313      10.0             9.0  ...  10.3150   8.20790  0.094289   \n",
            "\n",
            "    sigma_n sigma_tp  sigma_per  class   first_obs    last_obs       rms  \n",
            "0  0.001776   1.0621    24.6170    OMB  1927-06-01  1927-07-05  0.000533  \n",
            "1  0.075861  35.0930   279.2600    MCA  1935-10-19  1935-10-23  0.071263  \n",
            "2  0.000775  83.3740     3.5881    MBA  1937-02-10  1937-03-13  0.000002  \n",
            "3       NaN      NaN        NaN    MBA  1939-09-15  1939-10-12       NaN  \n",
            "4  0.015900  28.6600    67.7660    MBA  1942-09-05  1942-09-15  0.339380  \n",
            "\n",
            "[5 rows x 44 columns]\n"
          ]
        }
      ]
    },
    {
      "cell_type": "code",
      "source": [
        "print(df.head())"
      ],
      "metadata": {
        "colab": {
          "base_uri": "https://localhost:8080/"
        },
        "id": "NGCBqqfdq5JO",
        "outputId": "c276a6c4-8b4e-4dbb-c722-0bb19278c7bf"
      },
      "execution_count": 5,
      "outputs": [
        {
          "output_type": "stream",
          "name": "stdout",
          "text": [
            "          a         e          i          om           w         q        ad  \\\n",
            "0  3.344072  0.333618  17.631497  191.717418  341.109523  2.228428  4.459715   \n",
            "1  2.149638  0.251325   4.728640  134.342070  281.563658  1.609380  2.689895   \n",
            "2  2.320503  0.138476   6.549856  273.834058  130.418938  1.999169  2.641838   \n",
            "3  2.904675  0.253684  13.139290  322.997330   64.837530  2.167804  3.641545   \n",
            "4  2.257216  0.145324   4.223982  205.857738  134.532417  1.929189  2.585243   \n",
            "\n",
            "      per_y  data_arc  condition_code  ...  sigma_w  sigma_ma  sigma_ad  \\\n",
            "0  6.115353      34.0             8.0  ...   1.1161   0.47857  0.032768   \n",
            "1  3.151781       4.0             9.0  ...  33.7820  11.31700  0.435020   \n",
            "2  3.534936      31.0             7.0  ...   2.0890  23.32100  0.004895   \n",
            "3  4.950561      27.0             NaN  ...      NaN       NaN       NaN   \n",
            "4  3.391313      10.0             9.0  ...  10.3150   8.20790  0.094289   \n",
            "\n",
            "    sigma_n sigma_tp  sigma_per  class   first_obs    last_obs       rms  \n",
            "0  0.001776   1.0621    24.6170    OMB  1927-06-01  1927-07-05  0.000533  \n",
            "1  0.075861  35.0930   279.2600    MCA  1935-10-19  1935-10-23  0.071263  \n",
            "2  0.000775  83.3740     3.5881    MBA  1937-02-10  1937-03-13  0.000002  \n",
            "3       NaN      NaN        NaN    MBA  1939-09-15  1939-10-12       NaN  \n",
            "4  0.015900  28.6600    67.7660    MBA  1942-09-05  1942-09-15  0.339380  \n",
            "\n",
            "[5 rows x 44 columns]\n"
          ]
        }
      ]
    },
    {
      "cell_type": "code",
      "source": [
        "# Missing Data Analysis\n",
        "missing_summary = df.isnull().mean().sort_values(ascending=False) * 100\n",
        "missing_summary = missing_summary[missing_summary > 0]\n",
        "print(\"\\nMissing Data Summary (Percentage of Missing Values):\")\n",
        "print(missing_summary)"
      ],
      "metadata": {
        "colab": {
          "base_uri": "https://localhost:8080/"
        },
        "id": "qSfe3D0_rjfN",
        "outputId": "d013bb8b-c7d2-4b1b-85ec-4637e7621593"
      },
      "execution_count": 6,
      "outputs": [
        {
          "output_type": "stream",
          "name": "stdout",
          "text": [
            "\n",
            "Missing Data Summary (Percentage of Missing Values):\n",
            "H_sigma           15.064635\n",
            "sigma_ad           0.937868\n",
            "sigma_per          0.937868\n",
            "pha                0.937720\n",
            "moid_ld            0.937573\n",
            "moid               0.937573\n",
            "sigma_e            0.937573\n",
            "sigma_a            0.937573\n",
            "sigma_q            0.937573\n",
            "sigma_i            0.937573\n",
            "sigma_om           0.937573\n",
            "sigma_w            0.937573\n",
            "sigma_ma           0.937573\n",
            "moid_jup           0.937573\n",
            "sigma_n            0.937573\n",
            "sigma_tp           0.937573\n",
            "data_arc           0.392771\n",
            "H                  0.146717\n",
            "condition_code     0.001033\n",
            "t_jup              0.000295\n",
            "neo                0.000295\n",
            "per_y              0.000295\n",
            "ad                 0.000295\n",
            "per                0.000295\n",
            "rms                0.000148\n",
            "dtype: float64\n"
          ]
        }
      ]
    },
    {
      "cell_type": "markdown",
      "source": [
        "## 3.3. Convert Columns to Numeric"
      ],
      "metadata": {
        "id": "kvsCm3nj38HG"
      }
    },
    {
      "cell_type": "code",
      "source": [
        "from sklearn.impute import SimpleImputer\n",
        "\n",
        "# Convert columns to numeric where possible\n",
        "columns_to_clean = ['H', 'e', 'a', 'q', 'i', 'om', 'w', 'ma', 'n']\n",
        "for col in columns_to_clean:\n",
        "    if col in df.columns:\n",
        "        df[col] = pd.to_numeric(df[col], errors='coerce')"
      ],
      "metadata": {
        "id": "Ud_PwlNArh8P"
      },
      "execution_count": 7,
      "outputs": []
    },
    {
      "cell_type": "markdown",
      "source": [
        "## 3.4. Impute Missing Values"
      ],
      "metadata": {
        "id": "NRcOqnMe4DdG"
      }
    },
    {
      "cell_type": "code",
      "source": [
        "# Impute missing values in numeric columns\n",
        "numeric_cols = df.select_dtypes(include=[np.number]).columns.tolist()\n",
        "imputer = SimpleImputer(strategy='mean')\n",
        "df[numeric_cols] = imputer.fit_transform(df[numeric_cols])"
      ],
      "metadata": {
        "id": "TKjjTidMrqMG"
      },
      "execution_count": 8,
      "outputs": []
    },
    {
      "cell_type": "markdown",
      "source": [
        "# 3. Feature Engineering"
      ],
      "metadata": {
        "id": "77bLo5fP5bgF"
      }
    },
    {
      "cell_type": "markdown",
      "source": [
        "## 3.1. Binary Mapping"
      ],
      "metadata": {
        "id": "O09U-J-H6TUd"
      }
    },
    {
      "cell_type": "code",
      "source": [
        "# Map binary columns\n",
        "binary_mapping = {'Y': 1, 'N': 0}\n",
        "for col in ['neo', 'pha']:\n",
        "    if col in df.columns:\n",
        "        df[col] = df[col].map(binary_mapping)"
      ],
      "metadata": {
        "id": "nUlg2acO6ccu"
      },
      "execution_count": 9,
      "outputs": []
    },
    {
      "cell_type": "markdown",
      "source": [
        "## 3.2. Handle Dates"
      ],
      "metadata": {
        "id": "i3FcGjDa6dp-"
      }
    },
    {
      "cell_type": "code",
      "source": [
        "# Handle date columns\n",
        "date_cols = ['epoch_cal', 'tp_cal', 'first_obs', 'last_obs']\n",
        "for col in date_cols:\n",
        "    if col in df.columns:\n",
        "        df[col] = pd.to_datetime(df[col], errors='coerce', format='%Y-%m-%d')\n",
        "        df[f'{col}_year'] = df[col].dt.year\n",
        "        df[f'{col}_month'] = df[col].dt.month\n",
        "        df[f'{col}_day'] = df[col].dt.day\n",
        "        df.drop(columns=[col], inplace=True)"
      ],
      "metadata": {
        "id": "vTWooEcM6gJ-"
      },
      "execution_count": 10,
      "outputs": []
    },
    {
      "cell_type": "code",
      "source": [
        "remaining_categorical_cols = df.select_dtypes(include=['object', 'category']).columns.tolist()\n",
        "print(\"\\nRemaining Categorical Columns after Date conversion:\", remaining_categorical_cols)"
      ],
      "metadata": {
        "colab": {
          "base_uri": "https://localhost:8080/"
        },
        "id": "Xbmj-I-g7b4N",
        "outputId": "5884627d-2254-437e-deb7-8d45dca47d45"
      },
      "execution_count": 11,
      "outputs": [
        {
          "output_type": "stream",
          "name": "stdout",
          "text": [
            "\n",
            "Remaining Categorical Columns after Date conversion: ['class']\n"
          ]
        }
      ]
    },
    {
      "cell_type": "markdown",
      "source": [
        "## 3.3. One-Hot Encoding"
      ],
      "metadata": {
        "id": "QUqIpPxu6_lV"
      }
    },
    {
      "cell_type": "code",
      "source": [
        "#Identify Remaining Categorical Columns\n",
        "remaining_categorical_cols = df.select_dtypes(include=['object', 'category']).columns.tolist()\n",
        "print(\"\\nRemaining Categorical Columns after Binary Mapping:\", remaining_categorical_cols)"
      ],
      "metadata": {
        "colab": {
          "base_uri": "https://localhost:8080/"
        },
        "id": "1cgaIdfN7AvN",
        "outputId": "5effc5de-446a-43a4-fda4-642bd3852844"
      },
      "execution_count": 12,
      "outputs": [
        {
          "output_type": "stream",
          "name": "stdout",
          "text": [
            "\n",
            "Remaining Categorical Columns after Binary Mapping: ['class']\n"
          ]
        }
      ]
    },
    {
      "cell_type": "code",
      "source": [
        "# One-hot encode the 'class' column\n",
        "if 'class' in df.columns:\n",
        "    df = pd.get_dummies(df, columns=['class'], prefix='class', drop_first=True)"
      ],
      "metadata": {
        "id": "i-izvNfF7OjV"
      },
      "execution_count": 13,
      "outputs": []
    },
    {
      "cell_type": "code",
      "source": [
        "# Check unique values in the 'class' column\n",
        "if 'class' in df.columns:\n",
        "    print(\"Unique values in 'class' column:\", df['class'].unique())"
      ],
      "metadata": {
        "id": "UKatkcEb7ydt"
      },
      "execution_count": 14,
      "outputs": []
    },
    {
      "cell_type": "markdown",
      "source": [
        "## 3.4. Derive New Features"
      ],
      "metadata": {
        "id": "OZSFDaAs58V1"
      }
    },
    {
      "cell_type": "code",
      "source": [
        "GRAVITATIONAL_CONSTANT = 39.478\n",
        "\n",
        "# Add derived features\n",
        "df['relative_orbital_distance'] = np.abs(df['q'] - df['a'] * (1 - df['e']))\n",
        "df['orbital_velocity'] = np.sqrt(GRAVITATIONAL_CONSTANT / df['a'])\n",
        "df['adjusted_eccentricity'] = df['e'] * df['a'] / df['q']\n",
        "\n",
        "# Perturbed features\n",
        "for col in ['a', 'e', 'q', 'i']:\n",
        "    sigma_col = f'sigma_{col}'\n",
        "    if sigma_col in df.columns:\n",
        "        df[f'{col}_perturbed'] = df[col] + np.random.normal(0, df[sigma_col])"
      ],
      "metadata": {
        "colab": {
          "base_uri": "https://localhost:8080/"
        },
        "id": "IH4xPYohWkKd",
        "outputId": "35654607-049b-40e0-83af-71476aee415b"
      },
      "execution_count": 15,
      "outputs": [
        {
          "output_type": "stream",
          "name": "stderr",
          "text": [
            "/usr/local/lib/python3.10/dist-packages/pandas/core/arraylike.py:399: RuntimeWarning: invalid value encountered in sqrt\n",
            "  result = getattr(ufunc, method)(*inputs, **kwargs)\n"
          ]
        }
      ]
    },
    {
      "cell_type": "markdown",
      "source": [
        "#4. Define Features and Target"
      ],
      "metadata": {
        "id": "tIlU4ieP5dte"
      }
    },
    {
      "cell_type": "markdown",
      "source": [
        "## 4.1. Create Collision Risk"
      ],
      "metadata": {
        "id": "4UXaa08S7_rM"
      }
    },
    {
      "cell_type": "code",
      "source": [
        "# Create collision_risk based on MOID\n",
        "df['collision_risk'] = np.where(df['moid'] < 0.05, 1, 0)"
      ],
      "metadata": {
        "id": "8ILV0epw8C-v"
      },
      "execution_count": 16,
      "outputs": []
    },
    {
      "cell_type": "code",
      "source": [
        "# Check if collision_risk was created successfully\n",
        "print(df[['moid', 'collision_risk']])"
      ],
      "metadata": {
        "colab": {
          "base_uri": "https://localhost:8080/"
        },
        "id": "0M73Q-0s5riu",
        "outputId": "a3d063ce-681d-4cf5-efa6-a36f49dadab7"
      },
      "execution_count": 17,
      "outputs": [
        {
          "output_type": "stream",
          "name": "stdout",
          "text": [
            "            moid  collision_risk\n",
            "0       1.240420               0\n",
            "1       0.629025               0\n",
            "2       1.015530               0\n",
            "3       1.230665               0\n",
            "4       0.923138               0\n",
            "...          ...             ...\n",
            "677489  0.272574               0\n",
            "677490  0.000087               1\n",
            "677491  0.816015               0\n",
            "677492  0.672539               0\n",
            "677493  0.036665               1\n",
            "\n",
            "[677494 rows x 2 columns]\n"
          ]
        }
      ]
    },
    {
      "cell_type": "markdown",
      "source": [
        "## 4.2. Define Features (X) and Target (y)"
      ],
      "metadata": {
        "id": "HZIwuz3S8Kcu"
      }
    },
    {
      "cell_type": "code",
      "source": [
        "# Define features and target\n",
        "features_to_drop = ['moid', 'moid_ld']  # Exclude MOID-related features\n",
        "X = df.drop(columns=features_to_drop + ['collision_risk'])\n",
        "y = df['collision_risk']\n",
        "\n",
        "# Ensure only numeric features\n",
        "X = X.select_dtypes(include=[np.number])"
      ],
      "metadata": {
        "id": "HDRQuDHL8Oou"
      },
      "execution_count": 18,
      "outputs": []
    },
    {
      "cell_type": "markdown",
      "source": [
        "# 5. Data Splitting and Scaling"
      ],
      "metadata": {
        "id": "8acFs0W_6RlO"
      }
    },
    {
      "cell_type": "markdown",
      "source": [
        "## 5.1. Split Dataset"
      ],
      "metadata": {
        "id": "bbkLe9ES6Tmu"
      }
    },
    {
      "cell_type": "code",
      "source": [
        "from sklearn.model_selection import train_test_split\n",
        "\n",
        "# Split the dataset\n",
        "X_train, X_test, y_train, y_test = train_test_split(\n",
        "    X, y, test_size=0.2, random_state=42, stratify=y\n",
        ")"
      ],
      "metadata": {
        "id": "n5l7Alif6Wym"
      },
      "execution_count": 19,
      "outputs": []
    },
    {
      "cell_type": "markdown",
      "source": [
        "## Drop Columns With All Missing Values"
      ],
      "metadata": {
        "id": "635Oe_Ca-ayM"
      }
    },
    {
      "cell_type": "code",
      "source": [
        "# Identify and drop columns with all missing values\n",
        "all_missing_cols = X_train.columns[X_train.isnull().all()]\n",
        "print(\"Columns with all missing values:\", all_missing_cols)\n",
        "\n",
        "X_train = X_train.drop(columns=all_missing_cols)\n",
        "X_test = X_test.drop(columns=all_missing_cols)"
      ],
      "metadata": {
        "colab": {
          "base_uri": "https://localhost:8080/"
        },
        "id": "xIVuyhZX-dkN",
        "outputId": "637764c5-3f80-4695-b76c-046ed7a4893a"
      },
      "execution_count": 20,
      "outputs": [
        {
          "output_type": "stream",
          "name": "stdout",
          "text": [
            "Columns with all missing values: Index(['epoch_cal_year', 'epoch_cal_month', 'epoch_cal_day', 'tp_cal_year',\n",
            "       'tp_cal_month', 'tp_cal_day'],\n",
            "      dtype='object')\n"
          ]
        }
      ]
    },
    {
      "cell_type": "markdown",
      "source": [
        "## 5.2 Reimpute Missing values"
      ],
      "metadata": {
        "id": "qxOukc1E3DM1"
      }
    },
    {
      "cell_type": "code",
      "source": [
        "\n",
        "# Re-impute missing values in training and testing sets\n",
        "imputer = SimpleImputer(strategy='mean')\n",
        "X_train = pd.DataFrame(imputer.fit_transform(X_train), columns=X_train.columns)\n",
        "X_test = pd.DataFrame(imputer.transform(X_test), columns=X_test.columns)\n",
        "\n",
        "# Verify no missing values remain\n",
        "print(\"Missing Values in X_train:\", X_train.isnull().sum().sum())\n",
        "print(\"Missing Values in X_test:\", X_test.isnull().sum().sum())"
      ],
      "metadata": {
        "colab": {
          "base_uri": "https://localhost:8080/"
        },
        "id": "p9UEFyp43GJ1",
        "outputId": "d1ee7899-1919-4da4-e257-9d99b89d4e8f"
      },
      "execution_count": 21,
      "outputs": [
        {
          "output_type": "stream",
          "name": "stdout",
          "text": [
            "Missing Values in X_train: 0\n",
            "Missing Values in X_test: 0\n"
          ]
        }
      ]
    },
    {
      "cell_type": "markdown",
      "source": [
        "## 5.3. Resample Using SMOTE"
      ],
      "metadata": {
        "id": "Tr2fh6Xp6ZYm"
      }
    },
    {
      "cell_type": "code",
      "source": [
        "!pip install imbalanced-learn"
      ],
      "metadata": {
        "colab": {
          "base_uri": "https://localhost:8080/"
        },
        "id": "yys3dKZAflaL",
        "outputId": "c2075046-5d85-4d8c-cf21-029a1cd2c9d0"
      },
      "execution_count": 22,
      "outputs": [
        {
          "output_type": "stream",
          "name": "stdout",
          "text": [
            "Requirement already satisfied: imbalanced-learn in /usr/local/lib/python3.10/dist-packages (0.12.4)\n",
            "Requirement already satisfied: numpy>=1.17.3 in /usr/local/lib/python3.10/dist-packages (from imbalanced-learn) (1.26.4)\n",
            "Requirement already satisfied: scipy>=1.5.0 in /usr/local/lib/python3.10/dist-packages (from imbalanced-learn) (1.13.1)\n",
            "Requirement already satisfied: scikit-learn>=1.0.2 in /usr/local/lib/python3.10/dist-packages (from imbalanced-learn) (1.5.2)\n",
            "Requirement already satisfied: joblib>=1.1.1 in /usr/local/lib/python3.10/dist-packages (from imbalanced-learn) (1.4.2)\n",
            "Requirement already satisfied: threadpoolctl>=2.0.0 in /usr/local/lib/python3.10/dist-packages (from imbalanced-learn) (3.5.0)\n"
          ]
        }
      ]
    },
    {
      "cell_type": "code",
      "source": [
        "from imblearn.over_sampling import SMOTE\n",
        "\n",
        "# Apply SMOTE\n",
        "smote = SMOTE(random_state=42)\n",
        "X_train_resampled, y_train_resampled = smote.fit_resample(X_train, y_train)\n",
        "\n",
        "print(\"Resampled Training Set Shape:\", X_train_resampled.shape, y_train_resampled.shape)"
      ],
      "metadata": {
        "colab": {
          "base_uri": "https://localhost:8080/"
        },
        "id": "GckPuA3a6cdV",
        "outputId": "4ba9784f-f319-484a-ee4a-8fb64d77e44b"
      },
      "execution_count": 23,
      "outputs": [
        {
          "output_type": "stream",
          "name": "stdout",
          "text": [
            "Resampled Training Set Shape: (1054508, 50) (1054508,)\n"
          ]
        }
      ]
    },
    {
      "cell_type": "code",
      "source": [
        "# Verify the class distribution\n",
        "print(\"Class Distribution After Resampling:\\n\", pd.Series(y_train_resampled).value_counts())"
      ],
      "metadata": {
        "colab": {
          "base_uri": "https://localhost:8080/"
        },
        "id": "h_EM9OSDl3n7",
        "outputId": "221bf060-8a9e-443a-a82f-83c10b946262"
      },
      "execution_count": 24,
      "outputs": [
        {
          "output_type": "stream",
          "name": "stdout",
          "text": [
            "Class Distribution After Resampling:\n",
            " collision_risk\n",
            "0    527254\n",
            "1    527254\n",
            "Name: count, dtype: int64\n"
          ]
        }
      ]
    },
    {
      "cell_type": "code",
      "source": [
        "non_numeric_cols = X_train.select_dtypes(exclude=[np.number]).columns.tolist()\n",
        "print(\"Non-Numeric Columns in X_train:\", non_numeric_cols)"
      ],
      "metadata": {
        "colab": {
          "base_uri": "https://localhost:8080/"
        },
        "id": "WBZ6oHEWl_Pr",
        "outputId": "744c54f2-8b91-4c3d-9c8b-2057bccb2a65"
      },
      "execution_count": 25,
      "outputs": [
        {
          "output_type": "stream",
          "name": "stdout",
          "text": [
            "Non-Numeric Columns in X_train: []\n"
          ]
        }
      ]
    },
    {
      "cell_type": "code",
      "source": [
        "print(\"Missing Values in the Entire Dataset:\\n\", df.isnull().sum())"
      ],
      "metadata": {
        "colab": {
          "base_uri": "https://localhost:8080/"
        },
        "id": "cqo7UfqkmFKj",
        "outputId": "314f7810-4745-47d1-ee09-a80549ef7951"
      },
      "execution_count": 26,
      "outputs": [
        {
          "output_type": "stream",
          "name": "stdout",
          "text": [
            "Missing Values in the Entire Dataset:\n",
            " a                 0\n",
            "e                 0\n",
            "i                 0\n",
            "om                0\n",
            "w                 0\n",
            "                 ..\n",
            "a_perturbed       0\n",
            "e_perturbed       0\n",
            "q_perturbed       0\n",
            "i_perturbed       0\n",
            "collision_risk    0\n",
            "Length: 68, dtype: int64\n"
          ]
        }
      ]
    },
    {
      "cell_type": "markdown",
      "source": [
        "## 5.4 Feature Scaling"
      ],
      "metadata": {
        "id": "wgwfts100jxk"
      }
    },
    {
      "cell_type": "code",
      "source": [
        "from sklearn.preprocessing import StandardScaler\n",
        "\n",
        "# Initialize the scaler\n",
        "scaler = StandardScaler()\n",
        "\n",
        "# Fit the scaler on the training data and transform\n",
        "X_train_resampled_scaled = scaler.fit_transform(X_train_resampled)\n",
        "\n",
        "# Transform the test data using the same scaler\n",
        "X_test_scaled = scaler.transform(X_test)"
      ],
      "metadata": {
        "id": "Io78qKGI042t"
      },
      "execution_count": 27,
      "outputs": []
    },
    {
      "cell_type": "markdown",
      "source": [
        "# Random Forest Classifier"
      ],
      "metadata": {
        "id": "9T6NOmVCyS3z"
      }
    },
    {
      "cell_type": "code",
      "source": [
        "from sklearn.ensemble import RandomForestClassifier\n",
        "from sklearn.metrics import classification_report, confusion_matrix, accuracy_score"
      ],
      "metadata": {
        "id": "4J-0juDayj1u"
      },
      "execution_count": 28,
      "outputs": []
    },
    {
      "cell_type": "markdown",
      "source": [
        "## Train the Model"
      ],
      "metadata": {
        "id": "g63yC6oUGhmj"
      }
    },
    {
      "cell_type": "code",
      "source": [
        "# Initialize the Random Forest model\n",
        "rf_model = RandomForestClassifier(\n",
        "    n_estimators=100,\n",
        "    random_state=42,\n",
        "    class_weight='balanced',\n",
        "    n_jobs=-1\n",
        ")\n",
        "\n",
        "# Train the model on the resampled and scaled training data\n",
        "rf_model.fit(X_train_resampled_scaled, y_train_resampled)\n",
        "\n",
        "print(\"Random Forest training completed.\")"
      ],
      "metadata": {
        "colab": {
          "base_uri": "https://localhost:8080/"
        },
        "id": "bjM6l8FoGB2U",
        "outputId": "fc0ea0a2-fe2c-4ced-81c3-b8f3acee00f4"
      },
      "execution_count": 29,
      "outputs": [
        {
          "output_type": "stream",
          "name": "stdout",
          "text": [
            "Random Forest training completed.\n"
          ]
        }
      ]
    },
    {
      "cell_type": "markdown",
      "source": [
        "## Evaluate the Model"
      ],
      "metadata": {
        "id": "RQT2arExGkUs"
      }
    },
    {
      "cell_type": "code",
      "source": [
        "# Make predictions on the scaled test set\n",
        "y_pred_rf = rf_model.predict(X_test_scaled)\n",
        "\n",
        "# Evaluate the model\n",
        "print(\"Random Forest Classification Report:\")\n",
        "print(classification_report(y_test, y_pred_rf, digits=4))\n",
        "\n",
        "print(\"Random Forest Confusion Matrix:\")\n",
        "print(confusion_matrix(y_test, y_pred_rf))\n",
        "\n",
        "# Accuracy score\n",
        "accuracy_rf = accuracy_score(y_test, y_pred_rf)\n",
        "print(\"Random Forest Accuracy:\", accuracy_rf)"
      ],
      "metadata": {
        "colab": {
          "base_uri": "https://localhost:8080/"
        },
        "id": "XY_fW_otGm8s",
        "outputId": "5b1bd9a9-27a0-4ab5-d34e-c1807a1f8d1a"
      },
      "execution_count": 30,
      "outputs": [
        {
          "output_type": "stream",
          "name": "stdout",
          "text": [
            "Random Forest Classification Report:\n",
            "              precision    recall  f1-score   support\n",
            "\n",
            "           0     0.9996    0.9955    0.9975    131814\n",
            "           1     0.8586    0.9872    0.9185      3685\n",
            "\n",
            "    accuracy                         0.9952    135499\n",
            "   macro avg     0.9291    0.9914    0.9580    135499\n",
            "weighted avg     0.9958    0.9952    0.9954    135499\n",
            "\n",
            "Random Forest Confusion Matrix:\n",
            "[[131215    599]\n",
            " [    47   3638]]\n",
            "Random Forest Accuracy: 0.9952324371397575\n"
          ]
        }
      ]
    },
    {
      "cell_type": "markdown",
      "source": [
        "## Feature Importance"
      ],
      "metadata": {
        "id": "O812-BrtGq7r"
      }
    },
    {
      "cell_type": "code",
      "source": [
        "import matplotlib.pyplot as plt\n",
        "# Feature importance analysis\n",
        "feature_importance_rf = pd.DataFrame({\n",
        "    'Feature': X_train.columns,\n",
        "    'Importance': rf_model.feature_importances_\n",
        "}).sort_values(by='Importance', ascending=False)\n",
        "\n",
        "# Display top 10 features\n",
        "print(\"Top 10 Most Important Features (Random Forest):\")\n",
        "print(feature_importance_rf.head(10))\n",
        "\n",
        "# Plot feature importance\n",
        "plt.figure(figsize=(10, 6))\n",
        "plt.barh(feature_importance_rf['Feature'][:10], feature_importance_rf['Importance'][:10])\n",
        "plt.gca().invert_yaxis()\n",
        "plt.title(\"Top 10 Feature Importances (Random Forest)\")\n",
        "plt.xlabel(\"Importance\")\n",
        "plt.ylabel(\"Feature\")\n",
        "plt.show()"
      ],
      "metadata": {
        "colab": {
          "base_uri": "https://localhost:8080/",
          "height": 772
        },
        "id": "I9zzIbJ8GuDj",
        "outputId": "09c127cc-3749-48f6-c0c2-b571b3b59f61"
      },
      "execution_count": 33,
      "outputs": [
        {
          "output_type": "stream",
          "name": "stdout",
          "text": [
            "Top 10 Most Important Features (Random Forest):\n",
            "             Feature  Importance\n",
            "5                  q    0.202790\n",
            "13               neo    0.166652\n",
            "48       q_perturbed    0.161210\n",
            "11                 H    0.089689\n",
            "20                 n    0.052812\n",
            "7              per_y    0.046325\n",
            "44  orbital_velocity    0.041173\n",
            "47       e_perturbed    0.032660\n",
            "22               per    0.032444\n",
            "46       a_perturbed    0.031978\n"
          ]
        },
        {
          "output_type": "display_data",
          "data": {
            "text/plain": [
              "<Figure size 1000x600 with 1 Axes>"
            ],
            "image/png": "[encoded data removed]"
          },
          "metadata": {}
        }
      ]
    },
    {
      "cell_type": "markdown",
      "source": [
        "# Gradient Boosting Classifier (XGBoost)"
      ],
      "metadata": {
        "id": "qgsOIvRnHEKb"
      }
    },
    {
      "cell_type": "code",
      "source": [
        "# Install XGBoost if not already installed\n",
        "!pip install xgboost\n",
        "\n",
        "# Import necessary libraries\n",
        "from xgboost import XGBClassifier\n",
        "from sklearn.metrics import classification_report, confusion_matrix, accuracy_score"
      ],
      "metadata": {
        "colab": {
          "base_uri": "https://localhost:8080/"
        },
        "id": "VHebtJssHDTj",
        "outputId": "4f117885-29a2-4b43-dc6a-2fada2115a13"
      },
      "execution_count": 34,
      "outputs": [
        {
          "output_type": "stream",
          "name": "stdout",
          "text": [
            "Requirement already satisfied: xgboost in /usr/local/lib/python3.10/dist-packages (2.1.2)\n",
            "Requirement already satisfied: numpy in /usr/local/lib/python3.10/dist-packages (from xgboost) (1.26.4)\n",
            "Requirement already satisfied: nvidia-nccl-cu12 in /usr/local/lib/python3.10/dist-packages (from xgboost) (2.23.4)\n",
            "Requirement already satisfied: scipy in /usr/local/lib/python3.10/dist-packages (from xgboost) (1.13.1)\n"
          ]
        }
      ]
    },
    {
      "cell_type": "markdown",
      "source": [
        "##  Train the Model"
      ],
      "metadata": {
        "id": "6o7QCz6aHTB0"
      }
    },
    {
      "cell_type": "code",
      "source": [
        "# Initialize the XGBoost model\n",
        "xgb_model = XGBClassifier(\n",
        "    n_estimators=100,\n",
        "    random_state=42,\n",
        "    use_label_encoder=False,\n",
        "    eval_metric='logloss',\n",
        "    scale_pos_weight=1  # Adjust if necessary\n",
        ")\n",
        "\n",
        "# Train the model on the resampled and scaled training data\n",
        "xgb_model.fit(X_train_resampled_scaled, y_train_resampled)\n",
        "\n",
        "print(\"XGBoost training completed.\")"
      ],
      "metadata": {
        "colab": {
          "base_uri": "https://localhost:8080/"
        },
        "id": "ppazMYn3HVjL",
        "outputId": "b008d7f4-3ae7-4597-8b48-bd6828621e3b"
      },
      "execution_count": 35,
      "outputs": [
        {
          "output_type": "stream",
          "name": "stderr",
          "text": [
            "/usr/local/lib/python3.10/dist-packages/xgboost/core.py:158: UserWarning: [14:36:57] WARNING: /workspace/src/learner.cc:740: \n",
            "Parameters: { \"use_label_encoder\" } are not used.\n",
            "\n",
            "  warnings.warn(smsg, UserWarning)\n"
          ]
        },
        {
          "output_type": "stream",
          "name": "stdout",
          "text": [
            "XGBoost training completed.\n"
          ]
        }
      ]
    },
    {
      "cell_type": "markdown",
      "source": [
        "## Evaluate the Model"
      ],
      "metadata": {
        "id": "QC0JVG5oHXSU"
      }
    },
    {
      "cell_type": "code",
      "source": [
        "# Make predictions on the scaled test set\n",
        "y_pred_xgb = xgb_model.predict(X_test_scaled)\n",
        "\n",
        "# Evaluate the model\n",
        "print(\"XGBoost Classification Report:\")\n",
        "print(classification_report(y_test, y_pred_xgb, digits=4))\n",
        "\n",
        "print(\"XGBoost Confusion Matrix:\")\n",
        "print(confusion_matrix(y_test, y_pred_xgb))\n",
        "\n",
        "# Accuracy score\n",
        "accuracy_xgb = accuracy_score(y_test, y_pred_xgb)\n",
        "print(\"XGBoost Accuracy:\", accuracy_xgb)"
      ],
      "metadata": {
        "colab": {
          "base_uri": "https://localhost:8080/"
        },
        "id": "xDiOpCxcHZh8",
        "outputId": "5880190a-7f6e-4ae8-aa04-608c8fd8c79e"
      },
      "execution_count": 36,
      "outputs": [
        {
          "output_type": "stream",
          "name": "stdout",
          "text": [
            "XGBoost Classification Report:\n",
            "              precision    recall  f1-score   support\n",
            "\n",
            "           0     0.9992    0.9972    0.9982    131814\n",
            "           1     0.9057    0.9723    0.9378      3685\n",
            "\n",
            "    accuracy                         0.9965    135499\n",
            "   macro avg     0.9525    0.9847    0.9680    135499\n",
            "weighted avg     0.9967    0.9965    0.9966    135499\n",
            "\n",
            "XGBoost Confusion Matrix:\n",
            "[[131441    373]\n",
            " [   102   3583]]\n",
            "XGBoost Accuracy: 0.9964944390733511\n"
          ]
        }
      ]
    },
    {
      "cell_type": "markdown",
      "source": [
        "## Feature Importance"
      ],
      "metadata": {
        "id": "-ApSYptTHbVj"
      }
    },
    {
      "cell_type": "code",
      "source": [
        "# Feature importance analysis\n",
        "feature_importance_xgb = pd.DataFrame({\n",
        "    'Feature': X_train.columns,\n",
        "    'Importance': xgb_model.feature_importances_\n",
        "}).sort_values(by='Importance', ascending=False)\n",
        "\n",
        "# Display top 10 features\n",
        "print(\"Top 10 Most Important Features (XGBoost):\")\n",
        "print(feature_importance_xgb.head(10))\n",
        "\n",
        "# Plot feature importance\n",
        "plt.figure(figsize=(10, 6))\n",
        "plt.barh(feature_importance_xgb['Feature'][:10], feature_importance_xgb['Importance'][:10])\n",
        "plt.gca().invert_yaxis()\n",
        "plt.title(\"Top 10 Feature Importances (XGBoost)\")\n",
        "plt.xlabel(\"Importance\")\n",
        "plt.ylabel(\"Feature\")\n",
        "plt.show()"
      ],
      "metadata": {
        "colab": {
          "base_uri": "https://localhost:8080/",
          "height": 772
        },
        "id": "uvHaY_Q3HfwL",
        "outputId": "01979670-0528-401e-fc75-05205d79cf51"
      },
      "execution_count": 37,
      "outputs": [
        {
          "output_type": "stream",
          "name": "stdout",
          "text": [
            "Top 10 Most Important Features (XGBoost):\n",
            "                      Feature  Importance\n",
            "5                           q    0.904331\n",
            "48                q_perturbed    0.030827\n",
            "14                        pha    0.022257\n",
            "13                        neo    0.006508\n",
            "11                          H    0.004867\n",
            "43  relative_orbital_distance    0.003315\n",
            "9              condition_code    0.002372\n",
            "7                       per_y    0.001929\n",
            "41             last_obs_month    0.001708\n",
            "49                i_perturbed    0.001238\n"
          ]
        },
        {
          "output_type": "display_data",
          "data": {
            "text/plain": [
              "<Figure size 1000x600 with 1 Axes>"
            ],
            "image/png": "[encoded data removed]"
          },
          "metadata": {}
        }
      ]
    },
    {
      "cell_type": "markdown",
      "source": [
        "# Custom Neural Network"
      ],
      "metadata": {
        "id": "nuZcXJyvRqrM"
      }
    },
    {
      "cell_type": "markdown",
      "source": [
        "##  Build and Train the Model"
      ],
      "metadata": {
        "id": "iMx0diMmRsuk"
      }
    },
    {
      "cell_type": "code",
      "source": [
        "# Initialize the neural network\n",
        "nn_model = Sequential()\n",
        "\n",
        "# Input layer\n",
        "nn_model.add(Dense(128, activation='relu', input_shape=(X_train_resampled_scaled.shape[1],)))\n",
        "\n",
        "# Hidden layers with Dropout for regularization\n",
        "nn_model.add(Dropout(0.5))\n",
        "nn_model.add(Dense(64, activation='relu'))\n",
        "nn_model.add(Dropout(0.5))\n",
        "nn_model.add(Dense(32, activation='relu'))\n",
        "\n",
        "# Output layer\n",
        "nn_model.add(Dense(1, activation='sigmoid'))\n",
        "\n",
        "# Compile the model\n",
        "nn_model.compile(optimizer='adam', loss='binary_crossentropy', metrics=['accuracy'])\n",
        "\n",
        "# Train the model\n",
        "history = nn_model.fit(\n",
        "    X_train_resampled_scaled, y_train_resampled,\n",
        "    epochs=10,\n",
        "    batch_size=256,\n",
        "    validation_data=(X_test_scaled, y_test),\n",
        "    verbose=1\n",
        ")\n",
        "\n",
        "print(\"Neural Network training completed.\")"
      ],
      "metadata": {
        "colab": {
          "base_uri": "https://localhost:8080/"
        },
        "id": "Gc3mpY-fR7a0",
        "outputId": "9721deab-2f40-4e44-f21e-a4f84f8b0528"
      },
      "execution_count": 40,
      "outputs": [
        {
          "output_type": "stream",
          "name": "stdout",
          "text": [
            "Epoch 1/10\n",
            "\u001b[1m4120/4120\u001b[0m \u001b[32m━━━━━━━━━━━━━━━━━━━━\u001b[0m\u001b[37m\u001b[0m \u001b[1m51s\u001b[0m 11ms/step - accuracy: 0.9835 - loss: 0.0519 - val_accuracy: 0.9910 - val_loss: 0.0255\n",
            "Epoch 2/10\n",
            "\u001b[1m4120/4120\u001b[0m \u001b[32m━━━━━━━━━━━━━━━━━━━━\u001b[0m\u001b[37m\u001b[0m \u001b[1m76s\u001b[0m 10ms/step - accuracy: 0.9948 - loss: 0.0191 - val_accuracy: 0.9926 - val_loss: 0.0230\n",
            "Epoch 3/10\n",
            "\u001b[1m4120/4120\u001b[0m \u001b[32m━━━━━━━━━━━━━━━━━━━━\u001b[0m\u001b[37m\u001b[0m \u001b[1m27s\u001b[0m 7ms/step - accuracy: 0.9959 - loss: 0.0151 - val_accuracy: 0.9932 - val_loss: 0.0217\n",
            "Epoch 4/10\n",
            "\u001b[1m4120/4120\u001b[0m \u001b[32m━━━━━━━━━━━━━━━━━━━━\u001b[0m\u001b[37m\u001b[0m \u001b[1m25s\u001b[0m 6ms/step - accuracy: 0.9961 - loss: 0.0145 - val_accuracy: 0.9936 - val_loss: 0.0208\n",
            "Epoch 5/10\n",
            "\u001b[1m4120/4120\u001b[0m \u001b[32m━━━━━━━━━━━━━━━━━━━━\u001b[0m\u001b[37m\u001b[0m \u001b[1m41s\u001b[0m 6ms/step - accuracy: 0.9963 - loss: 0.0140 - val_accuracy: 0.9939 - val_loss: 0.0195\n",
            "Epoch 6/10\n",
            "\u001b[1m4120/4120\u001b[0m \u001b[32m━━━━━━━━━━━━━━━━━━━━\u001b[0m\u001b[37m\u001b[0m \u001b[1m38s\u001b[0m 6ms/step - accuracy: 0.9963 - loss: 0.0137 - val_accuracy: 0.9940 - val_loss: 0.0176\n",
            "Epoch 7/10\n",
            "\u001b[1m4120/4120\u001b[0m \u001b[32m━━━━━━━━━━━━━━━━━━━━\u001b[0m\u001b[37m\u001b[0m \u001b[1m40s\u001b[0m 5ms/step - accuracy: 0.9964 - loss: 0.0137 - val_accuracy: 0.9938 - val_loss: 0.0209\n",
            "Epoch 8/10\n",
            "\u001b[1m4120/4120\u001b[0m \u001b[32m━━━━━━━━━━━━━━━━━━━━\u001b[0m\u001b[37m\u001b[0m \u001b[1m41s\u001b[0m 5ms/step - accuracy: 0.9966 - loss: 0.0131 - val_accuracy: 0.9939 - val_loss: 0.0198\n",
            "Epoch 9/10\n",
            "\u001b[1m4120/4120\u001b[0m \u001b[32m━━━━━━━━━━━━━━━━━━━━\u001b[0m\u001b[37m\u001b[0m \u001b[1m23s\u001b[0m 6ms/step - accuracy: 0.9964 - loss: 0.0133 - val_accuracy: 0.9943 - val_loss: 0.0185\n",
            "Epoch 10/10\n",
            "\u001b[1m4120/4120\u001b[0m \u001b[32m━━━━━━━━━━━━━━━━━━━━\u001b[0m\u001b[37m\u001b[0m \u001b[1m42s\u001b[0m 6ms/step - accuracy: 0.9965 - loss: 0.0133 - val_accuracy: 0.9944 - val_loss: 0.0168\n",
            "Neural Network training completed.\n"
          ]
        }
      ]
    },
    {
      "cell_type": "markdown",
      "source": [
        "## Evaluate the Model"
      ],
      "metadata": {
        "id": "9c6ksQYFS_8N"
      }
    },
    {
      "cell_type": "code",
      "source": [
        "# Make predictions on the test set\n",
        "y_pred_nn_prob = nn_model.predict(X_test_scaled)\n",
        "y_pred_nn = (y_pred_nn_prob > 0.5).astype(int).flatten()\n",
        "\n",
        "# Evaluate the model\n",
        "print(\"Neural Network Classification Report:\")\n",
        "print(classification_report(y_test, y_pred_nn, digits=4))\n",
        "\n",
        "print(\"Neural Network Confusion Matrix:\")\n",
        "print(confusion_matrix(y_test, y_pred_nn))\n",
        "\n",
        "# Accuracy score\n",
        "accuracy_nn = accuracy_score(y_test, y_pred_nn)\n",
        "print(\"Neural Network Accuracy:\", accuracy_nn)"
      ],
      "metadata": {
        "colab": {
          "base_uri": "https://localhost:8080/"
        },
        "id": "a8KnHts_RwHr",
        "outputId": "5406fd72-7a0c-4bd3-ca16-25c86f0cdd4c"
      },
      "execution_count": 41,
      "outputs": [
        {
          "output_type": "stream",
          "name": "stdout",
          "text": [
            "\u001b[1m4235/4235\u001b[0m \u001b[32m━━━━━━━━━━━━━━━━━━━━\u001b[0m\u001b[37m\u001b[0m \u001b[1m7s\u001b[0m 2ms/step\n",
            "Neural Network Classification Report:\n",
            "              precision    recall  f1-score   support\n",
            "\n",
            "           0     0.9998    0.9945    0.9971    131814\n",
            "           1     0.8344    0.9927    0.9067      3685\n",
            "\n",
            "    accuracy                         0.9944    135499\n",
            "   macro avg     0.9171    0.9936    0.9519    135499\n",
            "weighted avg     0.9953    0.9944    0.9947    135499\n",
            "\n",
            "Neural Network Confusion Matrix:\n",
            "[[131088    726]\n",
            " [    27   3658]]\n",
            "Neural Network Accuracy: 0.9944427634152282\n"
          ]
        }
      ]
    },
    {
      "cell_type": "markdown",
      "source": [
        "## Plot Training History"
      ],
      "metadata": {
        "id": "wv8ef8XWTBid"
      }
    },
    {
      "cell_type": "code",
      "source": [
        "# Plot training & validation accuracy values\n",
        "plt.figure(figsize=(12, 5))\n",
        "\n",
        "plt.subplot(1, 2, 1)\n",
        "plt.plot(history.history['accuracy'], label='Train')\n",
        "plt.plot(history.history['val_accuracy'], label='Test')\n",
        "plt.title('Neural Network Model Accuracy')\n",
        "plt.ylabel('Accuracy')\n",
        "plt.xlabel('Epoch')\n",
        "plt.legend(loc='lower right')\n",
        "\n",
        "# Plot training & validation loss values\n",
        "plt.subplot(1, 2, 2)\n",
        "plt.plot(history.history['loss'], label='Train')\n",
        "plt.plot(history.history['val_loss'], label='Test')\n",
        "plt.title('Neural Network Model Loss')\n",
        "plt.ylabel('Loss')\n",
        "plt.xlabel('Epoch')\n",
        "plt.legend(loc='upper right')\n",
        "\n",
        "plt.tight_layout()\n",
        "plt.show()"
      ],
      "metadata": {
        "colab": {
          "base_uri": "https://localhost:8080/",
          "height": 507
        },
        "id": "tJlRhZnkTEaT",
        "outputId": "bcdf43ee-42c2-45cd-d138-b7bf91f2241b"
      },
      "execution_count": 42,
      "outputs": [
        {
          "output_type": "display_data",
          "data": {
            "text/plain": [
              "<Figure size 1200x500 with 2 Axes>"
            ],
            "image/png": "[encoded data removed]"
          },
          "metadata": {}
        }
      ]
    },
    {
      "cell_type": "markdown",
      "source": [
        "# Model Evaluation and Comparison"
      ],
      "metadata": {
        "id": "p9kbuMAuWg0u"
      }
    },
    {
      "cell_type": "markdown",
      "source": [
        "## Extract Metrics for Minority Class"
      ],
      "metadata": {
        "id": "UXrHCIM4WrgT"
      }
    },
    {
      "cell_type": "code",
      "source": [
        "# Function to extract metrics for the minority class\n",
        "def get_minority_class_metrics(report):\n",
        "    lines = report.strip().split('\\n')\n",
        "    for line in lines[2:]:\n",
        "        if line.strip().startswith('1 '):\n",
        "            values = line.strip().split()\n",
        "            precision = float(values[1])\n",
        "            recall = float(values[2])\n",
        "            f1_score = float(values[3])\n",
        "            support = int(values[4])\n",
        "            return precision, recall, f1_score, support"
      ],
      "metadata": {
        "id": "z_1Wr0PfWuGj"
      },
      "execution_count": 43,
      "outputs": []
    },
    {
      "cell_type": "markdown",
      "source": [
        "## Compile Metrics for Comparison"
      ],
      "metadata": {
        "id": "uveQptV9WwgM"
      }
    },
    {
      "cell_type": "code",
      "source": [
        "# Extract metrics\n",
        "models = ['Random Forest', 'XGBoost', 'Neural Network']\n",
        "reports = [classification_report(y_test, y_pred_rf, digits=4),\n",
        "           classification_report(y_test, y_pred_xgb, digits=4),\n",
        "           classification_report(y_test, y_pred_nn, digits=4)]\n",
        "\n",
        "metrics = []\n",
        "for model_name, report in zip(models, reports):\n",
        "    precision, recall, f1_score, support = get_minority_class_metrics(report)\n",
        "    metrics.append({\n",
        "        'Model': model_name,\n",
        "        'Precision': precision,\n",
        "        'Recall': recall,\n",
        "        'F1-Score': f1_score,\n",
        "        'Support': support\n",
        "    })\n",
        "\n",
        "# Create DataFrame\n",
        "metrics_df = pd.DataFrame(metrics)\n",
        "\n",
        "# Display the comparison\n",
        "print(\"\\nComparison of Models on Minority Class Metrics:\")\n",
        "print(metrics_df)"
      ],
      "metadata": {
        "colab": {
          "base_uri": "https://localhost:8080/"
        },
        "id": "5Ny09SkxWzpc",
        "outputId": "c67ca5d8-45ed-45a7-f16d-8ce108459e76"
      },
      "execution_count": 44,
      "outputs": [
        {
          "output_type": "stream",
          "name": "stdout",
          "text": [
            "\n",
            "Comparison of Models on Minority Class Metrics:\n",
            "            Model  Precision  Recall  F1-Score  Support\n",
            "0   Random Forest     0.8586  0.9872    0.9185     3685\n",
            "1         XGBoost     0.9057  0.9723    0.9378     3685\n",
            "2  Neural Network     0.8344  0.9927    0.9067     3685\n"
          ]
        }
      ]
    },
    {
      "cell_type": "markdown",
      "source": [
        "## Visualize Metrics"
      ],
      "metadata": {
        "id": "BpQ1zXzKW3rS"
      }
    },
    {
      "cell_type": "code",
      "source": [
        "# Plotting the metrics for comparison\n",
        "fig, ax = plt.subplots(1, 3, figsize=(18, 5))\n",
        "\n",
        "# Precision\n",
        "ax[0].bar(metrics_df['Model'], metrics_df['Precision'], color='blue')\n",
        "ax[0].set_title('Precision for Minority Class')\n",
        "ax[0].set_ylim([0, 1])\n",
        "ax[0].set_ylabel('Precision')\n",
        "\n",
        "# Recall\n",
        "ax[1].bar(metrics_df['Model'], metrics_df['Recall'], color='green')\n",
        "ax[1].set_title('Recall for Minority Class')\n",
        "ax[1].set_ylim([0, 1])\n",
        "ax[1].set_ylabel('Recall')\n",
        "\n",
        "# F1-Score\n",
        "ax[2].bar(metrics_df['Model'], metrics_df['F1-Score'], color='red')\n",
        "ax[2].set_title('F1-Score for Minority Class')\n",
        "ax[2].set_ylim([0, 1])\n",
        "ax[2].set_ylabel('F1-Score')\n",
        "\n",
        "plt.tight_layout()\n",
        "plt.show()"
      ],
      "metadata": {
        "colab": {
          "base_uri": "https://localhost:8080/",
          "height": 376
        },
        "id": "NGkGRHSrW4nD",
        "outputId": "c998aa26-9357-4000-be4b-5695a7736b13"
      },
      "execution_count": 45,
      "outputs": [
        {
          "output_type": "display_data",
          "data": {
            "text/plain": [
              "<Figure size 1800x500 with 3 Axes>"
            ],
            "image/png": "[encoded data removed]"
          },
          "metadata": {}
        }
      ]
    }
  ]
}