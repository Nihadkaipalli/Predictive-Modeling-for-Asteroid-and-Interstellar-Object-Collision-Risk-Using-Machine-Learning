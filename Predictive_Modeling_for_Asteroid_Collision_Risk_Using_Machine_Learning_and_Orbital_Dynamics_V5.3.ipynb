{
  "nbformat": 4,
  "nbformat_minor": 0,
  "metadata": {
    "colab": {
      "provenance": [],
      "toc_visible": true,
      "machine_shape": "hm",
      "gpuType": "A100",
      "authorship_tag": "ABX9TyPWKszZxxxhhp4ObzIuNWJQ"
    },
    "kernelspec": {
      "name": "python3",
      "display_name": "Python 3"
    },
    "language_info": {
      "name": "python"
    },
    "accelerator": "GPU"
  },
  "cells": [
    {
      "cell_type": "markdown",
      "source": [
        "# 1.Import Libraries"
      ],
      "metadata": {
        "id": "hnU1SmFSqokX"
      }
    },
    {
      "cell_type": "code",
      "source": [
        "# Core Libraries\n",
        "import numpy as np\n",
        "import pandas as pd\n",
        "import matplotlib.pyplot as plt\n",
        "import seaborn as sns\n",
        "import warnings\n",
        "\n",
        "# Machine Learning Models\n",
        "from sklearn.ensemble import RandomForestClassifier\n",
        "from xgboost import XGBClassifier\n",
        "\n",
        "# TensorFlow for Neural Networks\n",
        "import tensorflow as tf\n",
        "from tensorflow.keras.models import Sequential\n",
        "from tensorflow.keras.layers import Dense, Dropout\n",
        "\n",
        "# Model Evaluation\n",
        "from sklearn.metrics import classification_report, confusion_matrix, roc_auc_score, roc_curve\n",
        "\n",
        "# Hyperparameter Tuning\n",
        "from sklearn.model_selection import RandomizedSearchCV, train_test_split\n",
        "from sklearn.experimental import enable_halving_search_cv\n",
        "from sklearn.model_selection import HalvingRandomSearchCV\n",
        "import keras_tuner as kt\n",
        "\n",
        "# Data Preprocessing\n",
        "from sklearn.preprocessing import StandardScaler\n",
        "from sklearn.impute import SimpleImputer\n",
        "\n",
        "# Handling Imbalanced Data\n",
        "from imblearn.over_sampling import SMOTE\n",
        "\n",
        "# Save/Load Models\n",
        "import joblib\n",
        "\n",
        "# Suppress Warnings\n",
        "warnings.filterwarnings('ignore')"
      ],
      "metadata": {
        "id": "riUkWhWQSGkl"
      },
      "execution_count": null,
      "outputs": []
    },
    {
      "cell_type": "markdown",
      "source": [
        "# 2.Data Loading"
      ],
      "metadata": {
        "id": "M16upKWUqvaV"
      }
    },
    {
      "cell_type": "code",
      "execution_count": null,
      "metadata": {
        "id": "Clh3bFNPD6CY"
      },
      "outputs": [],
      "source": [
        "# For Google Colab Users\n",
        "from google.colab import drive\n",
        "drive.mount('/content/drive')\n",
        "\n",
        "file_path = '/content/drive/My Drive/Predictive_Modeling_for_Asteroid_Collision_Risk_Using_Machine_Learning_and_Orbital_Dynamics/Asteroid Collision Dataset V2.csv'\n",
        "df = pd.read_csv(file_path, low_memory=False)\n",
        "\n",
        "print(\"Dataset Shape:\", df.shape)\n",
        "print(\"First 5 Rows:\\n\", df.head())"
      ]
    },
    {
      "cell_type": "markdown",
      "source": [
        "# 3.Initial EDA"
      ],
      "metadata": {
        "id": "x3lsHQuwtXI8"
      }
    },
    {
      "cell_type": "code",
      "source": [
        "# Dataset Information\n",
        "print(\"\\n--- Initial EDA ---\")\n",
        "print(\"\\nDataframe Info:\")\n",
        "df.info()\n",
        "\n",
        "print(\"\\nStatistical Summary:\")\n",
        "print(df.describe(include=[np.number]))\n",
        "\n",
        "# Missing Data Summary\n",
        "missing_summary = df.isnull().mean().sort_values(ascending=False) * 100\n",
        "print(\"\\nMissing Data Summary (% Missing Values):\\n\", missing_summary)\n",
        "\n",
        "# Visualize Missing Data\n",
        "plt.figure(figsize=(10, 5))\n",
        "missing_summary.plot(kind='bar', color='orange')\n",
        "plt.title('Percentage of Missing Values per Column')\n",
        "plt.xlabel('Columns')\n",
        "plt.ylabel('Percentage Missing')\n",
        "plt.tight_layout()\n",
        "plt.show()\n"
      ],
      "metadata": {
        "id": "CJRS4AcJtey0"
      },
      "execution_count": null,
      "outputs": []
    },
    {
      "cell_type": "markdown",
      "source": [
        "# 4.Data Preprocessing"
      ],
      "metadata": {
        "id": "FSkjg3op3ecd"
      }
    },
    {
      "cell_type": "markdown",
      "source": [
        "## 4.1 Handle Missing Values"
      ],
      "metadata": {
        "id": "3xKMqMbe3gl-"
      }
    },
    {
      "cell_type": "code",
      "source": [
        "# Drop Columns with >90% Missing Values\n",
        "cols_to_drop_missing = missing_summary[missing_summary > 90].index.tolist()\n",
        "irrelevant_columns = ['producer', 'equinox', 'orbit_id', 'pdes', 'full_name', 'name', 'prefix']\n",
        "cols_to_drop = list(set(cols_to_drop_missing + irrelevant_columns))\n",
        "df.drop(columns=cols_to_drop, inplace=True, errors='ignore')\n",
        "print(\"\\nDropped Columns:\", cols_to_drop)\n",
        "\n",
        "# Impute Numeric Columns\n",
        "numeric_cols = df.select_dtypes(include=[np.number]).columns.tolist()\n",
        "imputer = SimpleImputer(strategy='mean')\n",
        "df[numeric_cols] = imputer.fit_transform(df[numeric_cols])"
      ],
      "metadata": {
        "id": "sCGDZzB9F2E6"
      },
      "execution_count": null,
      "outputs": []
    },
    {
      "cell_type": "markdown",
      "source": [
        "# 5.Feature Engineering"
      ],
      "metadata": {
        "id": "77bLo5fP5bgF"
      }
    },
    {
      "cell_type": "markdown",
      "source": [
        "## 5.1 Map Binary Columns"
      ],
      "metadata": {
        "id": "F4_zYJhODjtk"
      }
    },
    {
      "cell_type": "code",
      "source": [
        "# Map Binary Columns ('Y'/'N' to 1/0)\n",
        "binary_mapping = {'Y': 1, 'N': 0}\n",
        "for col in ['neo', 'pha']:\n",
        "    if col in df.columns:\n",
        "        df[col] = df[col].map(binary_mapping)"
      ],
      "metadata": {
        "id": "0YFeZsgoDk9U"
      },
      "execution_count": null,
      "outputs": []
    },
    {
      "cell_type": "markdown",
      "source": [
        "## 5.2 Convert Date Columns to Features"
      ],
      "metadata": {
        "id": "M1Lw_oswD7cV"
      }
    },
    {
      "cell_type": "code",
      "source": [
        "# Convert Date Columns to Features\n",
        "date_cols = ['epoch_cal', 'tp_cal', 'first_obs', 'last_obs']\n",
        "for col in date_cols:\n",
        "    if col in df.columns:\n",
        "        df[col] = pd.to_datetime(df[col], errors='coerce')\n",
        "        df[f'{col}_year'] = df[col].dt.year\n",
        "        df[f'{col}_month'] = df[col].dt.month\n",
        "        df[f'{col}_day'] = df[col].dt.day\n",
        "        df.drop(columns=[col], inplace=True)"
      ],
      "metadata": {
        "id": "CYfSatiOD--c"
      },
      "execution_count": null,
      "outputs": []
    },
    {
      "cell_type": "markdown",
      "source": [
        "##5.3 Derived Features"
      ],
      "metadata": {
        "id": "-0l0euBsEHKD"
      }
    },
    {
      "cell_type": "code",
      "source": [
        "# Add Derived Features\n",
        "GRAVITATIONAL_CONSTANT = 39.478  # AU^3 / yr^2\n",
        "df['relative_orbital_distance'] = np.abs(df['q'] - df['a'] * (1 - df['e']))\n",
        "df['orbital_velocity'] = np.sqrt(GRAVITATIONAL_CONSTANT / df['a'])\n",
        "df['adjusted_eccentricity'] = df['e'] * df['a'] / df['q']\n",
        "\n",
        "# Perturb Orbital Elements Based on Uncertainty\n",
        "for col in ['a', 'e', 'q', 'i']:\n",
        "    sigma_col = f'sigma_{col}'\n",
        "    if sigma_col in df.columns:\n",
        "        df[f'{col}_perturbed'] = df[col] + np.random.normal(0, df[sigma_col])\n",
        "\n",
        "# Create 'collision_risk' Feature\n",
        "df['collision_risk'] = np.where(df['moid'] < 0.05, 1, 0)\n",
        "df.drop(columns=['moid', 'moid_ld'], inplace=True, errors='ignore')"
      ],
      "metadata": {
        "id": "CQ_oAXaZELF7"
      },
      "execution_count": null,
      "outputs": []
    },
    {
      "cell_type": "markdown",
      "source": [
        "# 6.Prepare Data for Modeling"
      ],
      "metadata": {
        "id": "8acFs0W_6RlO"
      }
    },
    {
      "cell_type": "markdown",
      "source": [
        "## 6.1. Define Features and Target"
      ],
      "metadata": {
        "id": "bbkLe9ES6Tmu"
      }
    },
    {
      "cell_type": "code",
      "source": [
        "# Define features and target variable\n",
        "X = df.drop(columns=['collision_risk'])\n",
        "y = df['collision_risk']\n",
        "\n",
        "# Ensure only numeric features are used\n",
        "X = X.select_dtypes(include=[np.number])"
      ],
      "metadata": {
        "id": "n5l7Alif6Wym"
      },
      "execution_count": 16,
      "outputs": []
    },
    {
      "cell_type": "markdown",
      "source": [
        "## 6.2. Split the Dataset"
      ],
      "metadata": {
        "id": "635Oe_Ca-ayM"
      }
    },
    {
      "cell_type": "code",
      "source": [
        "# Split the dataset with stratification to maintain class distribution\n",
        "X_train, X_test, y_train, y_test = train_test_split(\n",
        "    X, y, test_size=0.2, random_state=42, stratify=y\n",
        ")"
      ],
      "metadata": {
        "id": "xIVuyhZX-dkN"
      },
      "execution_count": 17,
      "outputs": []
    },
    {
      "cell_type": "markdown",
      "source": [
        "## 6.3. Handle Missing Values in Training and Testing Sets"
      ],
      "metadata": {
        "id": "qxOukc1E3DM1"
      }
    },
    {
      "cell_type": "code",
      "source": [
        "# Identify columns with all missing values and drop them\n",
        "all_missing_cols = X_train.columns[X_train.isnull().all()]\n",
        "print(\"Columns with all missing values:\", all_missing_cols.tolist())\n",
        "\n",
        "X_train.drop(columns=all_missing_cols, inplace=True)\n",
        "X_test.drop(columns=all_missing_cols, inplace=True)\n",
        "\n",
        "# Re-impute missing values\n",
        "imputer = SimpleImputer(strategy='mean')\n",
        "X_train = pd.DataFrame(imputer.fit_transform(X_train), columns=X_train.columns)\n",
        "X_test = pd.DataFrame(imputer.transform(X_test), columns=X_test.columns)\n",
        "\n",
        "# Verify no missing values remain\n",
        "print(\"Missing Values in X_train:\", X_train.isnull().sum().sum())\n",
        "print(\"Missing Values in X_test:\", X_test.isnull().sum().sum())"
      ],
      "metadata": {
        "colab": {
          "base_uri": "https://localhost:8080/"
        },
        "id": "p9UEFyp43GJ1",
        "outputId": "8699c993-178e-424b-b607-ac6467e79609"
      },
      "execution_count": 18,
      "outputs": [
        {
          "output_type": "stream",
          "name": "stdout",
          "text": [
            "Columns with all missing values: ['epoch_cal_year', 'epoch_cal_month', 'epoch_cal_day', 'tp_cal_year', 'tp_cal_month', 'tp_cal_day']\n",
            "Missing Values in X_train: 0\n",
            "Missing Values in X_test: 0\n"
          ]
        }
      ]
    },
    {
      "cell_type": "markdown",
      "source": [
        "## 6.4. Handle Class Imbalance with SMOTE"
      ],
      "metadata": {
        "id": "Tr2fh6Xp6ZYm"
      }
    },
    {
      "cell_type": "code",
      "source": [
        "from imblearn.over_sampling import SMOTE\n",
        "\n",
        "# Apply SMOTE to balance the classes in the training set\n",
        "smote = SMOTE(random_state=42)\n",
        "X_train_resampled, y_train_resampled = smote.fit_resample(X_train, y_train)\n",
        "\n",
        "print(\"Resampled Training Set Shape:\", X_train_resampled.shape)\n",
        "print(\"Class Distribution After Resampling:\\n\", y_train_resampled.value_counts())"
      ],
      "metadata": {
        "colab": {
          "base_uri": "https://localhost:8080/"
        },
        "id": "GckPuA3a6cdV",
        "outputId": "92faf98e-b440-4bf7-dd60-033ba3ed922c"
      },
      "execution_count": 19,
      "outputs": [
        {
          "output_type": "stream",
          "name": "stdout",
          "text": [
            "Resampled Training Set Shape: (1054508, 50)\n",
            "Class Distribution After Resampling:\n",
            " collision_risk\n",
            "0    527254\n",
            "1    527254\n",
            "Name: count, dtype: int64\n"
          ]
        }
      ]
    },
    {
      "cell_type": "code",
      "source": [
        "print(\"Missing Values in the Entire Dataset:\\n\", df.isnull().sum())"
      ],
      "metadata": {
        "colab": {
          "base_uri": "https://localhost:8080/"
        },
        "id": "cqo7UfqkmFKj",
        "outputId": "78e4284b-985b-46f0-db4b-ff0700d9648d"
      },
      "execution_count": 20,
      "outputs": [
        {
          "output_type": "stream",
          "name": "stdout",
          "text": [
            "Missing Values in the Entire Dataset:\n",
            " a                 0\n",
            "e                 0\n",
            "i                 0\n",
            "om                0\n",
            "w                 0\n",
            "                 ..\n",
            "a_perturbed       0\n",
            "e_perturbed       0\n",
            "q_perturbed       0\n",
            "i_perturbed       0\n",
            "collision_risk    0\n",
            "Length: 66, dtype: int64\n"
          ]
        }
      ]
    },
    {
      "cell_type": "markdown",
      "source": [
        "## 6.5. Data Scaling"
      ],
      "metadata": {
        "id": "wgwfts100jxk"
      }
    },
    {
      "cell_type": "code",
      "source": [
        "from sklearn.preprocessing import StandardScaler\n",
        "\n",
        "# Initialize the scaler\n",
        "scaler = StandardScaler()\n",
        "\n",
        "# Fit the scaler on the training data and transform\n",
        "X_train_resampled_scaled = scaler.fit_transform(X_train_resampled)\n",
        "\n",
        "# Transform the test data using the same scaler\n",
        "X_test_scaled = scaler.transform(X_test)"
      ],
      "metadata": {
        "id": "Io78qKGI042t"
      },
      "execution_count": 21,
      "outputs": []
    },
    {
      "cell_type": "markdown",
      "source": [
        "# 7.Secondary EDA"
      ],
      "metadata": {
        "id": "fjmUlkJQ0A9W"
      }
    },
    {
      "cell_type": "code",
      "source": [
        "print(\"\\n--- Secondary EDA (After Preprocessing) ---\")\n",
        "\n",
        "# Check the shape and distribution again\n",
        "print(\"Post-Preprocessing X_train_resampled_scaled shape:\", X_train_resampled_scaled.shape)\n",
        "print(\"Class Distribution in y_train_resampled:\\n\", y_train_resampled.value_counts())\n",
        "\n",
        "# Plot class distribution after SMOTE\n",
        "plt.figure(figsize=(5,4))\n",
        "y_train_resampled.value_counts().plot(kind='bar', color='green')\n",
        "plt.title('Class Distribution After SMOTE')\n",
        "plt.xlabel('Collision Risk Class')\n",
        "plt.ylabel('Count')\n",
        "plt.tight_layout()\n",
        "plt.show()\n",
        "\n",
        "# Correlation heatmap after preprocessing (use the X_train after imputation/dropping)\n",
        "X_train_post = pd.DataFrame(X_train_resampled_scaled, columns=X_train.columns)\n",
        "corr_post = pd.DataFrame(X_train_post, columns=X_train.columns).corr()\n",
        "plt.figure(figsize=(12,8))\n",
        "sns.heatmap(corr_post, annot=False, cmap='coolwarm')\n",
        "plt.title('Correlation Heatmap (After Preprocessing & Resampling)')\n",
        "plt.tight_layout()\n",
        "plt.show()"
      ],
      "metadata": {
        "colab": {
          "base_uri": "https://localhost:8080/",
          "height": 1000
        },
        "id": "yIVpAkRw02jd",
        "outputId": "2c1c0655-8635-4bdf-d951-471789ac26f3"
      },
      "execution_count": 22,
      "outputs": [
        {
          "output_type": "stream",
          "name": "stdout",
          "text": [
            "\n",
            "--- Secondary EDA (After Preprocessing) ---\n",
            "Post-Preprocessing X_train_resampled_scaled shape: (1054508, 50)\n",
            "Class Distribution in y_train_resampled:\n",
            " collision_risk\n",
            "0    527254\n",
            "1    527254\n",
            "Name: count, dtype: int64\n"
          ]
        },
        {
          "output_type": "display_data",
          "data": {
            "text/plain": [
              "<Figure size 500x400 with 1 Axes>"
            ],
            "image/png": "[encoded data removed]"
          },
          "metadata": {}
        },
        {
          "output_type": "display_data",
          "data": {
            "text/plain": [
              "<Figure size 1200x800 with 2 Axes>"
            ],
            "image/png": "[encoded data removed]"
          },
          "metadata": {}
        }
      ]
    },
    {
      "cell_type": "markdown",
      "source": [
        "# 8.Model Training and Evaluation"
      ],
      "metadata": {
        "id": "5UKd0fJW1JXM"
      }
    },
    {
      "cell_type": "markdown",
      "source": [
        "## 8.1 Random Forest Classifier"
      ],
      "metadata": {
        "id": "9T6NOmVCyS3z"
      }
    },
    {
      "cell_type": "markdown",
      "source": [
        "### 8.1.1. Initial Model Training"
      ],
      "metadata": {
        "id": "Eq0LslfD1WXQ"
      }
    },
    {
      "cell_type": "code",
      "source": [
        "# Initialize the Random Forest model\n",
        "rf_model_initial = RandomForestClassifier(\n",
        "    n_estimators=100,\n",
        "    random_state=42,\n",
        "    class_weight='balanced',\n",
        "    n_jobs=-1\n",
        ")\n",
        "\n",
        "# Train the initial model\n",
        "rf_model_initial.fit(X_train_resampled_scaled, y_train_resampled)\n",
        "\n",
        "# Make predictions on the test set\n",
        "y_pred_rf_initial = rf_model_initial.predict(X_test_scaled)\n",
        "\n",
        "# Evaluate the initial model\n",
        "print(\"Initial Random Forest Classification Report:\")\n",
        "print(classification_report(y_test, y_pred_rf_initial, digits=4))\n",
        "\n",
        "# Feature importance analysis\n",
        "feature_importance_rf = pd.DataFrame({\n",
        "    'Feature': X_train.columns,\n",
        "    'Importance': rf_model_initial.feature_importances_\n",
        "}).sort_values(by='Importance', ascending=False)\n",
        "\n",
        "# Display top 10 features\n",
        "print(\"Top 10 Most Important Features (Initial Random Forest):\")\n",
        "print(feature_importance_rf.head(10))"
      ],
      "metadata": {
        "colab": {
          "base_uri": "https://localhost:8080/"
        },
        "id": "bjM6l8FoGB2U",
        "outputId": "3b3bc501-cda7-4190-d76f-4a28f5b14e18"
      },
      "execution_count": 22,
      "outputs": [
        {
          "output_type": "stream",
          "name": "stdout",
          "text": [
            "Initial Random Forest Classification Report:\n",
            "              precision    recall  f1-score   support\n",
            "\n",
            "           0     0.9996    0.9954    0.9975    131814\n",
            "           1     0.8573    0.9851    0.9168      3685\n",
            "\n",
            "    accuracy                         0.9951    135499\n",
            "   macro avg     0.9285    0.9902    0.9571    135499\n",
            "weighted avg     0.9957    0.9951    0.9953    135499\n",
            "\n",
            "Top 10 Most Important Features (Initial Random Forest):\n",
            "             Feature  Importance\n",
            "5                  q    0.202669\n",
            "13               neo    0.172387\n",
            "48       q_perturbed    0.158992\n",
            "11                 H    0.088836\n",
            "20                 n    0.048241\n",
            "7              per_y    0.046791\n",
            "44  orbital_velocity    0.039641\n",
            "46       a_perturbed    0.032118\n",
            "47       e_perturbed    0.031957\n",
            "22               per    0.031622\n"
          ]
        }
      ]
    },
    {
      "cell_type": "markdown",
      "source": [
        "### 8.1.2. Hyperparameter Tuning with HalvingRandomSearchCV"
      ],
      "metadata": {
        "id": "Qb3Sk93D15h8"
      }
    },
    {
      "cell_type": "code",
      "source": [
        "# Simplified parameter grid, including n_estimators\n",
        "param_grid_rf = {\n",
        "    'n_estimators': [100, 200],\n",
        "    'max_depth': [10, 20],\n",
        "    'min_samples_split': [2, 5],\n",
        "    'class_weight': ['balanced']\n",
        "}\n",
        "\n",
        "rf_model_base = RandomForestClassifier(random_state=42, n_jobs=-1)\n",
        "\n",
        "# Initialize HalvingRandomSearchCV without specifying resource\n",
        "halving_random_search_rf = HalvingRandomSearchCV(\n",
        "    estimator=rf_model_base,\n",
        "    param_distributions=param_grid_rf,\n",
        "    factor=2,\n",
        "    random_state=42,\n",
        "    n_jobs=-1,\n",
        "    verbose=1\n",
        ")\n",
        "\n",
        "halving_random_search_rf.fit(X_train_resampled_scaled, y_train_resampled)\n",
        "\n",
        "print(\"Best parameters found for Random Forest:\")\n",
        "print(halving_random_search_rf.best_params_)"
      ],
      "metadata": {
        "colab": {
          "base_uri": "https://localhost:8080/"
        },
        "id": "fNjsAj-g18f0",
        "outputId": "9e874a45-8f66-4b15-a723-7545d85bac6e"
      },
      "execution_count": 23,
      "outputs": [
        {
          "output_type": "stream",
          "name": "stdout",
          "text": [
            "n_iterations: 4\n",
            "n_required_iterations: 4\n",
            "n_possible_iterations: 16\n",
            "min_resources_: 20\n",
            "max_resources_: 1054508\n",
            "aggressive_elimination: False\n",
            "factor: 2\n",
            "----------\n",
            "iter: 0\n",
            "n_candidates: 8\n",
            "n_resources: 20\n",
            "Fitting 5 folds for each of 8 candidates, totalling 40 fits\n",
            "----------\n",
            "iter: 1\n",
            "n_candidates: 4\n",
            "n_resources: 40\n",
            "Fitting 5 folds for each of 4 candidates, totalling 20 fits\n",
            "----------\n",
            "iter: 2\n",
            "n_candidates: 2\n",
            "n_resources: 80\n",
            "Fitting 5 folds for each of 2 candidates, totalling 10 fits\n",
            "----------\n",
            "iter: 3\n",
            "n_candidates: 1\n",
            "n_resources: 160\n",
            "Fitting 5 folds for each of 1 candidates, totalling 5 fits\n",
            "Best parameters found for Random Forest:\n",
            "{'n_estimators': 100, 'min_samples_split': 5, 'max_depth': 20, 'class_weight': 'balanced'}\n"
          ]
        }
      ]
    },
    {
      "cell_type": "markdown",
      "source": [
        "### 8.1.3. Evaluate the Tuned Random Forest Model"
      ],
      "metadata": {
        "id": "RQT2arExGkUs"
      }
    },
    {
      "cell_type": "code",
      "source": [
        "# Use the best estimator\n",
        "best_rf_model = halving_random_search_rf.best_estimator_\n",
        "\n",
        "# Make predictions on the test set\n",
        "y_pred_rf = best_rf_model.predict(X_test_scaled)\n",
        "\n",
        "# Evaluate the tuned model\n",
        "print(\"Tuned Random Forest Classification Report:\")\n",
        "print(classification_report(y_test, y_pred_rf, digits=4))\n",
        "\n",
        "print(\"Tuned Random Forest Confusion Matrix:\")\n",
        "print(confusion_matrix(y_test, y_pred_rf))\n",
        "\n",
        "# Accuracy score\n",
        "accuracy_rf = accuracy_score(y_test, y_pred_rf)\n",
        "print(\"Tuned Random Forest Accuracy:\", accuracy_rf)"
      ],
      "metadata": {
        "colab": {
          "base_uri": "https://localhost:8080/"
        },
        "id": "XY_fW_otGm8s",
        "outputId": "2d403207-c581-41cb-984f-ef65e7adfee0"
      },
      "execution_count": 24,
      "outputs": [
        {
          "output_type": "stream",
          "name": "stdout",
          "text": [
            "Tuned Random Forest Classification Report:\n",
            "              precision    recall  f1-score   support\n",
            "\n",
            "           0     0.9998    0.9951    0.9974    131814\n",
            "           1     0.8501    0.9924    0.9157      3685\n",
            "\n",
            "    accuracy                         0.9950    135499\n",
            "   macro avg     0.9249    0.9938    0.9566    135499\n",
            "weighted avg     0.9957    0.9950    0.9952    135499\n",
            "\n",
            "Tuned Random Forest Confusion Matrix:\n",
            "[[131169    645]\n",
            " [    28   3657]]\n",
            "Tuned Random Forest Accuracy: 0.9950331736765585\n"
          ]
        }
      ]
    },
    {
      "cell_type": "markdown",
      "source": [
        "## 8.2 Gradient Boosting Classifier (XGBoost)"
      ],
      "metadata": {
        "id": "qgsOIvRnHEKb"
      }
    },
    {
      "cell_type": "markdown",
      "source": [
        "### 8.2.1. Initial Model Training"
      ],
      "metadata": {
        "id": "MWr1gA0H26Ag"
      }
    },
    {
      "cell_type": "code",
      "source": [
        "!pip install --upgrade xgboost"
      ],
      "metadata": {
        "colab": {
          "base_uri": "https://localhost:8080/"
        },
        "id": "dTuvLUBHYYa2",
        "outputId": "72b7e0f2-647b-4fc6-c478-11c071da28ac"
      },
      "execution_count": 25,
      "outputs": [
        {
          "output_type": "stream",
          "name": "stdout",
          "text": [
            "Requirement already satisfied: xgboost in /usr/local/lib/python3.10/dist-packages (2.1.3)\n",
            "Requirement already satisfied: numpy in /usr/local/lib/python3.10/dist-packages (from xgboost) (1.26.4)\n",
            "Requirement already satisfied: nvidia-nccl-cu12 in /usr/local/lib/python3.10/dist-packages (from xgboost) (2.23.4)\n",
            "Requirement already satisfied: scipy in /usr/local/lib/python3.10/dist-packages (from xgboost) (1.13.1)\n"
          ]
        }
      ]
    },
    {
      "cell_type": "code",
      "source": [
        "# Initialize the XGBoost model\n",
        "xgb_model_initial = XGBClassifier(\n",
        "    n_estimators=100,\n",
        "    random_state=42,\n",
        "    use_label_encoder=False,\n",
        "    eval_metric='logloss'\n",
        ")\n",
        "\n",
        "# Train the initial model\n",
        "xgb_model_initial.fit(X_train_resampled_scaled, y_train_resampled)\n",
        "\n",
        "# Make predictions on the test set\n",
        "y_pred_xgb_initial = xgb_model_initial.predict(X_test_scaled)\n",
        "\n",
        "# Evaluate the initial model\n",
        "print(\"Initial XGBoost Classification Report:\")\n",
        "print(classification_report(y_test, y_pred_xgb_initial, digits=4))\n",
        "\n",
        "# Feature importance analysis\n",
        "feature_importance_xgb = pd.DataFrame({\n",
        "    'Feature': X_train.columns,\n",
        "    'Importance': xgb_model_initial.feature_importances_\n",
        "}).sort_values(by='Importance', ascending=False)\n",
        "\n",
        "# Display top 10 features\n",
        "print(\"Top 10 Most Important Features (Initial XGBoost):\")\n",
        "print(feature_importance_xgb.head(10))\n"
      ],
      "metadata": {
        "colab": {
          "base_uri": "https://localhost:8080/"
        },
        "id": "ppazMYn3HVjL",
        "outputId": "d44747d4-7e0a-4a11-d28e-98c79b50a0bb"
      },
      "execution_count": 26,
      "outputs": [
        {
          "output_type": "stream",
          "name": "stdout",
          "text": [
            "Initial XGBoost Classification Report:\n",
            "              precision    recall  f1-score   support\n",
            "\n",
            "           0     0.9992    0.9973    0.9982    131814\n",
            "           1     0.9092    0.9704    0.9388      3685\n",
            "\n",
            "    accuracy                         0.9966    135499\n",
            "   macro avg     0.9542    0.9839    0.9685    135499\n",
            "weighted avg     0.9967    0.9966    0.9966    135499\n",
            "\n",
            "Top 10 Most Important Features (Initial XGBoost):\n",
            "                      Feature  Importance\n",
            "5                           q    0.892318\n",
            "48                q_perturbed    0.039119\n",
            "14                        pha    0.023102\n",
            "13                        neo    0.006591\n",
            "11                          H    0.005167\n",
            "43  relative_orbital_distance    0.003664\n",
            "9              condition_code    0.002368\n",
            "7                       per_y    0.001867\n",
            "41             last_obs_month    0.001666\n",
            "2                           i    0.001443\n"
          ]
        }
      ]
    },
    {
      "cell_type": "markdown",
      "source": [
        "### 8.2.2 Hyperparameter Tuning with RandomizedSearchCV"
      ],
      "metadata": {
        "id": "QC0JVG5oHXSU"
      }
    },
    {
      "cell_type": "code",
      "source": [
        "# Define the parameter grid for XGBoost\n",
        "param_grid_xgb = {\n",
        "    'n_estimators': [100, 200],\n",
        "    'max_depth': [3, 6],\n",
        "    'learning_rate': [0.01, 0.1],\n",
        "    'subsample': [0.8, 1.0],\n",
        "    'colsample_bytree': [0.8, 1.0],\n",
        "    'scale_pos_weight': [1]\n",
        "}\n",
        "\n",
        "# Initialize the base XGBoost model\n",
        "xgb_model_base = XGBClassifier(random_state=42, use_label_encoder=False, eval_metric='logloss')\n",
        "\n",
        "# Initialize RandomizedSearchCV without early stopping parameters\n",
        "random_search_xgb = RandomizedSearchCV(\n",
        "    estimator=xgb_model_base,\n",
        "    param_distributions=param_grid_xgb,\n",
        "    n_iter=10,\n",
        "    scoring='f1',\n",
        "    cv=3,\n",
        "    random_state=42,\n",
        "    n_jobs=-1,\n",
        "    verbose=1\n",
        ")\n",
        "\n",
        "# Fit the model on the training data WITHOUT early stopping\n",
        "random_search_xgb.fit(X_train_resampled_scaled, y_train_resampled)\n",
        "\n",
        "# Print the best parameters found\n",
        "print(\"Best parameters found for XGBoost:\")\n",
        "print(random_search_xgb.best_params_)"
      ],
      "metadata": {
        "colab": {
          "base_uri": "https://localhost:8080/"
        },
        "id": "xDiOpCxcHZh8",
        "outputId": "c8623c48-8d2c-47e5-d75a-98f20a37072e"
      },
      "execution_count": 27,
      "outputs": [
        {
          "output_type": "stream",
          "name": "stdout",
          "text": [
            "Fitting 3 folds for each of 10 candidates, totalling 30 fits\n",
            "Best parameters found for XGBoost:\n",
            "{'subsample': 0.8, 'scale_pos_weight': 1, 'n_estimators': 200, 'max_depth': 6, 'learning_rate': 0.1, 'colsample_bytree': 1.0}\n"
          ]
        }
      ]
    },
    {
      "cell_type": "markdown",
      "source": [
        "### 8.2.3 Evaluate the Tuned XGBoost Model"
      ],
      "metadata": {
        "id": "-ApSYptTHbVj"
      }
    },
    {
      "cell_type": "code",
      "source": [
        "\n",
        "import xgboost as xgb\n",
        "from xgboost.callback import EarlyStopping\n",
        "\n",
        "# Convert data to DMatrix\n",
        "dtrain = xgb.DMatrix(X_train_resampled_scaled, label=y_train_resampled)\n",
        "dtest = xgb.DMatrix(X_test_scaled, label=y_test)\n",
        "\n",
        "params = random_search_xgb.best_params_\n",
        "params.update({\n",
        "    'random_state': 42,\n",
        "    'eval_metric': 'logloss'\n",
        "})\n",
        "\n",
        "# Early stopping callback\n",
        "early_stopping_cb = EarlyStopping(rounds=10, save_best=True)\n",
        "\n",
        "xgb_model = xgb.train(\n",
        "    params,\n",
        "    dtrain,\n",
        "    num_boost_round=9999,\n",
        "    evals=[(dtest, 'eval')],\n",
        "    callbacks=[early_stopping_cb]\n",
        ")\n",
        "\n",
        "# Predict with the final model\n",
        "y_pred_xgb = (xgb_model.predict(dtest) > 0.5).astype(int)\n",
        "\n",
        "print(\"Tuned XGBoost Classification Report (with native train and callbacks):\")\n",
        "print(classification_report(y_test, y_pred_xgb, digits=4))\n",
        "print(\"Confusion Matrix:\")\n",
        "print(confusion_matrix(y_test, y_pred_xgb))\n",
        "print(\"Accuracy:\", accuracy_score(y_test, y_pred_xgb))\n",
        "\n"
      ],
      "metadata": {
        "id": "7DjHCQ6Cadhc",
        "colab": {
          "base_uri": "https://localhost:8080/"
        },
        "outputId": "9fee2008-c3ff-4df8-824a-16c92ecb1146"
      },
      "execution_count": 28,
      "outputs": [
        {
          "output_type": "stream",
          "name": "stdout",
          "text": [
            "[0]\teval-logloss:0.59900\n",
            "[1]\teval-logloss:0.52135\n",
            "[2]\teval-logloss:0.45639\n",
            "[3]\teval-logloss:0.40146\n",
            "[4]\teval-logloss:0.35455\n",
            "[5]\teval-logloss:0.31421\n",
            "[6]\teval-logloss:0.27933\n",
            "[7]\teval-logloss:0.24901\n",
            "[8]\teval-logloss:0.22253\n",
            "[9]\teval-logloss:0.19934\n",
            "[10]\teval-logloss:0.17895\n",
            "[11]\teval-logloss:0.16101\n",
            "[12]\teval-logloss:0.14516\n",
            "[13]\teval-logloss:0.13117\n",
            "[14]\teval-logloss:0.11875\n",
            "[15]\teval-logloss:0.10777\n",
            "[16]\teval-logloss:0.09799\n",
            "[17]\teval-logloss:0.08930\n",
            "[18]\teval-logloss:0.08155\n",
            "[19]\teval-logloss:0.07468\n",
            "[20]\teval-logloss:0.06856\n",
            "[21]\teval-logloss:0.06307\n",
            "[22]\teval-logloss:0.05817\n",
            "[23]\teval-logloss:0.05377\n",
            "[24]\teval-logloss:0.04988\n",
            "[25]\teval-logloss:0.04638\n",
            "[26]\teval-logloss:0.04325\n",
            "[27]\teval-logloss:0.04049\n",
            "[28]\teval-logloss:0.03796\n",
            "[29]\teval-logloss:0.03573\n",
            "[30]\teval-logloss:0.03378\n",
            "[31]\teval-logloss:0.03194\n",
            "[32]\teval-logloss:0.03031\n",
            "[33]\teval-logloss:0.02885\n",
            "[34]\teval-logloss:0.02752\n",
            "[35]\teval-logloss:0.02633\n",
            "[36]\teval-logloss:0.02526\n",
            "[37]\teval-logloss:0.02451\n",
            "[38]\teval-logloss:0.02366\n",
            "[39]\teval-logloss:0.02288\n",
            "[40]\teval-logloss:0.02223\n",
            "[41]\teval-logloss:0.02159\n",
            "[42]\teval-logloss:0.02099\n",
            "[43]\teval-logloss:0.02044\n",
            "[44]\teval-logloss:0.01998\n",
            "[45]\teval-logloss:0.01950\n",
            "[46]\teval-logloss:0.01908\n",
            "[47]\teval-logloss:0.01867\n",
            "[48]\teval-logloss:0.01833\n",
            "[49]\teval-logloss:0.01801\n",
            "[50]\teval-logloss:0.01776\n",
            "[51]\teval-logloss:0.01751\n",
            "[52]\teval-logloss:0.01728\n",
            "[53]\teval-logloss:0.01703\n",
            "[54]\teval-logloss:0.01685\n",
            "[55]\teval-logloss:0.01687\n",
            "[56]\teval-logloss:0.01670\n",
            "[57]\teval-logloss:0.01653\n",
            "[58]\teval-logloss:0.01638\n",
            "[59]\teval-logloss:0.01621\n",
            "[60]\teval-logloss:0.01610\n",
            "[61]\teval-logloss:0.01596\n",
            "[62]\teval-logloss:0.01584\n",
            "[63]\teval-logloss:0.01570\n",
            "[64]\teval-logloss:0.01562\n",
            "[65]\teval-logloss:0.01553\n",
            "[66]\teval-logloss:0.01529\n",
            "[67]\teval-logloss:0.01521\n",
            "[68]\teval-logloss:0.01511\n",
            "[69]\teval-logloss:0.01505\n",
            "[70]\teval-logloss:0.01501\n",
            "[71]\teval-logloss:0.01495\n",
            "[72]\teval-logloss:0.01489\n",
            "[73]\teval-logloss:0.01480\n",
            "[74]\teval-logloss:0.01475\n",
            "[75]\teval-logloss:0.01470\n",
            "[76]\teval-logloss:0.01468\n",
            "[77]\teval-logloss:0.01466\n",
            "[78]\teval-logloss:0.01453\n",
            "[79]\teval-logloss:0.01451\n",
            "[80]\teval-logloss:0.01446\n",
            "[81]\teval-logloss:0.01443\n",
            "[82]\teval-logloss:0.01442\n",
            "[83]\teval-logloss:0.01441\n",
            "[84]\teval-logloss:0.01440\n",
            "[85]\teval-logloss:0.01435\n",
            "[86]\teval-logloss:0.01433\n",
            "[87]\teval-logloss:0.01432\n",
            "[88]\teval-logloss:0.01430\n",
            "[89]\teval-logloss:0.01428\n",
            "[90]\teval-logloss:0.01423\n",
            "[91]\teval-logloss:0.01422\n",
            "[92]\teval-logloss:0.01418\n",
            "[93]\teval-logloss:0.01413\n",
            "[94]\teval-logloss:0.01413\n",
            "[95]\teval-logloss:0.01410\n",
            "[96]\teval-logloss:0.01408\n",
            "[97]\teval-logloss:0.01406\n",
            "[98]\teval-logloss:0.01403\n",
            "[99]\teval-logloss:0.01403\n",
            "[100]\teval-logloss:0.01402\n",
            "[101]\teval-logloss:0.01399\n",
            "[102]\teval-logloss:0.01397\n",
            "[103]\teval-logloss:0.01395\n",
            "[104]\teval-logloss:0.01392\n",
            "[105]\teval-logloss:0.01392\n",
            "[106]\teval-logloss:0.01388\n",
            "[107]\teval-logloss:0.01388\n",
            "[108]\teval-logloss:0.01386\n",
            "[109]\teval-logloss:0.01384\n",
            "[110]\teval-logloss:0.01383\n",
            "[111]\teval-logloss:0.01383\n",
            "[112]\teval-logloss:0.01381\n",
            "[113]\teval-logloss:0.01380\n",
            "[114]\teval-logloss:0.01378\n",
            "[115]\teval-logloss:0.01377\n",
            "[116]\teval-logloss:0.01375\n",
            "[117]\teval-logloss:0.01373\n",
            "[118]\teval-logloss:0.01371\n",
            "[119]\teval-logloss:0.01370\n",
            "[120]\teval-logloss:0.01368\n",
            "[121]\teval-logloss:0.01368\n",
            "[122]\teval-logloss:0.01366\n",
            "[123]\teval-logloss:0.01364\n",
            "[124]\teval-logloss:0.01358\n",
            "[125]\teval-logloss:0.01357\n",
            "[126]\teval-logloss:0.01357\n",
            "[127]\teval-logloss:0.01355\n",
            "[128]\teval-logloss:0.01355\n",
            "[129]\teval-logloss:0.01352\n",
            "[130]\teval-logloss:0.01350\n",
            "[131]\teval-logloss:0.01349\n",
            "[132]\teval-logloss:0.01346\n",
            "[133]\teval-logloss:0.01343\n",
            "[134]\teval-logloss:0.01343\n",
            "[135]\teval-logloss:0.01335\n",
            "[136]\teval-logloss:0.01333\n",
            "[137]\teval-logloss:0.01333\n",
            "[138]\teval-logloss:0.01331\n",
            "[139]\teval-logloss:0.01329\n",
            "[140]\teval-logloss:0.01329\n",
            "[141]\teval-logloss:0.01327\n",
            "[142]\teval-logloss:0.01327\n",
            "[143]\teval-logloss:0.01323\n",
            "[144]\teval-logloss:0.01321\n",
            "[145]\teval-logloss:0.01319\n",
            "[146]\teval-logloss:0.01319\n",
            "[147]\teval-logloss:0.01318\n",
            "[148]\teval-logloss:0.01317\n",
            "[149]\teval-logloss:0.01313\n",
            "[150]\teval-logloss:0.01312\n",
            "[151]\teval-logloss:0.01311\n",
            "[152]\teval-logloss:0.01311\n",
            "[153]\teval-logloss:0.01306\n",
            "[154]\teval-logloss:0.01306\n",
            "[155]\teval-logloss:0.01300\n",
            "[156]\teval-logloss:0.01301\n",
            "[157]\teval-logloss:0.01299\n",
            "[158]\teval-logloss:0.01298\n",
            "[159]\teval-logloss:0.01297\n",
            "[160]\teval-logloss:0.01296\n",
            "[161]\teval-logloss:0.01295\n",
            "[162]\teval-logloss:0.01294\n",
            "[163]\teval-logloss:0.01294\n",
            "[164]\teval-logloss:0.01292\n",
            "[165]\teval-logloss:0.01291\n",
            "[166]\teval-logloss:0.01290\n",
            "[167]\teval-logloss:0.01290\n",
            "[168]\teval-logloss:0.01290\n",
            "[169]\teval-logloss:0.01287\n",
            "[170]\teval-logloss:0.01285\n",
            "[171]\teval-logloss:0.01284\n",
            "[172]\teval-logloss:0.01283\n",
            "[173]\teval-logloss:0.01283\n",
            "[174]\teval-logloss:0.01281\n",
            "[175]\teval-logloss:0.01280\n",
            "[176]\teval-logloss:0.01279\n",
            "[177]\teval-logloss:0.01275\n",
            "[178]\teval-logloss:0.01274\n",
            "[179]\teval-logloss:0.01273\n",
            "[180]\teval-logloss:0.01272\n",
            "[181]\teval-logloss:0.01270\n",
            "[182]\teval-logloss:0.01294\n",
            "[183]\teval-logloss:0.01292\n",
            "[184]\teval-logloss:0.01291\n",
            "[185]\teval-logloss:0.01290\n",
            "[186]\teval-logloss:0.01289\n",
            "[187]\teval-logloss:0.01289\n",
            "[188]\teval-logloss:0.01287\n",
            "[189]\teval-logloss:0.01286\n",
            "[190]\teval-logloss:0.01287\n",
            "Tuned XGBoost Classification Report (with native train and callbacks):\n",
            "              precision    recall  f1-score   support\n",
            "\n",
            "           0     0.9997    0.9952    0.9974    131814\n",
            "           1     0.8529    0.9883    0.9157      3685\n",
            "\n",
            "    accuracy                         0.9950    135499\n",
            "   macro avg     0.9263    0.9918    0.9565    135499\n",
            "weighted avg     0.9957    0.9950    0.9952    135499\n",
            "\n",
            "Confusion Matrix:\n",
            "[[131186    628]\n",
            " [    43   3642]]\n",
            "Accuracy: 0.9950479339330918\n"
          ]
        }
      ]
    },
    {
      "cell_type": "code",
      "source": [
        "# Use the best estimator\n",
        "best_xgb_model = random_search_xgb.best_estimator_\n",
        "\n",
        "# Make predictions\n",
        "y_pred_xgb = best_xgb_model.predict(X_test_scaled)\n",
        "\n",
        "# Evaluate the tuned model\n",
        "print(\"Tuned XGBoost Classification Report:\")\n",
        "print(classification_report(y_test, y_pred_xgb, digits=4))\n",
        "\n",
        "print(\"Tuned XGBoost Confusion Matrix:\")\n",
        "print(confusion_matrix(y_test, y_pred_xgb))\n",
        "\n",
        "# Accuracy score\n",
        "accuracy_xgb = accuracy_score(y_test, y_pred_xgb)\n",
        "print(\"Tuned XGBoost Accuracy:\", accuracy_xgb)"
      ],
      "metadata": {
        "id": "uvHaY_Q3HfwL",
        "colab": {
          "base_uri": "https://localhost:8080/"
        },
        "outputId": "624d0e50-d454-4791-d0ca-81b039f2253e"
      },
      "execution_count": 29,
      "outputs": [
        {
          "output_type": "stream",
          "name": "stdout",
          "text": [
            "Tuned XGBoost Classification Report:\n",
            "              precision    recall  f1-score   support\n",
            "\n",
            "           0     0.9994    0.9968    0.9981    131814\n",
            "           1     0.8946    0.9786    0.9347      3685\n",
            "\n",
            "    accuracy                         0.9963    135499\n",
            "   macro avg     0.9470    0.9877    0.9664    135499\n",
            "weighted avg     0.9965    0.9963    0.9964    135499\n",
            "\n",
            "Tuned XGBoost Confusion Matrix:\n",
            "[[131389    425]\n",
            " [    79   3606]]\n",
            "Tuned XGBoost Accuracy: 0.9962804153536189\n"
          ]
        }
      ]
    },
    {
      "cell_type": "markdown",
      "source": [
        "## 8.3 Neural Network"
      ],
      "metadata": {
        "id": "yO2e11C93beT"
      }
    },
    {
      "cell_type": "markdown",
      "source": [
        "### 8.3.1. Define the Model-Building Function"
      ],
      "metadata": {
        "id": "kZJva-Bz3f-l"
      }
    },
    {
      "cell_type": "code",
      "source": [
        "from sklearn.model_selection import RandomizedSearchCV\n",
        "from scikeras.wrappers import KerasClassifier\n",
        "from sklearn.metrics import classification_report, confusion_matrix, accuracy_score\n",
        "\n",
        "# Define the function to build the Keras model\n",
        "def build_model(units=128, dropout_rate=0.3, optimizer='adam'):\n",
        "    model = tf.keras.Sequential([\n",
        "        tf.keras.layers.Dense(units=units, activation='relu', input_shape=(X_train_resampled_scaled.shape[1],)),\n",
        "        tf.keras.layers.Dropout(dropout_rate),\n",
        "        tf.keras.layers.Dense(1, activation='sigmoid')\n",
        "    ])\n",
        "    model.compile(optimizer=optimizer, loss='binary_crossentropy', metrics=['accuracy'])\n",
        "    return model"
      ],
      "metadata": {
        "id": "McnRK0_63icr"
      },
      "execution_count": 30,
      "outputs": []
    },
    {
      "cell_type": "markdown",
      "source": [
        "### 8.3.2. Hyperparameter Tuning with RandomizedSearchCV"
      ],
      "metadata": {
        "id": "C9O8P_qH4Mhs"
      }
    },
    {
      "cell_type": "code",
      "source": [
        "# Wrap the Keras model for scikit-learn\n",
        "keras_clf = KerasClassifier(model=build_model, verbose=0)\n",
        "\n",
        "# Define the parameter grid for RandomizedSearchCV\n",
        "param_grid = {\n",
        "    'model__units': [64, 128, 256],            # Units in the first Dense layer\n",
        "    'model__dropout_rate': [0.2, 0.3, 0.4, 0.5],  # Dropout rate\n",
        "    'model__optimizer': ['adam', 'rmsprop'],   # Optimizer\n",
        "    'batch_size': [128, 256],                  # Batch size\n",
        "    'epochs': [5, 10]                          # Number of epochs\n",
        "}\n",
        "\n",
        "# Initialize RandomizedSearchCV\n",
        "random_search_nn = RandomizedSearchCV(\n",
        "    estimator=keras_clf,\n",
        "    param_distributions=param_grid,\n",
        "    n_iter=10,                # Number of parameter combinations to try\n",
        "    scoring='accuracy',       # Scoring metric\n",
        "    cv=3,                     # 3-fold cross-validation\n",
        "    verbose=1,                # Display progress\n",
        "    random_state=42,          # For reproducibility\n",
        "    n_jobs=-1                 # Use all available CPUs\n",
        ")\n",
        "\n",
        "# Fit RandomizedSearchCV on the resampled training data\n",
        "print(\"Starting Randomized Search for Neural Network...\")\n",
        "random_search_nn.fit(X_train_resampled_scaled, y_train_resampled)\n",
        "\n",
        "# Retrieve the best parameters\n",
        "print(\"\\nBest parameters found for Neural Network:\")\n",
        "print(random_search_nn.best_params_)\n"
      ],
      "metadata": {
        "id": "oTTDpg9I4P0j",
        "colab": {
          "base_uri": "https://localhost:8080/"
        },
        "outputId": "e7f87a03-f3bc-4f7d-9570-69a974cf908e"
      },
      "execution_count": 31,
      "outputs": [
        {
          "output_type": "stream",
          "name": "stdout",
          "text": [
            "Starting Randomized Search for Neural Network...\n",
            "Fitting 3 folds for each of 10 candidates, totalling 30 fits\n",
            "\n",
            "Best parameters found for Neural Network:\n",
            "{'model__units': 256, 'model__optimizer': 'adam', 'model__dropout_rate': 0.3, 'epochs': 10, 'batch_size': 256}\n"
          ]
        }
      ]
    },
    {
      "cell_type": "markdown",
      "source": [
        "### 8.3.3. Training the Best Model"
      ],
      "metadata": {
        "id": "5HDOCBTi4Vl8"
      }
    },
    {
      "cell_type": "code",
      "source": [
        "# Get the best estimator\n",
        "best_nn_model = random_search_nn.best_estimator_\n",
        "\n",
        "# Make predictions on the test set\n",
        "y_pred_nn_prob = best_nn_model.predict(X_test_scaled).flatten()\n",
        "y_pred_nn = (y_pred_nn_prob >= 0.5).astype(int)"
      ],
      "metadata": {
        "id": "I8jPeIC64X8E"
      },
      "execution_count": 32,
      "outputs": []
    },
    {
      "cell_type": "markdown",
      "source": [
        "### 8.3.4. Evaluate the Tuned Neural Network Model"
      ],
      "metadata": {
        "id": "9RTS_ZOQ4cUu"
      }
    },
    {
      "cell_type": "code",
      "source": [
        "# Classification Report\n",
        "print(\"\\nTuned Neural Network Classification Report:\")\n",
        "print(classification_report(y_test, y_pred_nn, digits=4))\n",
        "\n",
        "# Confusion Matrix\n",
        "print(\"\\nTuned Neural Network Confusion Matrix:\")\n",
        "print(confusion_matrix(y_test, y_pred_nn))\n",
        "\n",
        "# Accuracy Score\n",
        "accuracy_nn = accuracy_score(y_test, y_pred_nn)\n",
        "print(\"\\nTuned Neural Network Accuracy:\", accuracy_nn)"
      ],
      "metadata": {
        "id": "syZEpKDI4eH0",
        "colab": {
          "base_uri": "https://localhost:8080/"
        },
        "outputId": "278407d8-074d-4e9b-d434-054dd9bf3ea5"
      },
      "execution_count": 33,
      "outputs": [
        {
          "output_type": "stream",
          "name": "stdout",
          "text": [
            "\n",
            "Tuned Neural Network Classification Report:\n",
            "              precision    recall  f1-score   support\n",
            "\n",
            "           0     0.9997    0.9949    0.9973    131814\n",
            "           1     0.8436    0.9878    0.9100      3685\n",
            "\n",
            "    accuracy                         0.9947    135499\n",
            "   macro avg     0.9216    0.9913    0.9536    135499\n",
            "weighted avg     0.9954    0.9947    0.9949    135499\n",
            "\n",
            "\n",
            "Tuned Neural Network Confusion Matrix:\n",
            "[[131139    675]\n",
            " [    45   3640]]\n",
            "\n",
            "Tuned Neural Network Accuracy: 0.9946863076480269\n"
          ]
        }
      ]
    }
  ]
}