{
  "nbformat": 4,
  "nbformat_minor": 0,
  "metadata": {
    "colab": {
      "provenance": [],
      "toc_visible": true,
      "authorship_tag": "ABX9TyN5u3kUTVescGutCR6LMfa+",
      "include_colab_link": true
    },
    "kernelspec": {
      "name": "python3",
      "display_name": "Python 3"
    },
    "language_info": {
      "name": "python"
    }
  },
  "cells": [
    {
      "cell_type": "markdown",
      "metadata": {
        "id": "view-in-github",
        "colab_type": "text"
      },
      "source": [
        "<a href=\"https://colab.research.google.com/github/Nihadkaipalli/Predictive-Modeling-for-Asteroid-and-Interstellar-Object-Collision-Risk-Using-Machine-Learning/blob/main/Predictive_Modeling_for_Asteroid_Collision_Risk_Using_Machine_Learning_and_Orbital_Dynamics_V5.ipynb\" target=\"_parent\"><img src=\"https://colab.research.google.com/assets/colab-badge.svg\" alt=\"Open In Colab\"/></a>"
      ]
    },
    {
      "cell_type": "markdown",
      "source": [
        "# 1.Import Necessary Libraries"
      ],
      "metadata": {
        "id": "hnU1SmFSqokX"
      }
    },
    {
      "cell_type": "code",
      "source": [
        "# Install required libraries if not already installed\n",
        "!pip install imbalanced-learn xgboost scikeras[tensorflow] tensorflow keras-tuner\n",
        "\n",
        "# Import libraries for data manipulation and visualization\n",
        "import numpy as np\n",
        "import pandas as pd\n",
        "import matplotlib.pyplot as plt\n",
        "import seaborn as sns\n",
        "\n",
        "# Machine Learning models\n",
        "from sklearn.ensemble import RandomForestClassifier\n",
        "from xgboost import XGBClassifier\n",
        "import tensorflow as tf\n",
        "from tensorflow.keras.models import Sequential\n",
        "from tensorflow.keras.layers import Dense, Dropout\n",
        "\n",
        "# Model evaluation\n",
        "from sklearn.metrics import classification_report, confusion_matrix, accuracy_score\n",
        "\n",
        "# Hyperparameter tuning\n",
        "from sklearn.model_selection import RandomizedSearchCV, HalvingRandomSearchCV\n",
        "from sklearn.experimental import enable_halving_search_cv\n",
        "import keras_tuner as kt\n",
        "\n",
        "# Data preprocessing\n",
        "from sklearn.preprocessing import StandardScaler\n",
        "from sklearn.impute import SimpleImputer\n",
        "from sklearn.model_selection import train_test_split\n",
        "\n",
        "# Handling imbalanced data\n",
        "from imblearn.over_sampling import SMOTE\n",
        "\n",
        "# Save models\n",
        "import joblib\n",
        "\n",
        "# Ignore warnings\n",
        "import warnings\n",
        "warnings.filterwarnings('ignore')"
      ],
      "metadata": {
        "colab": {
          "base_uri": "https://localhost:8080/"
        },
        "id": "riUkWhWQSGkl",
        "outputId": "231ab3b2-8597-480d-be02-56ee8b63c0e8"
      },
      "execution_count": 39,
      "outputs": [
        {
          "output_type": "stream",
          "name": "stdout",
          "text": [
            "Requirement already satisfied: imbalanced-learn in /usr/local/lib/python3.10/dist-packages (0.12.4)\n",
            "Requirement already satisfied: xgboost in /usr/local/lib/python3.10/dist-packages (2.1.2)\n",
            "Requirement already satisfied: tensorflow in /usr/local/lib/python3.10/dist-packages (2.17.1)\n",
            "Collecting scikeras[tensorflow]\n",
            "  Downloading scikeras-0.13.0-py3-none-any.whl.metadata (3.1 kB)\n",
            "Requirement already satisfied: numpy>=1.17.3 in /usr/local/lib/python3.10/dist-packages (from imbalanced-learn) (1.26.4)\n",
            "Requirement already satisfied: scipy>=1.5.0 in /usr/local/lib/python3.10/dist-packages (from imbalanced-learn) (1.13.1)\n",
            "Requirement already satisfied: scikit-learn>=1.0.2 in /usr/local/lib/python3.10/dist-packages (from imbalanced-learn) (1.5.2)\n",
            "Requirement already satisfied: joblib>=1.1.1 in /usr/local/lib/python3.10/dist-packages (from imbalanced-learn) (1.4.2)\n",
            "Requirement already satisfied: threadpoolctl>=2.0.0 in /usr/local/lib/python3.10/dist-packages (from imbalanced-learn) (3.5.0)\n",
            "Requirement already satisfied: nvidia-nccl-cu12 in /usr/local/lib/python3.10/dist-packages (from xgboost) (2.23.4)\n",
            "Requirement already satisfied: keras>=3.2.0 in /usr/local/lib/python3.10/dist-packages (from scikeras[tensorflow]) (3.5.0)\n",
            "Requirement already satisfied: absl-py>=1.0.0 in /usr/local/lib/python3.10/dist-packages (from tensorflow) (1.4.0)\n",
            "Requirement already satisfied: astunparse>=1.6.0 in /usr/local/lib/python3.10/dist-packages (from tensorflow) (1.6.3)\n",
            "Requirement already satisfied: flatbuffers>=24.3.25 in /usr/local/lib/python3.10/dist-packages (from tensorflow) (24.3.25)\n",
            "Requirement already satisfied: gast!=0.5.0,!=0.5.1,!=0.5.2,>=0.2.1 in /usr/local/lib/python3.10/dist-packages (from tensorflow) (0.6.0)\n",
            "Requirement already satisfied: google-pasta>=0.1.1 in /usr/local/lib/python3.10/dist-packages (from tensorflow) (0.2.0)\n",
            "Requirement already satisfied: h5py>=3.10.0 in /usr/local/lib/python3.10/dist-packages (from tensorflow) (3.12.1)\n",
            "Requirement already satisfied: libclang>=13.0.0 in /usr/local/lib/python3.10/dist-packages (from tensorflow) (18.1.1)\n",
            "Requirement already satisfied: ml-dtypes<0.5.0,>=0.3.1 in /usr/local/lib/python3.10/dist-packages (from tensorflow) (0.4.1)\n",
            "Requirement already satisfied: opt-einsum>=2.3.2 in /usr/local/lib/python3.10/dist-packages (from tensorflow) (3.4.0)\n",
            "Requirement already satisfied: packaging in /usr/local/lib/python3.10/dist-packages (from tensorflow) (24.2)\n",
            "Requirement already satisfied: protobuf!=4.21.0,!=4.21.1,!=4.21.2,!=4.21.3,!=4.21.4,!=4.21.5,<5.0.0dev,>=3.20.3 in /usr/local/lib/python3.10/dist-packages (from tensorflow) (4.25.5)\n",
            "Requirement already satisfied: requests<3,>=2.21.0 in /usr/local/lib/python3.10/dist-packages (from tensorflow) (2.32.3)\n",
            "Requirement already satisfied: setuptools in /usr/local/lib/python3.10/dist-packages (from tensorflow) (75.1.0)\n",
            "Requirement already satisfied: six>=1.12.0 in /usr/local/lib/python3.10/dist-packages (from tensorflow) (1.16.0)\n",
            "Requirement already satisfied: termcolor>=1.1.0 in /usr/local/lib/python3.10/dist-packages (from tensorflow) (2.5.0)\n",
            "Requirement already satisfied: typing-extensions>=3.6.6 in /usr/local/lib/python3.10/dist-packages (from tensorflow) (4.12.2)\n",
            "Requirement already satisfied: wrapt>=1.11.0 in /usr/local/lib/python3.10/dist-packages (from tensorflow) (1.16.0)\n",
            "Requirement already satisfied: grpcio<2.0,>=1.24.3 in /usr/local/lib/python3.10/dist-packages (from tensorflow) (1.68.0)\n",
            "Requirement already satisfied: tensorboard<2.18,>=2.17 in /usr/local/lib/python3.10/dist-packages (from tensorflow) (2.17.1)\n",
            "Requirement already satisfied: tensorflow-io-gcs-filesystem>=0.23.1 in /usr/local/lib/python3.10/dist-packages (from tensorflow) (0.37.1)\n",
            "Requirement already satisfied: wheel<1.0,>=0.23.0 in /usr/local/lib/python3.10/dist-packages (from astunparse>=1.6.0->tensorflow) (0.45.0)\n",
            "Requirement already satisfied: rich in /usr/local/lib/python3.10/dist-packages (from keras>=3.2.0->scikeras[tensorflow]) (13.9.4)\n",
            "Requirement already satisfied: namex in /usr/local/lib/python3.10/dist-packages (from keras>=3.2.0->scikeras[tensorflow]) (0.0.8)\n",
            "Requirement already satisfied: optree in /usr/local/lib/python3.10/dist-packages (from keras>=3.2.0->scikeras[tensorflow]) (0.13.1)\n",
            "Requirement already satisfied: charset-normalizer<4,>=2 in /usr/local/lib/python3.10/dist-packages (from requests<3,>=2.21.0->tensorflow) (3.4.0)\n",
            "Requirement already satisfied: idna<4,>=2.5 in /usr/local/lib/python3.10/dist-packages (from requests<3,>=2.21.0->tensorflow) (3.10)\n",
            "Requirement already satisfied: urllib3<3,>=1.21.1 in /usr/local/lib/python3.10/dist-packages (from requests<3,>=2.21.0->tensorflow) (2.2.3)\n",
            "Requirement already satisfied: certifi>=2017.4.17 in /usr/local/lib/python3.10/dist-packages (from requests<3,>=2.21.0->tensorflow) (2024.8.30)\n",
            "Requirement already satisfied: markdown>=2.6.8 in /usr/local/lib/python3.10/dist-packages (from tensorboard<2.18,>=2.17->tensorflow) (3.7)\n",
            "Requirement already satisfied: tensorboard-data-server<0.8.0,>=0.7.0 in /usr/local/lib/python3.10/dist-packages (from tensorboard<2.18,>=2.17->tensorflow) (0.7.2)\n",
            "Requirement already satisfied: werkzeug>=1.0.1 in /usr/local/lib/python3.10/dist-packages (from tensorboard<2.18,>=2.17->tensorflow) (3.1.3)\n",
            "Requirement already satisfied: MarkupSafe>=2.1.1 in /usr/local/lib/python3.10/dist-packages (from werkzeug>=1.0.1->tensorboard<2.18,>=2.17->tensorflow) (3.0.2)\n",
            "Requirement already satisfied: markdown-it-py>=2.2.0 in /usr/local/lib/python3.10/dist-packages (from rich->keras>=3.2.0->scikeras[tensorflow]) (3.0.0)\n",
            "Requirement already satisfied: pygments<3.0.0,>=2.13.0 in /usr/local/lib/python3.10/dist-packages (from rich->keras>=3.2.0->scikeras[tensorflow]) (2.18.0)\n",
            "Requirement already satisfied: mdurl~=0.1 in /usr/local/lib/python3.10/dist-packages (from markdown-it-py>=2.2.0->rich->keras>=3.2.0->scikeras[tensorflow]) (0.1.2)\n",
            "Downloading scikeras-0.13.0-py3-none-any.whl (26 kB)\n",
            "Installing collected packages: scikeras\n",
            "Successfully installed scikeras-0.13.0\n"
          ]
        }
      ]
    },
    {
      "cell_type": "markdown",
      "source": [
        "# 2.Load and Inspect the Dataset"
      ],
      "metadata": {
        "id": "M16upKWUqvaV"
      }
    },
    {
      "cell_type": "code",
      "execution_count": 2,
      "metadata": {
        "colab": {
          "base_uri": "https://localhost:8080/"
        },
        "id": "Clh3bFNPD6CY",
        "outputId": "b55190f5-6006-4f99-cee3-28445a0c08c6"
      },
      "outputs": [
        {
          "output_type": "stream",
          "name": "stdout",
          "text": [
            "Mounted at /content/drive\n",
            "Dataset Shape: (677494, 79)\n",
            "First 5 Rows:\n",
            "    diameter  extent  albedo  rot_per  GM  BV  UB  IR spec_B  spec_T  ...  \\\n",
            "0       NaN     NaN     NaN      NaN NaN NaN NaN NaN    NaN     NaN  ...   \n",
            "1       NaN     NaN     NaN      NaN NaN NaN NaN NaN    NaN     NaN  ...   \n",
            "2       NaN     NaN     NaN      NaN NaN NaN NaN NaN    NaN     NaN  ...   \n",
            "3       NaN     NaN     NaN      NaN NaN NaN NaN NaN    NaN     NaN  ...   \n",
            "4       NaN     NaN     NaN      NaN NaN NaN NaN NaN    NaN     NaN  ...   \n",
            "\n",
            "        rms  two_body  A1  A1_sigma  A2  A2_sigma  A3  A3_sigma  DT  DT_sigma  \n",
            "0  0.000533       NaN NaN       NaN NaN       NaN NaN       NaN NaN       NaN  \n",
            "1  0.071263       NaN NaN       NaN NaN       NaN NaN       NaN NaN       NaN  \n",
            "2  0.000002       NaN NaN       NaN NaN       NaN NaN       NaN NaN       NaN  \n",
            "3       NaN         T NaN       NaN NaN       NaN NaN       NaN NaN       NaN  \n",
            "4  0.339380       NaN NaN       NaN NaN       NaN NaN       NaN NaN       NaN  \n",
            "\n",
            "[5 rows x 79 columns]\n"
          ]
        }
      ],
      "source": [
        "# Mount Google Drive (if using Google Colab)\n",
        "from google.colab import drive\n",
        "drive.mount('/content/drive')\n",
        "\n",
        "# Import libraries\n",
        "import pandas as pd\n",
        "import numpy as np\n",
        "\n",
        "# Load the dataset\n",
        "file_path = '/content/drive/My Drive/Asteroid Collision Dataset V2.csv'\n",
        "df = pd.read_csv(file_path, low_memory=False)\n",
        "\n",
        "# Inspect the dataset\n",
        "print(\"Dataset Shape:\", df.shape)\n",
        "print(\"First 5 Rows:\\n\", df.head())\n"
      ]
    },
    {
      "cell_type": "markdown",
      "source": [
        "# 3.Initial EDA"
      ],
      "metadata": {
        "id": "x3lsHQuwtXI8"
      }
    },
    {
      "cell_type": "code",
      "source": [
        "print(\"\\n--- Initial EDA (Before Preprocessing) ---\")\n",
        "# Basic Info\n",
        "print(\"\\nDataframe Info:\")\n",
        "df.info()\n",
        "\n",
        "# Statistical Summary\n",
        "print(\"\\nStatistical Summary of Numeric Columns:\")\n",
        "print(df.describe(include=[np.number]))\n",
        "\n",
        "# Check missing values again visually\n",
        "missing_summary = df.isnull().mean().sort_values(ascending=False)*100\n",
        "print(\"\\nMissing Data Summary (Percentage of Missing Values):\\n\", missing_summary)\n",
        "\n",
        "# Plot Missing Values\n",
        "plt.figure(figsize=(10,5))\n",
        "missing_summary.plot(kind='bar', color='orange')\n",
        "plt.title('Percentage of Missing Values per Column (Initial)')\n",
        "plt.xlabel('Columns')\n",
        "plt.ylabel('Percentage Missing')\n",
        "plt.tight_layout()\n",
        "plt.show()"
      ],
      "metadata": {
        "id": "CJRS4AcJtey0"
      },
      "execution_count": null,
      "outputs": []
    },
    {
      "cell_type": "code",
      "source": [
        "# Distribution of MOID (Before Preprocessing)\n",
        "if 'moid' in df.columns:\n",
        "    plt.figure(figsize=(6,4))\n",
        "    sns.histplot(df['moid'], kde=True)\n",
        "    plt.title('Distribution of MOID (Before Preprocessing)')\n",
        "    plt.tight_layout()\n",
        "    plt.show()"
      ],
      "metadata": {
        "id": "vqZasHxJtp08"
      },
      "execution_count": null,
      "outputs": []
    },
    {
      "cell_type": "code",
      "source": [
        "# Correlation Heatmap (Initial)\n",
        "numeric_cols_initial = df.select_dtypes(include=[np.number]).columns\n",
        "corr_initial = df[numeric_cols_initial].corr()\n",
        "plt.figure(figsize=(12,8))\n",
        "sns.heatmap(corr_initial, annot=False, cmap='viridis')\n",
        "plt.title('Correlation Heatmap (Before Preprocessing)')\n",
        "plt.tight_layout()\n",
        "plt.show()"
      ],
      "metadata": {
        "id": "dT6OUV-4txOc"
      },
      "execution_count": null,
      "outputs": []
    },
    {
      "cell_type": "markdown",
      "source": [
        "# 4.Data Preprocessing"
      ],
      "metadata": {
        "id": "FSkjg3op3ecd"
      }
    },
    {
      "cell_type": "markdown",
      "source": [
        "## 4.1. Handle Missing Data"
      ],
      "metadata": {
        "id": "3xKMqMbe3gl-"
      }
    },
    {
      "cell_type": "code",
      "source": [
        "# Analyze missing data\n",
        "missing_summary = df.isnull().mean().sort_values(ascending=False) * 100\n",
        "missing_summary = missing_summary[missing_summary > 0]\n",
        "print(\"\\nMissing Data Summary (Percentage of Missing Values):\")\n",
        "print(missing_summary)\n",
        "\n",
        "# Drop columns with >90% missing values or irrelevant\n",
        "cols_to_drop_missing = missing_summary[missing_summary > 90].index.tolist()\n",
        "irrelevant_columns = ['producer', 'equinox', 'orbit_id', 'pdes', 'full_name', 'name', 'prefix']\n",
        "cols_to_drop = list(set(cols_to_drop_missing + irrelevant_columns))\n",
        "\n",
        "cols_to_drop = [col for col in cols_to_drop if col in df.columns]\n",
        "\n",
        "df.drop(columns=cols_to_drop, inplace=True, errors='ignore')\n",
        "print(\"\\nDropped Columns:\")\n",
        "print(cols_to_drop)"
      ],
      "metadata": {
        "colab": {
          "base_uri": "https://localhost:8080/"
        },
        "id": "sCGDZzB9F2E6",
        "outputId": "5512d3c3-9ae6-4f83-b54e-e970f1e329aa"
      },
      "execution_count": 3,
      "outputs": [
        {
          "output_type": "stream",
          "name": "stdout",
          "text": [
            "\n",
            "Missing Data Summary (Percentage of Missing Values):\n",
            "DT_sigma          100.000000\n",
            "extent            100.000000\n",
            "G                 100.000000\n",
            "M1                100.000000\n",
            "GM                100.000000\n",
            "BV                100.000000\n",
            "UB                100.000000\n",
            "IR                100.000000\n",
            "M2                100.000000\n",
            "spec_T            100.000000\n",
            "DT                100.000000\n",
            "K1                100.000000\n",
            "K2                100.000000\n",
            "PC                100.000000\n",
            "name               99.999852\n",
            "prefix             99.999410\n",
            "A3                 99.998967\n",
            "A3_sigma           99.998967\n",
            "A1_sigma           99.997491\n",
            "A1                 99.997491\n",
            "spec_B             99.992620\n",
            "A2_sigma           99.976531\n",
            "A2                 99.976531\n",
            "n_del_obs_used     99.910700\n",
            "n_dop_obs_used     99.910700\n",
            "rot_per            99.801179\n",
            "two_body           99.062427\n",
            "albedo             99.040582\n",
            "diameter_sigma     98.987002\n",
            "diameter           98.986559\n",
            "H_sigma            15.064635\n",
            "sigma_per           0.937868\n",
            "sigma_ad            0.937868\n",
            "pha                 0.937720\n",
            "moid                0.937573\n",
            "sigma_tp            0.937573\n",
            "sigma_n             0.937573\n",
            "sigma_ma            0.937573\n",
            "sigma_w             0.937573\n",
            "sigma_om            0.937573\n",
            "sigma_i             0.937573\n",
            "sigma_q             0.937573\n",
            "sigma_a             0.937573\n",
            "moid_jup            0.937573\n",
            "moid_ld             0.937573\n",
            "sigma_e             0.937573\n",
            "data_arc            0.392771\n",
            "H                   0.146717\n",
            "condition_code      0.001033\n",
            "neo                 0.000295\n",
            "per_y               0.000295\n",
            "per                 0.000295\n",
            "ad                  0.000295\n",
            "t_jup               0.000295\n",
            "rms                 0.000148\n",
            "dtype: float64\n"
          ]
        }
      ]
    },
    {
      "cell_type": "markdown",
      "source": [
        "## 4.2. Convert Columns to Numeric and Impute Missing Values"
      ],
      "metadata": {
        "id": "kvsCm3nj38HG"
      }
    },
    {
      "cell_type": "code",
      "source": [
        "# Convert columns to numeric where possible\n",
        "numeric_columns = df.select_dtypes(include=['float64', 'int64']).columns.tolist()\n",
        "columns_to_convert = list(set(df.columns) - set(numeric_columns))\n",
        "\n",
        "for col in columns_to_convert:\n",
        "    df[col] = pd.to_numeric(df[col], errors='coerce')\n",
        "\n",
        "# Impute missing values in numeric columns\n",
        "numeric_cols = df.select_dtypes(include=[np.number]).columns.tolist()\n",
        "imputer = SimpleImputer(strategy='mean')\n",
        "df[numeric_cols] = imputer.fit_transform(df[numeric_cols])"
      ],
      "metadata": {
        "id": "Ud_PwlNArh8P"
      },
      "execution_count": 7,
      "outputs": []
    },
    {
      "cell_type": "markdown",
      "source": [
        "## 4.3. Map Binary Columns"
      ],
      "metadata": {
        "id": "NRcOqnMe4DdG"
      }
    },
    {
      "cell_type": "code",
      "source": [
        "# Map 'Y'/'N' to 1/0 in binary columns\n",
        "binary_mapping = {'Y': 1, 'N': 0}\n",
        "for col in ['neo', 'pha']:\n",
        "    if col in df.columns:\n",
        "        df[col] = df[col].map(binary_mapping)"
      ],
      "metadata": {
        "id": "TKjjTidMrqMG"
      },
      "execution_count": 8,
      "outputs": []
    },
    {
      "cell_type": "markdown",
      "source": [
        "## 4.4. Handle Date Columns"
      ],
      "metadata": {
        "id": "EFFaP-6Ru880"
      }
    },
    {
      "cell_type": "code",
      "source": [
        "# Convert date columns to datetime and extract year, month, day\n",
        "date_cols = ['epoch_cal', 'tp_cal', 'first_obs', 'last_obs']\n",
        "for col in date_cols:\n",
        "    if col in df.columns:\n",
        "        df[col] = pd.to_datetime(df[col], errors='coerce', format='%Y-%m-%d')\n",
        "        df[f'{col}_year'] = df[col].dt.year\n",
        "        df[f'{col}_month'] = df[col].dt.month\n",
        "        df[f'{col}_day'] = df[col].dt.day\n",
        "        df.drop(columns=[col], inplace=True)"
      ],
      "metadata": {
        "id": "QAzCB_Vru-Tk"
      },
      "execution_count": null,
      "outputs": []
    },
    {
      "cell_type": "markdown",
      "source": [
        "## 4.5. One-Hot Encode Categorical Columns"
      ],
      "metadata": {
        "id": "OZr1LNEZvKcc"
      }
    },
    {
      "cell_type": "code",
      "source": [
        "# Identify remaining categorical columns\n",
        "remaining_categorical_cols = df.select_dtypes(include=['object', 'category']).columns.tolist()\n",
        "print(\"\\nRemaining Categorical Columns after Date conversion:\", remaining_categorical_cols)\n",
        "\n",
        "# One-hot encode the 'class' column if it exists\n",
        "if 'class' in df.columns:\n",
        "    df = pd.get_dummies(df, columns=['class'], prefix='class', drop_first=True)"
      ],
      "metadata": {
        "id": "98RmjDowvenV"
      },
      "execution_count": null,
      "outputs": []
    },
    {
      "cell_type": "code",
      "source": [
        "# Check unique values in the 'class' column\n",
        "if 'class' in df.columns:\n",
        "    print(\"Unique values in 'class' column:\", df['class'].unique())"
      ],
      "metadata": {
        "id": "_QuivUvVvwSw"
      },
      "execution_count": null,
      "outputs": []
    },
    {
      "cell_type": "markdown",
      "source": [
        "# 5.Feature Engineering"
      ],
      "metadata": {
        "id": "77bLo5fP5bgF"
      }
    },
    {
      "cell_type": "markdown",
      "source": [
        "## 5.1. Add Derived Features"
      ],
      "metadata": {
        "id": "OZSFDaAs58V1"
      }
    },
    {
      "cell_type": "code",
      "source": [
        "GRAVITATIONAL_CONSTANT = 39.478  # AU^3 / yr^2\n",
        "\n",
        "# Add derived features\n",
        "df['relative_orbital_distance'] = np.abs(df['q'] - df['a'] * (1 - df['e']))\n",
        "df['orbital_velocity'] = np.sqrt(GRAVITATIONAL_CONSTANT / df['a'])\n",
        "df['adjusted_eccentricity'] = df['e'] * df['a'] / df['q']"
      ],
      "metadata": {
        "colab": {
          "base_uri": "https://localhost:8080/"
        },
        "id": "IH4xPYohWkKd",
        "outputId": "35654607-049b-40e0-83af-71476aee415b"
      },
      "execution_count": 15,
      "outputs": [
        {
          "output_type": "stream",
          "name": "stderr",
          "text": [
            "/usr/local/lib/python3.10/dist-packages/pandas/core/arraylike.py:399: RuntimeWarning: invalid value encountered in sqrt\n",
            "  result = getattr(ufunc, method)(*inputs, **kwargs)\n"
          ]
        }
      ]
    },
    {
      "cell_type": "markdown",
      "source": [
        "## 5.2. Add Perturbed Features"
      ],
      "metadata": {
        "id": "tIlU4ieP5dte"
      }
    },
    {
      "cell_type": "code",
      "source": [
        "# Perturb orbital elements based on their uncertainties\n",
        "for col in ['a', 'e', 'q', 'i']:\n",
        "    sigma_col = f'sigma_{col}'\n",
        "    if sigma_col in df.columns:\n",
        "        df[f'{col}_perturbed'] = df[col] + np.random.normal(0, df[sigma_col])"
      ],
      "metadata": {
        "id": "KEcwBELfwEG8"
      },
      "execution_count": null,
      "outputs": []
    },
    {
      "cell_type": "markdown",
      "source": [
        "## 5.3. Create Target Variable"
      ],
      "metadata": {
        "id": "4UXaa08S7_rM"
      }
    },
    {
      "cell_type": "code",
      "source": [
        "# Create 'collision_risk' based on 'moid' (Minimum Orbit Intersection Distance)\n",
        "df['collision_risk'] = np.where(df['moid'] < 0.05, 1, 0)\n",
        "\n",
        "# Drop 'moid' and 'moid_ld' from features\n",
        "features_to_drop = ['moid', 'moid_ld']\n",
        "df.drop(columns=features_to_drop, inplace=True, errors='ignore')"
      ],
      "metadata": {
        "id": "gP__VH9GwYEc"
      },
      "execution_count": null,
      "outputs": []
    },
    {
      "cell_type": "markdown",
      "source": [
        "# 6.Prepare Data for Modeling"
      ],
      "metadata": {
        "id": "8acFs0W_6RlO"
      }
    },
    {
      "cell_type": "markdown",
      "source": [
        "## 6.1. Define Features and Target"
      ],
      "metadata": {
        "id": "bbkLe9ES6Tmu"
      }
    },
    {
      "cell_type": "code",
      "source": [
        "# Define features and target variable\n",
        "X = df.drop(columns=['collision_risk'])\n",
        "y = df['collision_risk']\n",
        "\n",
        "# Ensure only numeric features are used\n",
        "X = X.select_dtypes(include=[np.number])"
      ],
      "metadata": {
        "id": "n5l7Alif6Wym"
      },
      "execution_count": 19,
      "outputs": []
    },
    {
      "cell_type": "markdown",
      "source": [
        "## 6.2. Split the Dataset"
      ],
      "metadata": {
        "id": "635Oe_Ca-ayM"
      }
    },
    {
      "cell_type": "code",
      "source": [
        "# Split the dataset with stratification to maintain class distribution\n",
        "X_train, X_test, y_train, y_test = train_test_split(\n",
        "    X, y, test_size=0.2, random_state=42, stratify=y\n",
        ")"
      ],
      "metadata": {
        "colab": {
          "base_uri": "https://localhost:8080/"
        },
        "id": "xIVuyhZX-dkN",
        "outputId": "637764c5-3f80-4695-b76c-046ed7a4893a"
      },
      "execution_count": 20,
      "outputs": [
        {
          "output_type": "stream",
          "name": "stdout",
          "text": [
            "Columns with all missing values: Index(['epoch_cal_year', 'epoch_cal_month', 'epoch_cal_day', 'tp_cal_year',\n",
            "       'tp_cal_month', 'tp_cal_day'],\n",
            "      dtype='object')\n"
          ]
        }
      ]
    },
    {
      "cell_type": "markdown",
      "source": [
        "## 6.3. Handle Missing Values in Training and Testing Sets"
      ],
      "metadata": {
        "id": "qxOukc1E3DM1"
      }
    },
    {
      "cell_type": "code",
      "source": [
        "# Identify columns with all missing values and drop them\n",
        "all_missing_cols = X_train.columns[X_train.isnull().all()]\n",
        "print(\"Columns with all missing values:\", all_missing_cols.tolist())\n",
        "\n",
        "X_train.drop(columns=all_missing_cols, inplace=True)\n",
        "X_test.drop(columns=all_missing_cols, inplace=True)\n",
        "\n",
        "# Re-impute missing values\n",
        "imputer = SimpleImputer(strategy='mean')\n",
        "X_train = pd.DataFrame(imputer.fit_transform(X_train), columns=X_train.columns)\n",
        "X_test = pd.DataFrame(imputer.transform(X_test), columns=X_test.columns)\n",
        "\n",
        "# Verify no missing values remain\n",
        "print(\"Missing Values in X_train:\", X_train.isnull().sum().sum())\n",
        "print(\"Missing Values in X_test:\", X_test.isnull().sum().sum())"
      ],
      "metadata": {
        "colab": {
          "base_uri": "https://localhost:8080/"
        },
        "id": "p9UEFyp43GJ1",
        "outputId": "d1ee7899-1919-4da4-e257-9d99b89d4e8f"
      },
      "execution_count": 21,
      "outputs": [
        {
          "output_type": "stream",
          "name": "stdout",
          "text": [
            "Missing Values in X_train: 0\n",
            "Missing Values in X_test: 0\n"
          ]
        }
      ]
    },
    {
      "cell_type": "markdown",
      "source": [
        "## 6.4. Handle Class Imbalance with SMOTE"
      ],
      "metadata": {
        "id": "Tr2fh6Xp6ZYm"
      }
    },
    {
      "cell_type": "code",
      "source": [
        "from imblearn.over_sampling import SMOTE\n",
        "\n",
        "# Apply SMOTE to balance the classes in the training set\n",
        "smote = SMOTE(random_state=42)\n",
        "X_train_resampled, y_train_resampled = smote.fit_resample(X_train, y_train)\n",
        "\n",
        "print(\"Resampled Training Set Shape:\", X_train_resampled.shape)\n",
        "print(\"Class Distribution After Resampling:\\n\", y_train_resampled.value_counts())"
      ],
      "metadata": {
        "colab": {
          "base_uri": "https://localhost:8080/"
        },
        "id": "GckPuA3a6cdV",
        "outputId": "4ba9784f-f319-484a-ee4a-8fb64d77e44b"
      },
      "execution_count": 23,
      "outputs": [
        {
          "output_type": "stream",
          "name": "stdout",
          "text": [
            "Resampled Training Set Shape: (1054508, 50) (1054508,)\n"
          ]
        }
      ]
    },
    {
      "cell_type": "code",
      "source": [
        "print(\"Missing Values in the Entire Dataset:\\n\", df.isnull().sum())"
      ],
      "metadata": {
        "colab": {
          "base_uri": "https://localhost:8080/"
        },
        "id": "cqo7UfqkmFKj",
        "outputId": "314f7810-4745-47d1-ee09-a80549ef7951"
      },
      "execution_count": 26,
      "outputs": [
        {
          "output_type": "stream",
          "name": "stdout",
          "text": [
            "Missing Values in the Entire Dataset:\n",
            " a                 0\n",
            "e                 0\n",
            "i                 0\n",
            "om                0\n",
            "w                 0\n",
            "                 ..\n",
            "a_perturbed       0\n",
            "e_perturbed       0\n",
            "q_perturbed       0\n",
            "i_perturbed       0\n",
            "collision_risk    0\n",
            "Length: 68, dtype: int64\n"
          ]
        }
      ]
    },
    {
      "cell_type": "markdown",
      "source": [
        "## 6.5. Data Scaling"
      ],
      "metadata": {
        "id": "wgwfts100jxk"
      }
    },
    {
      "cell_type": "code",
      "source": [
        "from sklearn.preprocessing import StandardScaler\n",
        "\n",
        "# Initialize the scaler\n",
        "scaler = StandardScaler()\n",
        "\n",
        "# Fit the scaler on the training data and transform\n",
        "X_train_resampled_scaled = scaler.fit_transform(X_train_resampled)\n",
        "\n",
        "# Transform the test data using the same scaler\n",
        "X_test_scaled = scaler.transform(X_test)"
      ],
      "metadata": {
        "id": "Io78qKGI042t"
      },
      "execution_count": 27,
      "outputs": []
    },
    {
      "cell_type": "markdown",
      "source": [
        "# 7.Secondary EDA"
      ],
      "metadata": {
        "id": "fjmUlkJQ0A9W"
      }
    },
    {
      "cell_type": "code",
      "source": [
        "print(\"\\n--- Secondary EDA (After Preprocessing) ---\")\n",
        "\n",
        "# Check the shape and distribution again\n",
        "print(\"Post-Preprocessing X_train_resampled_scaled shape:\", X_train_resampled_scaled.shape)\n",
        "print(\"Class Distribution in y_train_resampled:\\n\", y_train_resampled.value_counts())\n",
        "\n",
        "# Plot class distribution after SMOTE\n",
        "plt.figure(figsize=(5,4))\n",
        "y_train_resampled.value_counts().plot(kind='bar', color='green')\n",
        "plt.title('Class Distribution After SMOTE')\n",
        "plt.xlabel('Collision Risk Class')\n",
        "plt.ylabel('Count')\n",
        "plt.tight_layout()\n",
        "plt.show()\n",
        "\n",
        "# Correlation heatmap after preprocessing (use the X_train after imputation/dropping)\n",
        "X_train_post = pd.DataFrame(X_train_resampled_scaled, columns=X_train.columns)\n",
        "corr_post = pd.DataFrame(X_train_post, columns=X_train.columns).corr()\n",
        "plt.figure(figsize=(12,8))\n",
        "sns.heatmap(corr_post, annot=False, cmap='coolwarm')\n",
        "plt.title('Correlation Heatmap (After Preprocessing & Resampling)')\n",
        "plt.tight_layout()\n",
        "plt.show()\n",
        "\n",
        "# Distribution of a few key features after preprocessing\n",
        "key_features = X_train.columns[:5]  # first 5 numeric features for demonstration\n",
        "X_train_post_df = pd.DataFrame(X_train_resampled_scaled, columns=X_train.columns)\n",
        "for feat in key_features:\n",
        "    plt.figure(figsize=(6,4))\n",
        "    sns.histplot(X_train_post_df[feat], kde=True)\n",
        "    plt.title(f'Distribution of {feat} After Preprocessing')\n",
        "    plt.tight_layout()\n",
        "    plt.show()"
      ],
      "metadata": {
        "id": "yIVpAkRw02jd"
      },
      "execution_count": null,
      "outputs": []
    },
    {
      "cell_type": "markdown",
      "source": [
        "# 8.Model Training and Evaluation"
      ],
      "metadata": {
        "id": "5UKd0fJW1JXM"
      }
    },
    {
      "cell_type": "markdown",
      "source": [
        "## 8.1 Random Forest Classifier"
      ],
      "metadata": {
        "id": "9T6NOmVCyS3z"
      }
    },
    {
      "cell_type": "markdown",
      "source": [
        "### 8.1.1. Initial Model Training"
      ],
      "metadata": {
        "id": "Eq0LslfD1WXQ"
      }
    },
    {
      "cell_type": "code",
      "source": [
        "# Initialize the Random Forest model\n",
        "rf_model_initial = RandomForestClassifier(\n",
        "    n_estimators=100,\n",
        "    random_state=42,\n",
        "    class_weight='balanced',\n",
        "    n_jobs=-1\n",
        ")\n",
        "\n",
        "# Train the initial model\n",
        "rf_model_initial.fit(X_train_resampled_scaled, y_train_resampled)\n",
        "\n",
        "# Make predictions on the test set\n",
        "y_pred_rf_initial = rf_model_initial.predict(X_test_scaled)\n",
        "\n",
        "# Evaluate the initial model\n",
        "print(\"Initial Random Forest Classification Report:\")\n",
        "print(classification_report(y_test, y_pred_rf_initial, digits=4))\n",
        "\n",
        "# Feature importance analysis\n",
        "feature_importance_rf = pd.DataFrame({\n",
        "    'Feature': X_train.columns,\n",
        "    'Importance': rf_model_initial.feature_importances_\n",
        "}).sort_values(by='Importance', ascending=False)\n",
        "\n",
        "# Display top 10 features\n",
        "print(\"Top 10 Most Important Features (Initial Random Forest):\")\n",
        "print(feature_importance_rf.head(10))"
      ],
      "metadata": {
        "colab": {
          "base_uri": "https://localhost:8080/"
        },
        "id": "bjM6l8FoGB2U",
        "outputId": "fc0ea0a2-fe2c-4ced-81c3-b8f3acee00f4"
      },
      "execution_count": 29,
      "outputs": [
        {
          "output_type": "stream",
          "name": "stdout",
          "text": [
            "Random Forest training completed.\n"
          ]
        }
      ]
    },
    {
      "cell_type": "markdown",
      "source": [
        "### 8.1.2. Hyperparameter Tuning with HalvingRandomSearchCV"
      ],
      "metadata": {
        "id": "Qb3Sk93D15h8"
      }
    },
    {
      "cell_type": "code",
      "source": [
        "# Simplified parameter grid\n",
        "param_grid_rf = {\n",
        "    'n_estimators': [100, 200],\n",
        "    'max_depth': [10, 20],\n",
        "    'min_samples_split': [2, 5],\n",
        "    'class_weight': ['balanced']\n",
        "}\n",
        "\n",
        "# Initialize the Random Forest model\n",
        "rf_model_base = RandomForestClassifier(random_state=42, n_jobs=-1)\n",
        "\n",
        "# Initialize HalvingRandomSearchCV\n",
        "halving_random_search_rf = HalvingRandomSearchCV(\n",
        "    estimator=rf_model_base,\n",
        "    param_distributions=param_grid_rf,\n",
        "    factor=2,\n",
        "    resource='n_estimators',\n",
        "    max_resources=200,\n",
        "    random_state=42,\n",
        "    n_jobs=-1,\n",
        "    verbose=1\n",
        ")\n",
        "\n",
        "# Fit the model\n",
        "halving_random_search_rf.fit(X_train_resampled_scaled, y_train_resampled)\n",
        "\n",
        "# Best parameters\n",
        "print(\"Best parameters found for Random Forest:\")\n",
        "print(halving_random_search_rf.best_params_)\n"
      ],
      "metadata": {
        "id": "fNjsAj-g18f0"
      },
      "execution_count": null,
      "outputs": []
    },
    {
      "cell_type": "markdown",
      "source": [
        "### 8.1.3. Evaluate the Tuned Random Forest Model"
      ],
      "metadata": {
        "id": "RQT2arExGkUs"
      }
    },
    {
      "cell_type": "code",
      "source": [
        "# Use the best estimator\n",
        "best_rf_model = halving_random_search_rf.best_estimator_\n",
        "\n",
        "# Make predictions on the test set\n",
        "y_pred_rf = best_rf_model.predict(X_test_scaled)\n",
        "\n",
        "# Evaluate the tuned model\n",
        "print(\"Tuned Random Forest Classification Report:\")\n",
        "print(classification_report(y_test, y_pred_rf, digits=4))\n",
        "\n",
        "print(\"Tuned Random Forest Confusion Matrix:\")\n",
        "print(confusion_matrix(y_test, y_pred_rf))\n",
        "\n",
        "# Accuracy score\n",
        "accuracy_rf = accuracy_score(y_test, y_pred_rf)\n",
        "print(\"Tuned Random Forest Accuracy:\", accuracy_rf)"
      ],
      "metadata": {
        "colab": {
          "base_uri": "https://localhost:8080/"
        },
        "id": "XY_fW_otGm8s",
        "outputId": "5b1bd9a9-27a0-4ab5-d34e-c1807a1f8d1a"
      },
      "execution_count": 30,
      "outputs": [
        {
          "output_type": "stream",
          "name": "stdout",
          "text": [
            "Random Forest Classification Report:\n",
            "              precision    recall  f1-score   support\n",
            "\n",
            "           0     0.9996    0.9955    0.9975    131814\n",
            "           1     0.8586    0.9872    0.9185      3685\n",
            "\n",
            "    accuracy                         0.9952    135499\n",
            "   macro avg     0.9291    0.9914    0.9580    135499\n",
            "weighted avg     0.9958    0.9952    0.9954    135499\n",
            "\n",
            "Random Forest Confusion Matrix:\n",
            "[[131215    599]\n",
            " [    47   3638]]\n",
            "Random Forest Accuracy: 0.9952324371397575\n"
          ]
        }
      ]
    },
    {
      "cell_type": "markdown",
      "source": [
        "## 8.2 Gradient Boosting Classifier (XGBoost)"
      ],
      "metadata": {
        "id": "qgsOIvRnHEKb"
      }
    },
    {
      "cell_type": "markdown",
      "source": [
        "### 8.2.1. Initial Model Training"
      ],
      "metadata": {
        "id": "MWr1gA0H26Ag"
      }
    },
    {
      "cell_type": "code",
      "source": [
        "# Initialize the XGBoost model\n",
        "xgb_model_initial = XGBClassifier(\n",
        "    n_estimators=100,\n",
        "    random_state=42,\n",
        "    use_label_encoder=False,\n",
        "    eval_metric='logloss'\n",
        ")\n",
        "\n",
        "# Train the initial model\n",
        "xgb_model_initial.fit(X_train_resampled_scaled, y_train_resampled)\n",
        "\n",
        "# Make predictions on the test set\n",
        "y_pred_xgb_initial = xgb_model_initial.predict(X_test_scaled)\n",
        "\n",
        "# Evaluate the initial model\n",
        "print(\"Initial XGBoost Classification Report:\")\n",
        "print(classification_report(y_test, y_pred_xgb_initial, digits=4))\n",
        "\n",
        "# Feature importance analysis\n",
        "feature_importance_xgb = pd.DataFrame({\n",
        "    'Feature': X_train.columns,\n",
        "    'Importance': xgb_model_initial.feature_importances_\n",
        "}).sort_values(by='Importance', ascending=False)\n",
        "\n",
        "# Display top 10 features\n",
        "print(\"Top 10 Most Important Features (Initial XGBoost):\")\n",
        "print(feature_importance_xgb.head(10))\n"
      ],
      "metadata": {
        "colab": {
          "base_uri": "https://localhost:8080/"
        },
        "id": "ppazMYn3HVjL",
        "outputId": "b008d7f4-3ae7-4597-8b48-bd6828621e3b"
      },
      "execution_count": 35,
      "outputs": [
        {
          "output_type": "stream",
          "name": "stderr",
          "text": [
            "/usr/local/lib/python3.10/dist-packages/xgboost/core.py:158: UserWarning: [14:36:57] WARNING: /workspace/src/learner.cc:740: \n",
            "Parameters: { \"use_label_encoder\" } are not used.\n",
            "\n",
            "  warnings.warn(smsg, UserWarning)\n"
          ]
        },
        {
          "output_type": "stream",
          "name": "stdout",
          "text": [
            "XGBoost training completed.\n"
          ]
        }
      ]
    },
    {
      "cell_type": "markdown",
      "source": [
        "### 8.2.2 Hyperparameter Tuning with RandomizedSearchCV and Early Stopping"
      ],
      "metadata": {
        "id": "QC0JVG5oHXSU"
      }
    },
    {
      "cell_type": "code",
      "source": [
        "# Simplified parameter grid\n",
        "param_grid_xgb = {\n",
        "    'n_estimators': [100, 200],\n",
        "    'max_depth': [3, 6],\n",
        "    'learning_rate': [0.01, 0.1],\n",
        "    'subsample': [0.8, 1.0],\n",
        "    'colsample_bytree': [0.8, 1.0],\n",
        "    'scale_pos_weight': [1]  # Since classes are balanced after SMOTE\n",
        "}\n",
        "\n",
        "# Initialize the XGBoost model\n",
        "xgb_model_base = XGBClassifier(random_state=42, use_label_encoder=False, eval_metric='logloss')\n",
        "\n",
        "# Initialize RandomizedSearchCV\n",
        "random_search_xgb = RandomizedSearchCV(\n",
        "    estimator=xgb_model_base,\n",
        "    param_distributions=param_grid_xgb,\n",
        "    n_iter=10,\n",
        "    scoring='f1',\n",
        "    cv=3,\n",
        "    random_state=42,\n",
        "    n_jobs=-1,\n",
        "    verbose=1\n",
        ")\n",
        "\n",
        "# Fit the model with early stopping\n",
        "random_search_xgb.fit(\n",
        "    X_train_resampled_scaled,\n",
        "    y_train_resampled,\n",
        "    eval_set=[(X_test_scaled, y_test)],\n",
        "    early_stopping_rounds=10,\n",
        "    verbose=False\n",
        ")\n",
        "\n",
        "# Best parameters\n",
        "print(\"Best parameters found for XGBoost:\")\n",
        "print(random_search_xgb.best_params_)"
      ],
      "metadata": {
        "colab": {
          "base_uri": "https://localhost:8080/"
        },
        "id": "xDiOpCxcHZh8",
        "outputId": "5880190a-7f6e-4ae8-aa04-608c8fd8c79e"
      },
      "execution_count": 36,
      "outputs": [
        {
          "output_type": "stream",
          "name": "stdout",
          "text": [
            "XGBoost Classification Report:\n",
            "              precision    recall  f1-score   support\n",
            "\n",
            "           0     0.9992    0.9972    0.9982    131814\n",
            "           1     0.9057    0.9723    0.9378      3685\n",
            "\n",
            "    accuracy                         0.9965    135499\n",
            "   macro avg     0.9525    0.9847    0.9680    135499\n",
            "weighted avg     0.9967    0.9965    0.9966    135499\n",
            "\n",
            "XGBoost Confusion Matrix:\n",
            "[[131441    373]\n",
            " [   102   3583]]\n",
            "XGBoost Accuracy: 0.9964944390733511\n"
          ]
        }
      ]
    },
    {
      "cell_type": "markdown",
      "source": [
        "### 8.2.3 Evaluate the Tuned XGBoost Model"
      ],
      "metadata": {
        "id": "-ApSYptTHbVj"
      }
    },
    {
      "cell_type": "code",
      "source": [
        "# Use the best estimator\n",
        "best_xgb_model = random_search_xgb.best_estimator_\n",
        "\n",
        "# Make predictions\n",
        "y_pred_xgb = best_xgb_model.predict(X_test_scaled)\n",
        "\n",
        "# Evaluate the tuned model\n",
        "print(\"Tuned XGBoost Classification Report:\")\n",
        "print(classification_report(y_test, y_pred_xgb, digits=4))\n",
        "\n",
        "print(\"Tuned XGBoost Confusion Matrix:\")\n",
        "print(confusion_matrix(y_test, y_pred_xgb))\n",
        "\n",
        "# Accuracy score\n",
        "accuracy_xgb = accuracy_score(y_test, y_pred_xgb)\n",
        "print(\"Tuned XGBoost Accuracy:\", accuracy_xgb)"
      ],
      "metadata": {
        "colab": {
          "base_uri": "https://localhost:8080/",
          "height": 772
        },
        "id": "uvHaY_Q3HfwL",
        "outputId": "01979670-0528-401e-fc75-05205d79cf51"
      },
      "execution_count": 37,
      "outputs": [
        {
          "output_type": "stream",
          "name": "stdout",
          "text": [
            "Top 10 Most Important Features (XGBoost):\n",
            "                      Feature  Importance\n",
            "5                           q    0.904331\n",
            "48                q_perturbed    0.030827\n",
            "14                        pha    0.022257\n",
            "13                        neo    0.006508\n",
            "11                          H    0.004867\n",
            "43  relative_orbital_distance    0.003315\n",
            "9              condition_code    0.002372\n",
            "7                       per_y    0.001929\n",
            "41             last_obs_month    0.001708\n",
            "49                i_perturbed    0.001238\n"
          ]
        },
        {
          "output_type": "display_data",
          "data": {
            "text/plain": [
              "<Figure size 1000x600 with 1 Axes>"
            ],
            "image/png": "[encoded data removed]"
          },
          "metadata": {}
        }
      ]
    },
    {
      "cell_type": "markdown",
      "source": [
        "## 8.3 Neural Network with Keras Tuner and Hyperband"
      ],
      "metadata": {
        "id": "yO2e11C93beT"
      }
    },
    {
      "cell_type": "markdown",
      "source": [
        "### 8.3.1. Define the Model-Building Function"
      ],
      "metadata": {
        "id": "kZJva-Bz3f-l"
      }
    },
    {
      "cell_type": "code",
      "source": [
        "def build_model(hp):\n",
        "    model = tf.keras.Sequential()\n",
        "    # Tune the number of units in the first Dense layer\n",
        "    hp_units = hp.Int('units', min_value=64, max_value=256, step=64)\n",
        "    model.add(tf.keras.layers.Dense(units=hp_units, activation='relu', input_shape=(X_train_resampled_scaled.shape[1],)))\n",
        "    # Tune the dropout rate\n",
        "    hp_dropout = hp.Float('dropout_rate', min_value=0.2, max_value=0.5, step=0.1)\n",
        "    model.add(tf.keras.layers.Dropout(rate=hp_dropout))\n",
        "    # Output layer\n",
        "    model.add(tf.keras.layers.Dense(1, activation='sigmoid'))\n",
        "    # Compile the model\n",
        "    hp_optimizer = hp.Choice('optimizer', values=['adam', 'rmsprop'])\n",
        "    model.compile(optimizer=hp_optimizer, loss='binary_crossentropy', metrics=['accuracy'])\n",
        "    return model"
      ],
      "metadata": {
        "id": "McnRK0_63icr"
      },
      "execution_count": null,
      "outputs": []
    },
    {
      "cell_type": "markdown",
      "source": [
        "### 8.3.2. Initialize the Hyperband Tuner"
      ],
      "metadata": {
        "id": "VHttZ2_j4GKt"
      }
    },
    {
      "cell_type": "code",
      "source": [
        "tuner = kt.Hyperband(\n",
        "    build_model,\n",
        "    objective='val_accuracy',\n",
        "    max_epochs=10,\n",
        "    factor=3,\n",
        "    directory='hyperband_dir',\n",
        "    project_name='collision_risk_tuning'\n",
        ")"
      ],
      "metadata": {
        "id": "L3GFGshj4KuP"
      },
      "execution_count": null,
      "outputs": []
    },
    {
      "cell_type": "markdown",
      "source": [
        "### 8.3.3. Run the Hyperparameter Search"
      ],
      "metadata": {
        "id": "C9O8P_qH4Mhs"
      }
    },
    {
      "cell_type": "code",
      "source": [
        "stop_early = tf.keras.callbacks.EarlyStopping(monitor='val_loss', patience=2)\n",
        "\n",
        "tuner.search(\n",
        "    X_train_resampled_scaled,\n",
        "    y_train_resampled,\n",
        "    epochs=10,\n",
        "    validation_data=(X_test_scaled, y_test),\n",
        "    callbacks=[stop_early],\n",
        "    verbose=1\n",
        ")\n",
        "\n",
        "# Get the optimal hyperparameters\n",
        "best_hps = tuner.get_best_hyperparameters(num_trials=1)[0]\n",
        "print(\"Best hyperparameters found for Neural Network:\")\n",
        "print(f\"Units: {best_hps.get('units')}\")\n",
        "print(f\"Dropout Rate: {best_hps.get('dropout_rate')}\")\n",
        "print(f\"Optimizer: {best_hps.get('optimizer')}\")"
      ],
      "metadata": {
        "id": "oTTDpg9I4P0j"
      },
      "execution_count": null,
      "outputs": []
    },
    {
      "cell_type": "markdown",
      "source": [
        "### 8.3.4. Build and Train the Best Model"
      ],
      "metadata": {
        "id": "5HDOCBTi4Vl8"
      }
    },
    {
      "cell_type": "code",
      "source": [
        "# Build the best model\n",
        "nn_model = tuner.hypermodel.build(best_hps)\n",
        "\n",
        "# Train the model\n",
        "history = nn_model.fit(\n",
        "    X_train_resampled_scaled,\n",
        "    y_train_resampled,\n",
        "    epochs=10,\n",
        "    validation_data=(X_test_scaled, y_test),\n",
        "    callbacks=[stop_early],\n",
        "    verbose=1\n",
        ")"
      ],
      "metadata": {
        "id": "I8jPeIC64X8E"
      },
      "execution_count": null,
      "outputs": []
    },
    {
      "cell_type": "markdown",
      "source": [
        "### 8.3.5. Evaluate the Tuned Neural Network Model"
      ],
      "metadata": {
        "id": "9RTS_ZOQ4cUu"
      }
    },
    {
      "cell_type": "code",
      "source": [
        "# Make predictions on the test set\n",
        "y_pred_nn_prob = nn_model.predict(X_test_scaled).flatten()\n",
        "y_pred_nn = (y_pred_nn_prob >= 0.5).astype(int)\n",
        "\n",
        "# Evaluate the model\n",
        "print(\"Tuned Neural Network Classification Report:\")\n",
        "print(classification_report(y_test, y_pred_nn, digits=4))\n",
        "\n",
        "print(\"Tuned Neural Network Confusion Matrix:\")\n",
        "print(confusion_matrix(y_test, y_pred_nn))\n",
        "\n",
        "# Accuracy score\n",
        "accuracy_nn = accuracy_score(y_test, y_pred_nn)\n",
        "print(\"Tuned Neural Network Accuracy:\", accuracy_nn)"
      ],
      "metadata": {
        "id": "syZEpKDI4eH0"
      },
      "execution_count": null,
      "outputs": []
    },
    {
      "cell_type": "markdown",
      "source": [
        "# 9. Model Evaluation and Comparison"
      ],
      "metadata": {
        "id": "T48xlNIB4k1l"
      }
    },
    {
      "cell_type": "markdown",
      "source": [
        "## 9.1. Extract Metrics for Minority Class"
      ],
      "metadata": {
        "id": "I5cSW5Re4nal"
      }
    },
    {
      "cell_type": "code",
      "source": [
        "# Function to extract metrics for the minority class\n",
        "def get_minority_class_metrics(report):\n",
        "    lines = report.strip().split('\\n')\n",
        "    for line in lines[2:]:\n",
        "        if line.strip().startswith('1 '):\n",
        "            values = line.strip().split()\n",
        "            precision = float(values[1])\n",
        "            recall = float(values[2])\n",
        "            f1_score = float(values[3])\n",
        "            support = int(values[4])\n",
        "            return precision, recall, f1_score, support"
      ],
      "metadata": {
        "id": "hwe3ldVE4q1P"
      },
      "execution_count": null,
      "outputs": []
    },
    {
      "cell_type": "markdown",
      "source": [
        "## 9.2. Compile Metrics for Comparison"
      ],
      "metadata": {
        "id": "kIN0nQ0M4tFU"
      }
    },
    {
      "cell_type": "code",
      "source": [
        "# Extract metrics for the tuned models\n",
        "models = ['Random Forest', 'XGBoost', 'Neural Network']\n",
        "reports = [classification_report(y_test, y_pred_rf, digits=4),\n",
        "           classification_report(y_test, y_pred_xgb, digits=4),\n",
        "           classification_report(y_test, y_pred_nn, digits=4)]\n",
        "\n",
        "metrics = []\n",
        "for model_name, report in zip(models, reports):\n",
        "    precision, recall, f1_score, support = get_minority_class_metrics(report)\n",
        "    metrics.append({\n",
        "        'Model': model_name,\n",
        "        'Precision': precision,\n",
        "        'Recall': recall,\n",
        "        'F1-Score': f1_score,\n",
        "        'Support': support\n",
        "    })\n",
        "\n",
        "# Create DataFrame\n",
        "metrics_df = pd.DataFrame(metrics)\n",
        "\n",
        "# Display the comparison\n",
        "print(\"\\nComparison of Tuned Models on Minority Class Metrics:\")\n",
        "print(metrics_df)"
      ],
      "metadata": {
        "id": "MlvcQr_N4xNM"
      },
      "execution_count": null,
      "outputs": []
    },
    {
      "cell_type": "markdown",
      "source": [
        "## 9.3. Visualize Metrics"
      ],
      "metadata": {
        "id": "hSkA23Ww4042"
      }
    },
    {
      "cell_type": "code",
      "source": [
        "# Plotting the metrics for comparison\n",
        "fig, ax = plt.subplots(1, 3, figsize=(18, 5))\n",
        "\n",
        "# Precision\n",
        "ax[0].bar(metrics_df['Model'], metrics_df['Precision'], color='blue')\n",
        "ax[0].set_title('Precision for Minority Class')\n",
        "ax[0].set_ylim([0, 1])\n",
        "ax[0].set_ylabel('Precision')\n",
        "\n",
        "# Recall\n",
        "ax[1].bar(metrics_df['Model'], metrics_df['Recall'], color='green')\n",
        "ax[1].set_title('Recall for Minority Class')\n",
        "ax[1].set_ylim([0, 1])\n",
        "ax[1].set_ylabel('Recall')\n",
        "\n",
        "# F1-Score\n",
        "ax[2].bar(metrics_df['Model'], metrics_df['F1-Score'], color='red')\n",
        "ax[2].set_title('F1-Score for Minority Class')\n",
        "ax[2].set_ylim([0, 1])\n",
        "ax[2].set_ylabel('F1-Score')\n",
        "\n",
        "plt.tight_layout()\n",
        "plt.show()"
      ],
      "metadata": {
        "id": "wpHHQPs144fl"
      },
      "execution_count": null,
      "outputs": []
    },
    {
      "cell_type": "markdown",
      "source": [
        "# 10. Save the Best Models"
      ],
      "metadata": {
        "id": "7lCQTdTP47Vf"
      }
    },
    {
      "cell_type": "code",
      "source": [
        "# Save the best Random Forest model\n",
        "joblib.dump(best_rf_model, 'best_random_forest_model.pkl')\n",
        "\n",
        "# Save the best XGBoost model\n",
        "joblib.dump(best_xgb_model, 'best_xgboost_model.pkl')\n",
        "\n",
        "# Save the best Neural Network model\n",
        "nn_model.save('best_neural_network_model.h5')"
      ],
      "metadata": {
        "id": "CMea_m_J49fd"
      },
      "execution_count": null,
      "outputs": []
    }
  ]
}